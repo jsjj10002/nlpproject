{
 "cells": [
  {
   "cell_type": "markdown",
   "metadata": {},
   "source": [
    "# 계약서 약관 유/불리 조항 판단 모델 개발\n",
    "### 빅데이터융합학과 215083 박재석\n",
    "\n",
    "python = 3.7\n",
    "\n",
    "torch =1.10.1\n",
    "\n",
    "GPU: A5000\n",
    "\n",
    "---\n",
    "\n",
    "## 1. 개요\n",
    "    이 프로젝트는 AI Hub에서 수집한 1만건 이상의 약관 데이터를 활용하여 계약서 약관의 유불리 조항을 판단하는 모델을 개발하는 것이다. 수집된 데이터는 각 조항의 위법성과 유리/불리 여부가 라벨링되어 있으며, 이를 학습하여 클라이언트가 제공한 계약서 약관의 유불리 판단을 지원하는 서비스의 핵심 기능을 구현한다.\n",
    "### 1-1. 제작 배경\n",
    "    최근 온라인 거래와 전자계약이 증가하면서 일반 소비자들이 복잡한 계약서와 약관을 검토해야 하는 상황이 늘어나고 있다. 통계청에 따르면 2023년 온라인 쇼핑 거래액이 전년 대비 8.1% 증가한 201조원을 기록했으며, 전자계약 시장 규모도 연평균 20% 이상 성장하고 있다. 하지만 법률 전문가가 아닌 일반인들은 계약 조항의 유불리를 판단하기 어려워 불공정한 계약을 체결할 위험이 있다. 실제로 한국소비자원의 조사에 따르면 2022년 전자상거래 관련 소비자 피해 상담이 약 5만 건에 달했으며, 그 중 40% 이상이 불공정 약관으로 인한 피해였다. 이러한 문제를 해결하기 위해 AI 기술을 활용하여 계약서 약관의 유불리를 자동으로 판단해주는 서비스의 필요성이 대두되었다. \n",
    "### 1-2. 서비스의 적절성\n",
    "    - 본 서비스는 자연어처리(NLP) 기술의 발전으로 텍스트 분류와 의미 분석이 고도화되어 계약서 조항 분석에 적합하며, BERT/GPT 등의 사전학습 모델을 통해 법률 문서의 맥락과 의미를 정확하게 파악할 수 있다. 또한 딥러닝 기반 분류 모델로 새로운 계약서 조항에 대한 일관된 판단 기준을 제시하고, KoBERT/KoGPT 등 한국어 특화 언어모델을 활용하여 국내 계약서 분석에 최적화된 성능을 구현하며, 지속적인 학습을 통해 모델 성능을 개선하고 새로운 계약 유형에 대한 적응력을 확보할 수 있다.\n",
    "\n",
    "    - 본 서비스는 일반 소비자들의 법률 전문성 부족으로 인한 불공정 계약 체결 위험을 해소하고 시간과 비용을 절감할 수 있으며, 자연어 처리 AI 기술을 활용한 자동화된 분석으로 기업의 법무 업무 효율성을 높일 수 있다. 또한 기존 법률 자문 서비스 대비 높은 접근성과 비용 효율성으로 중소기업과 개인 사업자들도 부담 없이 활용할 수 있고 24시간 실시간 분석이 가능하여 신속한 의사결정을 지원하며, 축적된 데이터를 바탕으로 업종별/계약 유형별 특화 서비스로 발전할 수 있는 확장성을 갖추고 있어 전자상거래가 급증하는 현 시점에서 소비자 권익 보호와 공정한 계약 문화 정착에 기여할 것으로 기대된다.     \n",
    "--- \n",
    "\n",
    "## 2. 문제 정의 \n"
   ]
  },
  {
   "cell_type": "markdown",
   "metadata": {},
   "source": [
    "## 3. 데이터 수집\n",
    "AI Hub에서 제공하는 [\"법률/규정 (판결서, 약관 등) 텍스트 분석 데이터\"](https://aihub.or.kr/aihubdata/data/view.do?currMenu=115&topMenu=100&dataSetSn=580) 를 활용하여 데이터를 수집하였다. \n",
    "\n",
    "    이 데이터셋은 1만 건 이상의 약관 조항에 대해 위법성 여부와 소비자 입장에서의 유·불리를 판단하고, 그 판단 근거를 태깅 및 라벨링한 약관 분석 데이터로 구성되어 있다. 본 프로젝트에서는 약관 조항 분석 데이터만을 활용하여 계약서 약관의 유불리를 판단하는 모델을 개발한다. 각 약관 조항은 JSON 형식으로 저장되어 있으며, 조항의 내용과 함께 위법성(ftcCnclsns) 및 유불리 여부(dvAntageous)가 라벨링되어 있어 법률 텍스트를 체계적으로 분석할 수 있는 데이터셋이 구축되었다. 데이터셋은 학습(train)용 8,000건과 검증(validation)용 1,000건으로 분할되어 있다.\n"
   ]
  },
  {
   "cell_type": "markdown",
   "metadata": {},
   "source": [
    "### 3-1. 탐색적 자료 분석"
   ]
  },
  {
   "cell_type": "code",
   "execution_count": 47,
   "metadata": {},
   "outputs": [
    {
     "name": "stdout",
     "output_type": "stream",
     "text": [
      "=== 유리한 조항 데이터 구조 ===\n",
      "{\n",
      "  \"clauseField\": \"24\",\n",
      "  \"ftcCnclsns\": \"2\",\n",
      "  \"clauseArticle\": [\n",
      "    \"제2조(개인정보의 처리 및 보유기간) \\n① 협회는 법령에 따른 개인정보 보유․이용기간 또는 정보주체로부터 개인정보를 수집시에 동의받은 개인정보 보유,이용기간 내에서 개인정보를 처리,보유합니다.\"\n",
      "  ],\n",
      "  \"dvAntageous\": \"1\",\n",
      "  \"comProvision\": [\n",
      "    \"제2조(개인정보의 처리 및 보유기간) ① ＜개인정보처리자명＞은(는) 법령에 따른 개인정보 보유•이용기간 또는 정보주체로부터 개인정보를 수집 시에 동의받은 개인정보 보유•이용기간 내에서 개인정보를 처리•보유합니다.\"\n",
      "  ]\n",
      "}\n",
      "\n",
      "=== 불리한 조항 데이터 구조 ===\n",
      "{\n",
      "  \"clauseField\": \"1\",\n",
      "  \"ftcCnclsns\": \"1\",\n",
      "  \"clauseArticle\": [\n",
      "    \"배송비용 부담조항                                                                                          \\n(1) 약관조항가맹점관리규정 ⅳ. 반품처리규정. 4-1-1. 가맹점 업무지침\\n라. 불량 입고시 배송비용은 가맹점이 부담하는 것을 원칙으로 한다.\"\n",
      "  ],\n",
      "  \"dvAntageous\": \"2\",\n",
      "  \"illdcssBasiss\": [\n",
      "    \"매매물건에 하자가 있는 경우 매수인은 매도인에게 하자없는 물건을 청구할 수 있고, 매도인은 완전물로 급부하여야 하며, 물건인도에 소요되는 비용은 하자있는 목적물을 인도한 매도인이 부담하는 것이 신의칙에 합당하다.\",\n",
      "    \"불량제품 교환시 소요되는 배송비용을 가맹점에 부담시키는 것은 가맹점에 부당하게 불리한 조항이다.\"\n",
      "  ],\n",
      "  \"relateLaword\": [\n",
      "    \"제6조(일반원칙)\\n② 약관의 내용 중 다음 각 호의 어느 하나에 해당하는 내용을 정하고 있는 조항은 공정성을 잃은 것으로 추정된다.\\n1. 고객에게 부당하게 불리한 조항\"\n",
      "  ],\n",
      "  \"unfavorableProvision\": \"1\"\n",
      "}\n",
      "\n",
      "=== 키(key) 목록 ===\n",
      "유리한 조항: ['clauseField', 'ftcCnclsns', 'clauseArticle', 'dvAntageous', 'comProvision']\n",
      "불리한 조항: ['clauseField', 'ftcCnclsns', 'clauseArticle', 'dvAntageous', 'illdcssBasiss', 'relateLaword', 'unfavorableProvision']\n"
     ]
    }
   ],
   "source": [
    "# 라이브러리 임포트\n",
    "import json\n",
    "import pandas as pd\n",
    "\n",
    "# JSON 파일 경로 설정\n",
    "# 유리한 조항 예시 데이터 경로\n",
    "advs_ex_path = './train/01.유리/001_개인정보취급방침_가공.json'\n",
    "# 불리한 조항 예시 데이터 경로\n",
    "dis_ex_path = './train/02.불리/001_가맹계약_가공.json'\n",
    "\n",
    "# JSON 파일 읽기\n",
    "with open(advs_ex_path, 'r', encoding='utf-8') as f:\n",
    "    advs_ex = json.load(f)\n",
    "with open(dis_ex_path, 'r', encoding='utf-8') as f:\n",
    "    dis_ex = json.load(f)\n",
    "\n",
    "# JSON 구조 확인\n",
    "print(\"=== 유리한 조항 데이터 구조 ===\")\n",
    "print(json.dumps(advs_ex, indent=2, ensure_ascii=False))\n",
    "print(\"\\n=== 불리한 조항 데이터 구조 ===\") \n",
    "print(json.dumps(dis_ex, indent=2, ensure_ascii=False))\n",
    "\n",
    "# DataFrame으로 변환하기 전에 구조 파악\n",
    "print(\"\\n=== 키(key) 목록 ===\")\n",
    "print(\"유리한 조항:\", list(advs_ex.keys()))\n",
    "print(\"불리한 조항:\", list(dis_ex.keys()))\n",
    "\n"
   ]
  },
  {
   "cell_type": "markdown",
   "metadata": {},
   "source": [
    "clauseField는 약관 분야, ftcConclsns는 공정위 심결 례(1: 해당, 2: 비해당), clauseArticle는 조항 내용, dvAntageous는 유불리 여부(1: 유리, 2: 불리), comProvision은 비교근거 ,illdcssBasiss는 위법성 판단 근거, relateLaword는 관련 법령, unfavorableProvision는 불리한 조항 유형(1: 신의성실의 원픽위반, 2: 개별금지 조항의 위반) 이다.\n",
    "\n",
    "조항(text)가 입력되어 유뷸리 판단(binary)를 출력해야하므로 데이터셋에서 \"clauseArticle\" 키와 \"dvAntageous\" 키를 추출하여 데이터프레임으로 변환한다."
   ]
  },
  {
   "cell_type": "code",
   "execution_count": 48,
   "metadata": {},
   "outputs": [
    {
     "name": "stdout",
     "output_type": "stream",
     "text": [
      "학습 데이터 크기: (8000, 3)\n",
      "검증 데이터 크기: (1000, 3)\n",
      "\n",
      "=== 학습 데이터 ===\n",
      "  약관 분야                                              조항 내용  유불리여부\n",
      "0    37  [제12조(회원탈퇴 및 자격 상실 등)\\n④ 회사가 회원자격을 상실시키는 경우에는 ...      0\n",
      "1    43  [제2조(계약당사자, 차량가격의 변동)\\n④ 을은 제2항, 제3항에 따라 갑의 통지...      0\n",
      "2    40  [제25조(책임의 특별소멸 사유와 시효)\\n① 운송물의 일부 멸실 또는 훼손에 대한...      0\n",
      "3    30  [제11조 보증채무이행 청구시기\\n2. 계속하여 11월이상 영업을 하지 아니하거나 ...      0\n",
      "4    14  [제34조(해지환급금) \\n② 해지환급금의 지급사유가 발생한 경우 계약자는 회사에 ...      0\n",
      "\n",
      "=== 검증 데이터  ===\n",
      "  약관 분야                                              조항 내용  유불리여부\n",
      "0    33  [제11조 (단체계약과 상조서비스)\\n① 법인 또는 단체의 대표가 구성원들을 위하여...      0\n",
      "1    25  [제3조 (회사정보 등의 제공)\\n회사는 다음 각 호의 사항을 회원이 알아보기 쉽도...      0\n",
      "2    32  [제9조 (입실 후 계약의 해지)\\n① 이용자는 입실 후에 사업자의 책임 있는 사유...      0\n",
      "3    31  [제7조(회원 탈퇴 및 자격 상실 등)\\n③ 몰이 회원 자격을 제한, 정지 시킨 후...      0\n",
      "4    32  [제11조 (이용자의 의무)\\n① 이용자는 입실하는 때에 산모와 신생아의 건강 상태...      0\n"
     ]
    }
   ],
   "source": [
    "\n",
    "import glob  # 파일 경로 처리를 위한 라이브러리\n",
    "\n",
    "# 데이터프레임을 저장할 빈 리스트 생성\n",
    "train_list = []  # 학습 데이터를 저장할 리스트 \n",
    "test_list = []   # 검증 데이터를 저장할 리스트\n",
    "\n",
    "# 학습 데이터 처리 (train 폴더)\n",
    "# 유리한 조항 파일 처리\n",
    "train_adv_files = glob.glob('./train/01.유리/*.json')\n",
    "for file in train_adv_files:\n",
    "    with open(file, 'r') as f:\n",
    "        data = json.load(f)\n",
    "        row_dict = {\n",
    "            '약관 분야': data['clauseField'],\n",
    "            '조항 내용': data['clauseArticle'], \n",
    "            '유불리여부': data['dvAntageous']\n",
    "        }\n",
    "        train_list.append(row_dict)\n",
    "\n",
    "# 불리한 조항 파일 처리\n",
    "train_dis_files = glob.glob('./train/02.불리/*.json')\n",
    "for file in train_dis_files:\n",
    "    with open(file, 'r') as f:\n",
    "        data = json.load(f)\n",
    "        row_dict = {\n",
    "            '약관 분야': data['clauseField'],\n",
    "            '조항 내용': data['clauseArticle'],\n",
    "            '유불리여부': data['dvAntageous']\n",
    "        }\n",
    "        train_list.append(row_dict)\n",
    "\n",
    "# 검증 데이터 처리 (vali 폴더)\n",
    "# 유리한 조항 파일 처리  \n",
    "test_adv_files = glob.glob('./vali/01.유리/*.json')\n",
    "for file in test_adv_files:\n",
    "    with open(file, 'r') as f:\n",
    "        data = json.load(f)\n",
    "        row_dict = {\n",
    "            '약관 분야': data['clauseField'],\n",
    "            '조항 내용': data['clauseArticle'],\n",
    "            '유불리여부': data['dvAntageous']\n",
    "        }\n",
    "        test_list.append(row_dict)\n",
    "\n",
    "# 불리한 조항 파일 처리\n",
    "test_dis_files = glob.glob('./vali/02.불리/*.json')\n",
    "for file in test_dis_files:\n",
    "    with open(file, 'r') as f:\n",
    "        data = json.load(f)\n",
    "        row_dict = {\n",
    "            '약관 분야': data['clauseField'],\n",
    "            '조항 내용': data['clauseArticle'],\n",
    "            '유불리여부': data['dvAntageous']\n",
    "        }\n",
    "        test_list.append(row_dict)\n",
    "\n",
    "# 리스트를 데이터프레임으로 변환\n",
    "traindf = pd.DataFrame(train_list)  # 학습용 데이터프레임\n",
    "testdf = pd.DataFrame(test_list)    # 검증용 데이터프레임\n",
    "\n",
    "# 유불리 여부 레이블 변환 (1,2 -> 0,1)\n",
    "traindf['유불리여부'] = traindf['유불리여부'].astype(int) - 1  # 1->0, 2->1로 변환\n",
    "testdf['유불리여부'] = testdf['유불리여부'].astype(int) - 1    # 1->0, 2->1로 변환\n",
    "\n",
    "# 결과 확인\n",
    "print(\"학습 데이터 크기:\", traindf.shape)\n",
    "print(\"검증 데이터 크기:\", testdf.shape)\n",
    "\n",
    "print(\"\\n=== 학습 데이터 ===\")\n",
    "print(traindf.head())\n",
    "print(\"\\n=== 검증 데이터  ===\")\n",
    "print(testdf.head())\n",
    "\n",
    "\n"
   ]
  },
  {
   "cell_type": "code",
   "execution_count": 49,
   "metadata": {},
   "outputs": [
    {
     "data": {
      "image/png": "[encoded data removed]",
      "text/plain": [
       "<Figure size 1000x800 with 1 Axes>"
      ]
     },
     "metadata": {},
     "output_type": "display_data"
    }
   ],
   "source": [
    "import matplotlib.pyplot as plt\n",
    "# 유불리 비율 계산 및 파이차트 시각화\n",
    "# 1: 불리한 조항, 2: 유리한 조항\n",
    "plt.rcParams['font.family'] = 'NanumGothic'\n",
    "unfavorable = len(traindf[traindf['유불리여부'] == 0])  # 불리한 조항 수 \n",
    "favorable = len(traindf[traindf['유불리여부'] == 1])    # 유리한 조항 수\n",
    "\n",
    "# 파이차트 데이터 준비\n",
    "labels = ['불리한 조항', '유리한 조항']\n",
    "sizes = [unfavorable, favorable]\n",
    "colors = ['#ff9999', '#66b3ff']\n",
    "\n",
    "# 파이차트 생성\n",
    "plt.figure(figsize=(10, 8))\n",
    "plt.pie(sizes, labels=labels, colors=colors, autopct='%1.1f%%', startangle=90)\n",
    "plt.axis('equal')  # 원형으로 보이게 설정\n",
    "plt.title('약관 조항의 유불리 분포')\n",
    "\n",
    "plt.show()\n"
   ]
  },
  {
   "cell_type": "markdown",
   "metadata": {},
   "source": [
    "학습 데이터를 동일한 비율로 맞춰준다. "
   ]
  },
  {
   "cell_type": "code",
   "execution_count": 50,
   "metadata": {},
   "outputs": [
    {
     "name": "stdout",
     "output_type": "stream",
     "text": [
      "=== 리샘플링 전 데이터 분포 ===\n",
      "유리한 조항: 2400\n",
      "불리한 조항: 5600\n",
      "\n",
      "=== 리샘플링 후 데이터 분포 ===\n",
      "0    2400\n",
      "1    2400\n",
      "Name: 유불리여부, dtype: int64\n"
     ]
    }
   ],
   "source": [
    "import numpy as np\n",
    "\n",
    "print(\"=== 리샘플링 전 데이터 분포 ===\")\n",
    "print(\"유리한 조항:\", favorable)\n",
    "print(\"불리한 조항:\", unfavorable)\n",
    "\n",
    "# 불리한 데이터에서 유리한 데이터 개수만큼 랜덤 추출\n",
    "unfavorable_indices = traindf[traindf['유불리여부'] == 0].index\n",
    "sampled_unfavorable_indices = np.random.choice(unfavorable_indices, size=favorable, replace=False)\n",
    "\n",
    "# 균형잡힌 데이터셋 생성\n",
    "balanced_unfavorable = traindf.loc[sampled_unfavorable_indices]\n",
    "favorable = traindf[traindf['유불리여부'] == 1]\n",
    "balanced_traindf = pd.concat([balanced_unfavorable, favorable])\n",
    "\n",
    "# 데이터 섞기\n",
    "balanced_traindf = balanced_traindf.sample(frac=1, random_state=42).reset_index(drop=True)\n",
    "testdf = testdf.sample(frac=1, random_state=42).reset_index(drop=True)\n",
    "\n",
    "print(\"\\n=== 리샘플링 후 데이터 분포 ===\") \n",
    "print(balanced_traindf['유불리여부'].value_counts())\n"
   ]
  },
  {
   "cell_type": "markdown",
   "metadata": {},
   "source": [
    "## 조항 데이터 전처리"
   ]
  },
  {
   "cell_type": "code",
   "execution_count": 51,
   "metadata": {},
   "outputs": [
    {
     "name": "stdout",
     "output_type": "stream",
     "text": [
      "=== 조항 내용 샘플 ===\n",
      "['제12조(회원탈퇴 및 자격 상실 등)\\n④ 회사가 회원자격을 상실시키는 경우에는 회원등록을 말소합니다. 이 경우 회원에게 이를 통지하고, 회원등록 말소 전에 최소한 75일 이상의 기간을 정하여 소명할 기회를 부여합니다.']\n",
      "['제2조(계약당사자, 차량가격의 변동)\\n④ 을은 제2항, 제3항에 따라 갑의 통지를 받은 후 9일 이내에 이 계약을 해제할 수 있으며 이 경우 갑은 을로부터 이미 지급받은 금액 및 이에 대한 상사법정이율에 의한 이자(갑이 받은 금액 곱하기 갑이 대금을 보유한 일수 나누기 365 곱하기 6 나누기 100)를 을에게 반환하여야 합니다. 이에 추가하여 제3항의 사유로 인한 해제시에는 약정한 위약금 또는 민법 제393조에 따른 손해배상금을 지급합니다. ']\n",
      "['제25조(책임의 특별소멸 사유와 시효)\\n① 운송물의 일부 멸실 또는 훼손에 대한 택배사의 손해배상책임은 고객(수화인)이 운송물을 수령한 날로부터 14일 이내에 그 일부 멸실 또는 훼손에 대한 사실을 고객(송화인)이 택배사에게 통지를 발송하지 아니하면 소멸합니다.', '② 운송물의 일부 멸실, 훼손 또는 연착에 대한 택배사의 손해배상책임은 고객(수화인)이 운송물을 수령한 날로부터 24개월이 경과하면 소멸합니다. 다만, 운송물이 전부 멸실된 경우에는 그 인도예정일로부터 기산합니다.\\n③ 제1항과 제2항의 규정은 택배사 또는 그 운송 위탁을 받은 자, 기타 운송을 위하여 관여된 자가 이 운송물의 일부 멸실 또는 훼손의 사실을 알면서 이를 숨기고 운송물을 인도한 경우에는 적용되지 아니합니다. 이 경우에는 택배사의 손해배상책임은 고객(수화인)이 운송물을 수령한 날로부터 5년간 존속합니다.']\n",
      "['제11조 보증채무이행 청구시기\\n2. 계속하여 11월이상 영업을 하지 아니하거나 폐업한 때']\n",
      "['제34조(해지환급금) \\n② 해지환급금의 지급사유가 발생한 경우 계약자는 회사에 해지환급금을 청구하여야 하며, 회사는 청구를 접수한 날부터 1영업일 이내에 해지환급금을 지급합니다. 해지환급금 지급일까지의 기간에 대한 이자의 계산은 부표 9,1 보험금을 지급할 때의 적립이율 계산에 따릅니다. ']\n"
     ]
    }
   ],
   "source": [
    "# 조항 내용 앞 5개 출력\n",
    "print(\"=== 조항 내용 샘플 ===\")\n",
    "for i in range(5):\n",
    "    print(train_list[i]['조항 내용'])"
   ]
  },
  {
   "cell_type": "markdown",
   "metadata": {},
   "source": [
    "조항 내용애서 \"제 @@조\", \"\\n\" , 원문자, 번호 리스트 등 불필요한 패턴 제거 한다. "
   ]
  },
  {
   "cell_type": "code",
   "execution_count": 52,
   "metadata": {},
   "outputs": [
    {
     "name": "stdout",
     "output_type": "stream",
     "text": [
      "\n",
      "=== 전처리 전후 비교 ===\n",
      "[전처리 전] \n",
      "['제12조(회원탈퇴 및 자격 상실 등)\\n④ 회사가 회원자격을 상실시키는 경우에는 회원등록을 말소합니다. 이 경우 회원에게 이를 통지하고, 회원등록 말소 전에 최소한 75일 이상의 기간을 정하여 소명할 기회를 부여합니다.']\n",
      "[전처리 후] \n",
      "(회원탈퇴 및 자격 상실 등) 회사가 회원자격을 상실시키는 경우에는 회원등록을 말소합니다. 이 경우 회원에게 이를 통지하고, 회원등록 말소 전에 최소한 75일 이상의 기간을 정하여 소명할 기회를 부여합니다.\n",
      "--------------------------------------------------------------------------------\n",
      "[전처리 전] \n",
      "['제2조(계약당사자, 차량가격의 변동)\\n④ 을은 제2항, 제3항에 따라 갑의 통지를 받은 후 9일 이내에 이 계약을 해제할 수 있으며 이 경우 갑은 을로부터 이미 지급받은 금액 및 이에 대한 상사법정이율에 의한 이자(갑이 받은 금액 곱하기 갑이 대금을 보유한 일수 나누기 365 곱하기 6 나누기 100)를 을에게 반환하여야 합니다. 이에 추가하여 제3항의 사유로 인한 해제시에는 약정한 위약금 또는 민법 제393조에 따른 손해배상금을 지급합니다. ']\n",
      "[전처리 후] \n",
      "(계약당사자, 차량가격의 변동) 을은 제2항, 제3항에 따라 갑의 통지를 받은 후 9일 이내에 이 계약을 해제할 수 있으며 이 경우 갑은 을로부터 이미 지급받은 금액 및 이에 대한 상사법정이율에 의한 이자(갑이 받은 금액 곱하기 갑이 대금을 보유한 일수 나누기 365 곱하기 6 나누기 100)를 을에게 반환하여야 합니다. 이에 추가하여 제3항의 사유로 인한 해제시에는 약정한 위약금 또는 민법 에 따른 손해배상금을 지급합니다.\n",
      "--------------------------------------------------------------------------------\n",
      "[전처리 전] \n",
      "['제25조(책임의 특별소멸 사유와 시효)\\n① 운송물의 일부 멸실 또는 훼손에 대한 택배사의 손해배상책임은 고객(수화인)이 운송물을 수령한 날로부터 14일 이내에 그 일부 멸실 또는 훼손에 대한 사실을 고객(송화인)이 택배사에게 통지를 발송하지 아니하면 소멸합니다.', '② 운송물의 일부 멸실, 훼손 또는 연착에 대한 택배사의 손해배상책임은 고객(수화인)이 운송물을 수령한 날로부터 24개월이 경과하면 소멸합니다. 다만, 운송물이 전부 멸실된 경우에는 그 인도예정일로부터 기산합니다.\\n③ 제1항과 제2항의 규정은 택배사 또는 그 운송 위탁을 받은 자, 기타 운송을 위하여 관여된 자가 이 운송물의 일부 멸실 또는 훼손의 사실을 알면서 이를 숨기고 운송물을 인도한 경우에는 적용되지 아니합니다. 이 경우에는 택배사의 손해배상책임은 고객(수화인)이 운송물을 수령한 날로부터 5년간 존속합니다.']\n",
      "[전처리 후] \n",
      "(책임의 특별소멸 사유와 시효) 운송물의 일부 멸실 또는 훼손에 대한 택배사의 손해배상책임은 고객(수화인)이 운송물을 수령한 날로부터 14일 이내에 그 일부 멸실 또는 훼손에 대한 사실을 고객(송화인)이 택배사에게 통지를 발송하지 아니하면 소멸합니다.\n",
      "--------------------------------------------------------------------------------\n",
      "[전처리 전] \n",
      "['제11조 보증채무이행 청구시기\\n2. 계속하여 11월이상 영업을 하지 아니하거나 폐업한 때']\n",
      "[전처리 후] \n",
      "보증채무이행 청구시기 계속하여 11월이상 영업을 하지 아니하거나 폐업한 때\n",
      "--------------------------------------------------------------------------------\n",
      "[전처리 전] \n",
      "['제34조(해지환급금) \\n② 해지환급금의 지급사유가 발생한 경우 계약자는 회사에 해지환급금을 청구하여야 하며, 회사는 청구를 접수한 날부터 1영업일 이내에 해지환급금을 지급합니다. 해지환급금 지급일까지의 기간에 대한 이자의 계산은 부표 9,1 보험금을 지급할 때의 적립이율 계산에 따릅니다. ']\n",
      "[전처리 후] \n",
      "(해지환급금) 해지환급금의 지급사유가 발생한 경우 계약자는 회사에 해지환급금을 청구하여야 하며, 회사는 청구를 접수한 날부터 1영업일 이내에 해지환급금을 지급합니다. 해지환급금 지급일까지의 기간에 대한 이자의 계산은 부표 9,1 보험금을 지급할 때의 적립이율 계산에 따릅니다.\n",
      "--------------------------------------------------------------------------------\n"
     ]
    }
   ],
   "source": [
    "import re\n",
    "# 조항 내용에서 불필요한 내용을 없애는 함수 정의\n",
    "def clean_clause(clause):\n",
    "    # None 타입 체크 추가\n",
    "    if clause is None:\n",
    "        return \"\"\n",
    "    # 리스트로 들어온 경우 첫 번째 요소만 사용\n",
    "    if isinstance(clause, list):\n",
    "        clause = clause[0]\n",
    "        \n",
    "    # 문자열 타입으로 변환\n",
    "    clause = str(clause)\n",
    "    \n",
    "    # 제 @@조, \\n, 원문자, 번호 리스트 등 불필요한 패턴 제거\n",
    "    clause = re.sub(r'제\\s*\\d+\\s*조', '', clause)  # \"제 XX조\" 패턴 제거 (공백 유연하게)\n",
    "    clause = re.sub(r'\\n', ' ', clause)  # 줄바꿈을 공백으로 대체\n",
    "    clause = re.sub(r'[①-⑮]', '', clause)  # 원문자(①~⑮) 제거\n",
    "    clause = re.sub(r'\\d+\\.\\s*', '', clause)  # \"숫자.\" 형태의 번호 리스트 제거\n",
    "    clause = re.sub(r'\\(\\d+\\)', '', clause)  # \"(숫자)\" 형태의 번호 제거\n",
    "    \n",
    "    # 줄바꿈을 공백으로 대체하고 연속된 공백 제거\n",
    "    clause = re.sub(r'\\s*\\n\\s*', ' ', clause)  # 줄바꿈과 그 주변 공백을 하나의 공백으로\n",
    "    clause = re.sub(r'\\s+', ' ', clause)  # 연속된 공백을 하나로\n",
    "    \n",
    "    return clause.strip()  # 앞뒤 공백 제거\n",
    "\n",
    "    # 전처리 전후 비교를 위한 출력\n",
    "print(\"\\n=== 전처리 전후 비교 ===\")\n",
    "for i in range(5):\n",
    "    print(f\"[전처리 전] \")\n",
    "    print(train_list[i]['조항 내용'])\n",
    "    print(f\"[전처리 후] \")\n",
    "    print(clean_clause(train_list[i]['조항 내용']))\n",
    "    print(\"-\"*80)  # 구분선 출력\n"
   ]
  },
  {
   "cell_type": "code",
   "execution_count": 53,
   "metadata": {},
   "outputs": [
    {
     "name": "stdout",
     "output_type": "stream",
     "text": [
      "  약관 분야                                              조항 내용  유불리여부\n",
      "0    37  (콘텐츠서비스의 제공 및 중단) 콘텐츠서비스는 연중무휴, 2일 48시간 제공함을 원...      0\n",
      "1    43  제5항(계약의 해재) 이 계약이 해제되었을 때에는 갑은 을로부터 수납한 매매대금중 ...      1\n",
      "2     1  (MARKETING) 제2항 을은 갑이 전 매장의 통일화, 고객만족 및 매출 증대 ...      1\n",
      "3     2  (공급 계약량) 제3항 갑은 을에게 시장여건의 변화에 따라 수송난 타개와 지역별 수...      1\n",
      "4    31  (회원 탈퇴 및 자격 상실 등) 몰이 회원자격을 상실시키는 경우에는 회원등록을 말소...      0\n",
      "  약관 분야                                              조항 내용  유불리여부\n",
      "0     8  (어음의 제시, 교부) 은행이 어음채권의 시효중단을 위하여 독촉을 할 경우에도, 어...      0\n",
      "1    43  제6항(계약해제) 이 계약이 해제되었을 때에는 갑은 을로부터 납부한 매매대금중 계약...      1\n",
      "2     8  (담보의 제공 및 관리) 채무자는 다음 각 호의 사유의 하나라도 발생한 경우에는 회...      1\n",
      "3    33  (단체계약과 상조서비스) 구성원에게 이용권 및 이용서비스를 부여하는 것은 계약에서 ...      0\n",
      "4     8  (기한전의 채무변제의무) 채무자에게 다음 각 호의 어느 하나에 해당하는 사유가 발생...      0\n"
     ]
    }
   ],
   "source": [
    "# 위 함수를 적용하여 조항 내용 전처리(불필요한 패턴 제거)\n",
    "balanced_traindf['조항 내용'] = balanced_traindf['조항 내용'].apply(clean_clause)\n",
    "testdf['조항 내용'] = testdf['조항 내용'].apply(clean_clause)\n",
    "print(balanced_traindf.head())\n",
    "print(testdf.head())\n"
   ]
  },
  {
   "cell_type": "markdown",
   "metadata": {},
   "source": [
    "## KoBERT 모델 활용\n",
    "## 1. 토큰화"
   ]
  },
  {
   "cell_type": "code",
   "execution_count": 54,
   "metadata": {},
   "outputs": [],
   "source": [
    "#!pip install git+https://git@github.com/SKTBrain/KoBERT.git@master"
   ]
  },
  {
   "cell_type": "code",
   "execution_count": 55,
   "metadata": {},
   "outputs": [],
   "source": [
    "import torch\n",
    "from torch import nn\n",
    "import torch.nn.functional as F\n",
    "import torch.optim as optim\n",
    "from torch.utils.data import Dataset, DataLoader\n",
    "import gluonnlp as nlp\n",
    "import numpy as np\n",
    "from tqdm import tqdm\n",
    "from kobert.utils import get_tokenizer\n",
    "from kobert.pytorch_kobert import get_pytorch_kobert_model\n",
    "from transformers import AdamW\n",
    "from transformers.optimization import get_cosine_schedule_with_warmup"
   ]
  },
  {
   "cell_type": "code",
   "execution_count": 56,
   "metadata": {},
   "outputs": [
    {
     "name": "stdout",
     "output_type": "stream",
     "text": [
      "사용 중인 디바이스: cuda:0\n"
     ]
    }
   ],
   "source": [
    "# GPU 사용 가능 여부 확인 및 디바이스 설정\n",
    "device = torch.device(\"cuda:0\" if torch.cuda.is_available() else \"cpu\")\n",
    "print(f\"사용 중인 디바이스: {device}\")"
   ]
  },
  {
   "cell_type": "markdown",
   "metadata": {},
   "source": [
    "### KoBERT 모델의 입력 형태인 tsv 형식으로 변환. "
   ]
  },
  {
   "cell_type": "code",
   "execution_count": 57,
   "metadata": {},
   "outputs": [
    {
     "name": "stdout",
     "output_type": "stream",
     "text": [
      "학습 데이터 샘플:\n",
      "[['(콘텐츠서비스의 제공 및 중단) 콘텐츠서비스는 연중무휴, 2일 48시간 제공함을 원칙으로 합니다.', '0'], ['제5항(계약의 해재) 이 계약이 해제되었을 때에는 갑은 을로부터 수납한 매매대금중 계약보증금을 공제한금액을 을에게 반환하며 을이 갑에게 지급한 계약보증금은 당연히 갑에게 귀속한다. 이 경우 갑이 을에게 반환하는 금액에는 이자를 부과하지 아니하며 갑에 대한 계약보증금의 귀속은 계약해제로 인하여 갑이 입은 손해에 대한 을의 배상의무를 면제하는 것은 아니다.', '1']]\n",
      "\n",
      "테스트 데이터 샘플:\n",
      "[['(어음의 제시, 교부) 은행이 어음채권의 시효중단을 위하여 독촉을 할 경우에도, 어음의 제시를 생략할 수 있습니다.', '0'], ['제6항(계약해제) 이 계약이 해제되었을 때에는 갑은 을로부터 납부한 매매대금중 계약보증금을 공제한 금액을 을에게 반환하며 을이 갑에게 지급한 계약보증금은 당연히 갑에게 귀속한다. 이 경우 갑이 을에게 제 반환하는 금액에는 이자를 추가하지 아니하며 갑에 대한 계약보증금의 귀속은 계약해제로 인하여 갑이 입은 손해에 대한 을의 배상의무를 면제하는 것은 아니다.', '1']]\n"
     ]
    }
   ],
   "source": [
    "# TSV 데이터 형식으로 변환하는 함수 \n",
    "def convert_to_tsv_format(df):\n",
    "    tsv_format = []\n",
    "    for idx, row in df.iterrows():\n",
    "        # 텍스트와 레이블 추출\n",
    "        text = row['조항 내용']\n",
    "        label = row['유불리여부']\n",
    "        # (텍스트, 레이블) 튜플 형태로 저장\n",
    "        tsv_format.append([text, str(label)])\n",
    "    return tsv_format\n",
    "\n",
    "# 학습용/테스트용 데이터 TSV 형식으로 변환\n",
    "train_tsv = convert_to_tsv_format(balanced_traindf)\n",
    "test_tsv = convert_to_tsv_format(testdf)\n",
    "\n",
    "# 변환 결과 확인\n",
    "print(\"학습 데이터 샘플:\")\n",
    "print(train_tsv[:2])\n",
    "print(\"\\n테스트 데이터 샘플:\")\n",
    "print(test_tsv[:2])\n"
   ]
  },
  {
   "cell_type": "code",
   "execution_count": 58,
   "metadata": {},
   "outputs": [
    {
     "name": "stdout",
     "output_type": "stream",
     "text": [
      "using cached model. /home/ubuntu/runyourai/jsworld/PROJECT/.cache/kobert_v1.zip\n",
      "using cached model. /home/ubuntu/runyourai/jsworld/PROJECT/.cache/kobert_news_wiki_ko_cased-1087f8699e.spiece\n"
     ]
    }
   ],
   "source": [
    "#bert 모델, vocab 불러오기\n",
    "bertmodel, vocab = get_pytorch_kobert_model()"
   ]
  },
  {
   "cell_type": "markdown",
   "metadata": {},
   "source": [
    "### 토큰화 하여 tensorData로 변환\n",
    "KoBERT의 입력이 될 수 있도록 데이터를 가공해주어야 한다. KoBERT의 입력 데이터로 만들어주기 위해서는, 토큰화와 패딩, 어텐션 마스크를 만들어주는 과정을 거쳐 torch의 dataloader로 변환시켜 주어야 한다.\n",
    "\n",
    "BERTDataset 클래스는 tsv dataset과 dataset의 sent_idx, dataset의 label_idx, 버트 토크나이저, max_len, pad와 pair에 대한 bool값을 인자로 받아 토큰화, 패딩을 하고 어텐션 마스크를 만들어 inputs, labels, masks들을 TensorDataset으로 변환한다."
   ]
  },
  {
   "cell_type": "code",
   "execution_count": 59,
   "metadata": {},
   "outputs": [],
   "source": [
    "# 토큰화하여 레이블과함께 텐서로 반환하는 class\n",
    "class BERTDataset(Dataset):\n",
    "    def __init__(self, dataset, sent_idx, label_idx, bert_tokenizer, max_len,\n",
    "                 pad, pair):\n",
    "        transform = nlp.data.BERTSentenceTransform(\n",
    "            bert_tokenizer, max_seq_length=max_len, pad=pad, pair=pair)\n",
    "\n",
    "        self.sentences = [transform([i[sent_idx]]) for i in dataset]\n",
    "        self.labels = [np.int32(i[label_idx]) for i in dataset]\n",
    "\n",
    "    def __getitem__(self, i):\n",
    "        return (self.sentences[i] + (self.labels[i], ))\n",
    "\n",
    "    def __len__(self):\n",
    "        return (len(self.labels))"
   ]
  },
  {
   "cell_type": "markdown",
   "metadata": {},
   "source": [
    "토큰화 시 적절한 최대 길이를 알기 위해 문장 길이 분포 분석을 진행한다."
   ]
  },
  {
   "cell_type": "code",
   "execution_count": 60,
   "metadata": {},
   "outputs": [
    {
     "name": "stdout",
     "output_type": "stream",
     "text": [
      "=== 학습 데이터 문장 길이 통계 ===\n",
      "평균 길이: 124.97\n",
      "중앙값: 115.00\n",
      "최대 길이: 252\n",
      "최소 길이: 18\n"
     ]
    },
    {
     "data": {
      "image/png": "[encoded data removed]",
      "text/plain": [
       "<Figure size 800x600 with 1 Axes>"
      ]
     },
     "metadata": {},
     "output_type": "display_data"
    },
    {
     "name": "stdout",
     "output_type": "stream",
     "text": [
      "\n",
      "=== 학습 데이터 길이 구간별 분포 ===\n",
      "0-50        270\n",
      "51-100     1593\n",
      "101-150    1466\n",
      "151-200     902\n",
      "201-250     553\n",
      "251-300      16\n",
      "300+          0\n",
      "dtype: int64\n"
     ]
    }
   ],
   "source": [
    "from collections import Counter\n",
    "\n",
    "# 한글 폰트 설정\n",
    "plt.rc('font', family='NanumGothic')\n",
    "\n",
    "# 문장 길이 계산 함수\n",
    "def get_text_lengths(texts):\n",
    "    return [len(str(text)) for text in texts]\n",
    "\n",
    "# 문장 길이 분포 분석\n",
    "train_lengths = get_text_lengths(balanced_traindf['조항 내용']) \n",
    "test_lengths = get_text_lengths(testdf['조항 내용'])\n",
    "\n",
    "# 기초 통계량 계산\n",
    "print(\"=== 학습 데이터 문장 길이 통계 ===\")\n",
    "print(f\"평균 길이: {np.mean(train_lengths):.2f}\")\n",
    "print(f\"중앙값: {np.median(train_lengths):.2f}\")\n",
    "print(f\"최대 길이: {max(train_lengths)}\")\n",
    "print(f\"최소 길이: {min(train_lengths)}\")\n",
    "\n",
    "# 박스플롯 그리기\n",
    "plt.figure(figsize=(8, 6))\n",
    "plt.boxplot([train_lengths, test_lengths], labels=['학습 데이터', '검증 데이터'])\n",
    "plt.title('문장 길이 분포 박스플롯')\n",
    "plt.ylabel('문장 길이')\n",
    "plt.show()\n",
    "\n",
    "# 길이 구간별 분포\n",
    "def get_length_distribution(lengths):\n",
    "    bins = [0, 50, 100, 150, 200, 250, 300, np.inf]\n",
    "    labels = ['0-50', '51-100', '101-150', '151-200', '201-250', '251-300', '300+']\n",
    "    dist = pd.cut(lengths, bins=bins, labels=labels).value_counts()\n",
    "    return dist.sort_index()\n",
    "\n",
    "train_dist = get_length_distribution(train_lengths)\n",
    "print(\"\\n=== 학습 데이터 길이 구간별 분포 ===\")\n",
    "print(train_dist)"
   ]
  },
  {
   "cell_type": "code",
   "execution_count": 61,
   "metadata": {},
   "outputs": [
    {
     "name": "stdout",
     "output_type": "stream",
     "text": [
      "using cached model. /home/ubuntu/runyourai/jsworld/PROJECT/.cache/kobert_news_wiki_ko_cased-1087f8699e.spiece\n"
     ]
    }
   ],
   "source": [
    "#파라미터 설정\n",
    "max_len = 150 # 전체 데이터의 약 70%를 커버한다. \n",
    "batch_size = 32  \n",
    "warmup_ratio = 0.1\n",
    "num_epochs = 7 \n",
    "max_grad_norm = 1\n",
    "log_interval = 100  \n",
    "learning_rate = 1e-6  \n",
    "#토큰화\n",
    "tokenizer = get_tokenizer()\n",
    "tok = nlp.data.BERTSPTokenizer(tokenizer, vocab, lower=False)\n",
    "#BERTDataset 클래스 이용, TensorDataset으로 만들어주기\n",
    "data_train = BERTDataset(train_tsv, 0, 1, tok, max_len, True, False)\n",
    "data_test = BERTDataset(test_tsv, 0, 1, tok, max_len, True, False)\n"
   ]
  },
  {
   "cell_type": "code",
   "execution_count": 62,
   "metadata": {},
   "outputs": [
    {
     "name": "stdout",
     "output_type": "stream",
     "text": [
      "(array([   2,  522, 4678, 6555, 7095, 4130, 2184, 4261,  517,   40, 4678,\n",
      "       6555, 5760, 3332, 7295, 6228, 7982,  517,   46,  553, 7126,  610,\n",
      "       6706, 4130, 7841, 3543, 7078, 4986,  517,   54,    3,    1,    1,\n",
      "          1,    1,    1,    1,    1,    1,    1,    1,    1,    1,    1,\n",
      "          1,    1,    1,    1,    1,    1,    1,    1,    1,    1,    1,\n",
      "          1,    1,    1,    1,    1,    1,    1,    1,    1,    1,    1,\n",
      "          1,    1,    1,    1,    1,    1,    1,    1,    1,    1,    1,\n",
      "          1,    1,    1,    1,    1,    1,    1,    1,    1,    1,    1,\n",
      "          1,    1,    1,    1,    1,    1,    1,    1,    1,    1,    1,\n",
      "          1,    1,    1,    1,    1,    1,    1,    1,    1,    1,    1,\n",
      "          1,    1,    1,    1,    1,    1,    1,    1,    1,    1,    1,\n",
      "          1,    1,    1,    1,    1,    1,    1,    1,    1,    1,    1,\n",
      "          1,    1,    1,    1,    1,    1,    1,    1,    1,    1,    1,\n",
      "          1,    1,    1,    1,    1,    1,    1], dtype=int32), array(31, dtype=int32), array([0, 0, 0, 0, 0, 0, 0, 0, 0, 0, 0, 0, 0, 0, 0, 0, 0, 0, 0, 0, 0, 0,\n",
      "       0, 0, 0, 0, 0, 0, 0, 0, 0, 0, 0, 0, 0, 0, 0, 0, 0, 0, 0, 0, 0, 0,\n",
      "       0, 0, 0, 0, 0, 0, 0, 0, 0, 0, 0, 0, 0, 0, 0, 0, 0, 0, 0, 0, 0, 0,\n",
      "       0, 0, 0, 0, 0, 0, 0, 0, 0, 0, 0, 0, 0, 0, 0, 0, 0, 0, 0, 0, 0, 0,\n",
      "       0, 0, 0, 0, 0, 0, 0, 0, 0, 0, 0, 0, 0, 0, 0, 0, 0, 0, 0, 0, 0, 0,\n",
      "       0, 0, 0, 0, 0, 0, 0, 0, 0, 0, 0, 0, 0, 0, 0, 0, 0, 0, 0, 0, 0, 0,\n",
      "       0, 0, 0, 0, 0, 0, 0, 0, 0, 0, 0, 0, 0, 0, 0, 0, 0, 0], dtype=int32), 0)\n",
      "(array([   2,  522, 3220, 7089, 7095, 4139,  517,   46, 1103, 6398,  517,\n",
      "         40, 3605, 7096, 3220, 7089, 7406, 7095, 2959, 7965, 7295, 5788,\n",
      "       7088, 3552, 7815, 1725, 7448, 7088, 4977,  968, 6901,  517,   46,\n",
      "       3220, 7089, 7095, 4139, 6116, 2704, 6034, 7836, 2872, 3867,  517,\n",
      "         54,    3,    1,    1,    1,    1,    1,    1,    1,    1,    1,\n",
      "          1,    1,    1,    1,    1,    1,    1,    1,    1,    1,    1,\n",
      "          1,    1,    1,    1,    1,    1,    1,    1,    1,    1,    1,\n",
      "          1,    1,    1,    1,    1,    1,    1,    1,    1,    1,    1,\n",
      "          1,    1,    1,    1,    1,    1,    1,    1,    1,    1,    1,\n",
      "          1,    1,    1,    1,    1,    1,    1,    1,    1,    1,    1,\n",
      "          1,    1,    1,    1,    1,    1,    1,    1,    1,    1,    1,\n",
      "          1,    1,    1,    1,    1,    1,    1,    1,    1,    1,    1,\n",
      "          1,    1,    1,    1,    1,    1,    1,    1,    1,    1,    1,\n",
      "          1,    1,    1,    1,    1,    1,    1], dtype=int32), array(46, dtype=int32), array([0, 0, 0, 0, 0, 0, 0, 0, 0, 0, 0, 0, 0, 0, 0, 0, 0, 0, 0, 0, 0, 0,\n",
      "       0, 0, 0, 0, 0, 0, 0, 0, 0, 0, 0, 0, 0, 0, 0, 0, 0, 0, 0, 0, 0, 0,\n",
      "       0, 0, 0, 0, 0, 0, 0, 0, 0, 0, 0, 0, 0, 0, 0, 0, 0, 0, 0, 0, 0, 0,\n",
      "       0, 0, 0, 0, 0, 0, 0, 0, 0, 0, 0, 0, 0, 0, 0, 0, 0, 0, 0, 0, 0, 0,\n",
      "       0, 0, 0, 0, 0, 0, 0, 0, 0, 0, 0, 0, 0, 0, 0, 0, 0, 0, 0, 0, 0, 0,\n",
      "       0, 0, 0, 0, 0, 0, 0, 0, 0, 0, 0, 0, 0, 0, 0, 0, 0, 0, 0, 0, 0, 0,\n",
      "       0, 0, 0, 0, 0, 0, 0, 0, 0, 0, 0, 0, 0, 0, 0, 0, 0, 0], dtype=int32), 0)\n"
     ]
    }
   ],
   "source": [
    "# 변환된 데이터 확인\n",
    "print(data_train[0])\n",
    "print(data_test[0])\n"
   ]
  },
  {
   "cell_type": "markdown",
   "metadata": {},
   "source": [
    "## KoBERT 모델 활용\n",
    "## 2. 분류기 학습"
   ]
  },
  {
   "cell_type": "code",
   "execution_count": 63,
   "metadata": {},
   "outputs": [],
   "source": [
    "#배치 및 데이터로더 설정\n",
    "train_dataloader = torch.utils.data.DataLoader(data_train, batch_size=batch_size, num_workers=4)\n",
    "test_dataloader = torch.utils.data.DataLoader(data_test, batch_size=batch_size, num_workers=4)"
   ]
  },
  {
   "cell_type": "markdown",
   "metadata": {},
   "source": [
    "### 분류 모델 정의\n",
    "---\n",
    "1. 토큰화된 입력(token_ids), 유효 길이(valid_length), 세그먼트 정보(segment_ids)입력\n",
    "2. gen_attention_mask 함수를 통해 유효 길이에 따른 어텐션 마스크가 생성\n",
    "3. BERT 모델이 이 입력들을 처리하여 pooler 출력.\n",
    "4. 설정된 경우 dropout이 pooler 출력에 적용.\n",
    "\n",
    "[분류기]\n",
    "1. 768차원 → 384차원으로 선형 변환\n",
    "2. ReLU 활성화 함수 적용\n",
    "3. Dropout 적용\n",
    "4. 384차원 → num_classes 차원으로 최종 분류\n",
    "5. 최종적으로 클래스 확률값이 출력"
   ]
  },
  {
   "cell_type": "code",
   "execution_count": 64,
   "metadata": {},
   "outputs": [],
   "source": [
    "class BERTClassifier(nn.Module):\n",
    "    def __init__(self,\n",
    "                 bert,\n",
    "                 hidden_size = 768,\n",
    "                 num_classes=2,\n",
    "                 dr_rate=None,\n",
    "                 params=None):\n",
    "        super(BERTClassifier, self).__init__()\n",
    "        self.bert = bert\n",
    "        self.dr_rate = dr_rate\n",
    "        self.classifier = nn.Sequential(\n",
    "            nn.Linear(hidden_size, hidden_size//2),\n",
    "            nn.ReLU(),\n",
    "            nn.Dropout(p=dr_rate),\n",
    "            nn.Linear(hidden_size//2, num_classes)\n",
    "        )\n",
    "        if dr_rate:\n",
    "            self.dropout = nn.Dropout(p=dr_rate)\n",
    "    \n",
    "    def gen_attention_mask(self, token_ids, valid_length):\n",
    "        attention_mask = torch.zeros_like(token_ids)\n",
    "        for i, v in enumerate(valid_length):\n",
    "            attention_mask[i][:v] = 1\n",
    "        return attention_mask.float()\n",
    "\n",
    "    def forward(self, token_ids, valid_length, segment_ids):\n",
    "        attention_mask = self.gen_attention_mask(token_ids, valid_length)\n",
    "        \n",
    "        _, pooler = self.bert(input_ids = token_ids, token_type_ids = segment_ids.long(), attention_mask = attention_mask.float().to(token_ids.device))\n",
    "        if self.dr_rate:\n",
    "            out = self.dropout(pooler)\n",
    "        return self.classifier(out)"
   ]
  },
  {
   "cell_type": "code",
   "execution_count": 65,
   "metadata": {},
   "outputs": [],
   "source": [
    "model = BERTClassifier(bertmodel, dr_rate=0.4).to(device)"
   ]
  },
  {
   "cell_type": "markdown",
   "metadata": {},
   "source": [
    "### 학습을 위한 옵티마이저, 스케줄러설정\n",
    "---\n",
    "[가중치 감쇠(weight decay) 설정]\n",
    "\n",
    "- bias와 LayerNorm.weight를 제외한 파라미터는 0.02의 가중치 감쇠 적용\n",
    "- bias와 LayerNorm.weight는 가중치 감쇠를 적용하지 않음\n",
    "\n",
    "[학습 설정]\n",
    "- AdamW 옵티마이저 사용\n",
    "- CrossEntropyLoss를 손실 함수로 사용\n",
    "- Cosine 스케줄링과 웜업을 결합한 학습률 조정 방식 적용\n",
    "\n",
    "전체 학습 스텝과 웜업 비율을 고려하여 학습률을 동적으로 조절하는 구조"
   ]
  },
  {
   "cell_type": "code",
   "execution_count": 66,
   "metadata": {},
   "outputs": [],
   "source": [
    "no_decay = ['bias', 'LayerNorm.weight']\n",
    "optimizer_grouped_parameters = [\n",
    "    {'params': [p for n, p in model.named_parameters() if not any(nd in n for nd in no_decay)], 'weight_decay': 0.02},\n",
    "    {'params': [p for n, p in model.named_parameters() if any(nd in n for nd in no_decay)], 'weight_decay': 0.0}\n",
    "]\n",
    "\n",
    "optimizer = AdamW(optimizer_grouped_parameters, lr=learning_rate)\n",
    "loss_fn = nn.CrossEntropyLoss()\n",
    "\n",
    "t_total = len(train_dataloader) * num_epochs\n",
    "warmup_step = int(t_total * warmup_ratio)\n",
    "\n",
    "scheduler = get_cosine_schedule_with_warmup(optimizer, num_warmup_steps=warmup_step, num_training_steps=t_total)"
   ]
  },
  {
   "cell_type": "markdown",
   "metadata": {},
   "source": [
    "정확도를 위한 함수 정의"
   ]
  },
  {
   "cell_type": "code",
   "execution_count": 67,
   "metadata": {},
   "outputs": [],
   "source": [
    "def calc_accuracy(X,Y):\n",
    "    max_vals, max_indices = torch.max(X, 1)\n",
    "    train_acc = (max_indices == Y).sum().data.cpu().numpy()/max_indices.size()[0]\n",
    "    return train_acc"
   ]
  },
  {
   "cell_type": "markdown",
   "metadata": {},
   "source": [
    "### 학습 진행\n",
    "---\n",
    "에폭이 끝날 때마다 평균loss와 정확도를 기록한다."
   ]
  },
  {
   "cell_type": "code",
   "execution_count": 68,
   "metadata": {},
   "outputs": [
    {
     "name": "stderr",
     "output_type": "stream",
     "text": [
      "  0%|          | 0/150 [00:00<?, ?it/s]"
     ]
    },
    {
     "name": "stderr",
     "output_type": "stream",
     "text": [
      "  1%|          | 1/150 [00:00<01:25,  1.75it/s]"
     ]
    },
    {
     "name": "stdout",
     "output_type": "stream",
     "text": [
      "epoch 1 batch id 1 loss 0.6965338587760925 train acc 0.5\n"
     ]
    },
    {
     "name": "stderr",
     "output_type": "stream",
     "text": [
      " 67%|██████▋   | 101/150 [00:26<00:12,  3.83it/s]"
     ]
    },
    {
     "name": "stdout",
     "output_type": "stream",
     "text": [
      "epoch 1 batch id 101 loss 0.7317260503768921 train acc 0.5021658415841584\n"
     ]
    },
    {
     "name": "stderr",
     "output_type": "stream",
     "text": [
      "100%|██████████| 150/150 [00:39<00:00,  3.80it/s]\n"
     ]
    },
    {
     "name": "stdout",
     "output_type": "stream",
     "text": [
      "epoch 1 train acc 0.5195833333333333\n"
     ]
    },
    {
     "name": "stderr",
     "output_type": "stream",
     "text": [
      "100%|██████████| 32/32 [00:03<00:00, 10.60it/s]\n"
     ]
    },
    {
     "name": "stdout",
     "output_type": "stream",
     "text": [
      "epoch 1 validation acc 0.36328125\n"
     ]
    },
    {
     "name": "stderr",
     "output_type": "stream",
     "text": [
      "  1%|          | 1/150 [00:00<01:27,  1.70it/s]"
     ]
    },
    {
     "name": "stdout",
     "output_type": "stream",
     "text": [
      "epoch 2 batch id 1 loss 0.6819792985916138 train acc 0.5625\n"
     ]
    },
    {
     "name": "stderr",
     "output_type": "stream",
     "text": [
      " 67%|██████▋   | 101/150 [00:27<00:12,  3.83it/s]"
     ]
    },
    {
     "name": "stdout",
     "output_type": "stream",
     "text": [
      "epoch 2 batch id 101 loss 0.6695231199264526 train acc 0.6092202970297029\n"
     ]
    },
    {
     "name": "stderr",
     "output_type": "stream",
     "text": [
      "100%|██████████| 150/150 [00:40<00:00,  3.75it/s]\n"
     ]
    },
    {
     "name": "stdout",
     "output_type": "stream",
     "text": [
      "epoch 2 train acc 0.638125\n"
     ]
    },
    {
     "name": "stderr",
     "output_type": "stream",
     "text": [
      "100%|██████████| 32/32 [00:03<00:00, 10.32it/s]\n"
     ]
    },
    {
     "name": "stdout",
     "output_type": "stream",
     "text": [
      "epoch 2 validation acc 0.8876953125\n"
     ]
    },
    {
     "name": "stderr",
     "output_type": "stream",
     "text": [
      "  1%|          | 1/150 [00:00<01:28,  1.69it/s]"
     ]
    },
    {
     "name": "stdout",
     "output_type": "stream",
     "text": [
      "epoch 3 batch id 1 loss 0.5951279997825623 train acc 0.8125\n"
     ]
    },
    {
     "name": "stderr",
     "output_type": "stream",
     "text": [
      " 67%|██████▋   | 101/150 [00:27<00:13,  3.68it/s]"
     ]
    },
    {
     "name": "stdout",
     "output_type": "stream",
     "text": [
      "epoch 3 batch id 101 loss 0.5880521535873413 train acc 0.7512376237623762\n"
     ]
    },
    {
     "name": "stderr",
     "output_type": "stream",
     "text": [
      "100%|██████████| 150/150 [00:40<00:00,  3.67it/s]\n"
     ]
    },
    {
     "name": "stdout",
     "output_type": "stream",
     "text": [
      "epoch 3 train acc 0.7672916666666667\n"
     ]
    },
    {
     "name": "stderr",
     "output_type": "stream",
     "text": [
      "100%|██████████| 32/32 [00:03<00:00, 10.12it/s]\n"
     ]
    },
    {
     "name": "stdout",
     "output_type": "stream",
     "text": [
      "epoch 3 validation acc 0.908203125\n"
     ]
    },
    {
     "name": "stderr",
     "output_type": "stream",
     "text": [
      "  1%|          | 1/150 [00:00<01:27,  1.70it/s]"
     ]
    },
    {
     "name": "stdout",
     "output_type": "stream",
     "text": [
      "epoch 4 batch id 1 loss 0.5318254828453064 train acc 0.84375\n"
     ]
    },
    {
     "name": "stderr",
     "output_type": "stream",
     "text": [
      " 67%|██████▋   | 101/150 [00:27<00:13,  3.73it/s]"
     ]
    },
    {
     "name": "stdout",
     "output_type": "stream",
     "text": [
      "epoch 4 batch id 101 loss 0.528380274772644 train acc 0.838180693069307\n"
     ]
    },
    {
     "name": "stderr",
     "output_type": "stream",
     "text": [
      "100%|██████████| 150/150 [00:40<00:00,  3.67it/s]\n"
     ]
    },
    {
     "name": "stdout",
     "output_type": "stream",
     "text": [
      "epoch 4 train acc 0.8458333333333333\n"
     ]
    },
    {
     "name": "stderr",
     "output_type": "stream",
     "text": [
      "100%|██████████| 32/32 [00:03<00:00,  9.93it/s]\n"
     ]
    },
    {
     "name": "stdout",
     "output_type": "stream",
     "text": [
      "epoch 4 validation acc 0.9130859375\n"
     ]
    },
    {
     "name": "stderr",
     "output_type": "stream",
     "text": [
      "  1%|          | 1/150 [00:00<01:22,  1.80it/s]"
     ]
    },
    {
     "name": "stdout",
     "output_type": "stream",
     "text": [
      "epoch 5 batch id 1 loss 0.4997464418411255 train acc 0.90625\n"
     ]
    },
    {
     "name": "stderr",
     "output_type": "stream",
     "text": [
      " 67%|██████▋   | 101/150 [00:28<00:13,  3.59it/s]"
     ]
    },
    {
     "name": "stdout",
     "output_type": "stream",
     "text": [
      "epoch 5 batch id 101 loss 0.5067113041877747 train acc 0.875\n"
     ]
    },
    {
     "name": "stderr",
     "output_type": "stream",
     "text": [
      "100%|██████████| 150/150 [00:41<00:00,  3.59it/s]\n"
     ]
    },
    {
     "name": "stdout",
     "output_type": "stream",
     "text": [
      "epoch 5 train acc 0.8770833333333333\n"
     ]
    },
    {
     "name": "stderr",
     "output_type": "stream",
     "text": [
      "100%|██████████| 32/32 [00:03<00:00,  9.98it/s]\n"
     ]
    },
    {
     "name": "stdout",
     "output_type": "stream",
     "text": [
      "epoch 5 validation acc 0.9189453125\n"
     ]
    },
    {
     "name": "stderr",
     "output_type": "stream",
     "text": [
      "  1%|          | 1/150 [00:00<01:26,  1.72it/s]"
     ]
    },
    {
     "name": "stdout",
     "output_type": "stream",
     "text": [
      "epoch 6 batch id 1 loss 0.4690890312194824 train acc 0.9375\n"
     ]
    },
    {
     "name": "stderr",
     "output_type": "stream",
     "text": [
      " 67%|██████▋   | 101/150 [00:28<00:13,  3.60it/s]"
     ]
    },
    {
     "name": "stdout",
     "output_type": "stream",
     "text": [
      "epoch 6 batch id 101 loss 0.5474817752838135 train acc 0.880259900990099\n"
     ]
    },
    {
     "name": "stderr",
     "output_type": "stream",
     "text": [
      "100%|██████████| 150/150 [00:41<00:00,  3.59it/s]\n"
     ]
    },
    {
     "name": "stdout",
     "output_type": "stream",
     "text": [
      "epoch 6 train acc 0.8820833333333333\n"
     ]
    },
    {
     "name": "stderr",
     "output_type": "stream",
     "text": [
      "100%|██████████| 32/32 [00:03<00:00, 10.04it/s]\n"
     ]
    },
    {
     "name": "stdout",
     "output_type": "stream",
     "text": [
      "epoch 6 validation acc 0.919921875\n"
     ]
    },
    {
     "name": "stderr",
     "output_type": "stream",
     "text": [
      "  1%|          | 1/150 [00:00<01:24,  1.75it/s]"
     ]
    },
    {
     "name": "stdout",
     "output_type": "stream",
     "text": [
      "epoch 7 batch id 1 loss 0.4241553843021393 train acc 0.9375\n"
     ]
    },
    {
     "name": "stderr",
     "output_type": "stream",
     "text": [
      " 67%|██████▋   | 101/150 [00:28<00:13,  3.61it/s]"
     ]
    },
    {
     "name": "stdout",
     "output_type": "stream",
     "text": [
      "epoch 7 batch id 101 loss 0.47597500681877136 train acc 0.8941831683168316\n"
     ]
    },
    {
     "name": "stderr",
     "output_type": "stream",
     "text": [
      "100%|██████████| 150/150 [00:41<00:00,  3.58it/s]\n"
     ]
    },
    {
     "name": "stdout",
     "output_type": "stream",
     "text": [
      "epoch 7 train acc 0.8947916666666667\n"
     ]
    },
    {
     "name": "stderr",
     "output_type": "stream",
     "text": [
      "100%|██████████| 32/32 [00:03<00:00, 10.11it/s]"
     ]
    },
    {
     "name": "stdout",
     "output_type": "stream",
     "text": [
      "epoch 7 validation acc 0.91796875\n"
     ]
    },
    {
     "name": "stderr",
     "output_type": "stream",
     "text": [
      "\n"
     ]
    }
   ],
   "source": [
    "# 학습 진행 상황을 저장할 리스트 초기화\n",
    "train_losses = []  # 학습 손실값 저장 (배치별)\n",
    "train_accs = []   # 학습 정확도 저장 (배치별)\n",
    "val_accs = []     # 검증 정확도 저장 (에폭별)\n",
    "\n",
    "for e in range(num_epochs):\n",
    "    train_acc = 0.0\n",
    "    test_acc = 0.0\n",
    "    epoch_loss = 0.0\n",
    "    model.train()\n",
    "    \n",
    "    # 학습 데이터로더에서 배치 단위로 데이터를 가져와 학습을 진행\n",
    "    for batch_id, (token_ids, valid_length, segment_ids, label) in enumerate(tqdm(train_dataloader)):\n",
    "        # 이전 배치에서 계산된 그래디언트를 초기화\n",
    "        optimizer.zero_grad()\n",
    "        # 데이터를 GPU로 이동하고 적절한 형식으로 변환\n",
    "        token_ids = token_ids.long().to(device)      # 토큰 ID를 long 타입으로 변환\n",
    "        segment_ids = segment_ids.long().to(device)  # 세그먼트 ID를 long 타입으로 변환\n",
    "        valid_length= valid_length                   # 유효 길이 정보\n",
    "        label = label.long().to(device)             # 레이블을 long 타입으로 변환\n",
    "        # 모델에 입력하여 예측값 계산\n",
    "        out = model(token_ids, valid_length, segment_ids)\n",
    "        # 손실 함수를 통해 손실값 계산\n",
    "        loss = loss_fn(out, label)\n",
    "        # 역전파를 통한 그래디언트 계산\n",
    "        loss.backward()\n",
    "        # 그래디언트 클리핑으로 기울기 폭주 방지\n",
    "        torch.nn.utils.clip_grad_norm_(model.parameters(), max_grad_norm)\n",
    "        # 옵티마이저를 통한 모델 파라미터 업데이트\n",
    "        optimizer.step()\n",
    "        # 학습률 스케줄러 업데이트\n",
    "        scheduler.step()\n",
    "        # 현재 배치의 정확도 계산\n",
    "        epoch_loss += loss.data.cpu().numpy()\n",
    "        batch_acc = calc_accuracy(out, label)\n",
    "        train_acc += batch_acc\n",
    "\n",
    "        if batch_id % log_interval == 0:\n",
    "            print(\"epoch {} batch id {} loss {} train acc {}\".format(e+1, batch_id+1, loss.data.cpu().numpy(), train_acc / (batch_id+1)))\n",
    "    # 한 에폭이 끝난 이후 에폭의 평균 손실값과 정확도를 리스트에 추가\n",
    "    epoch_train_acc = train_acc / (batch_id+1)\n",
    "    epoch_loss = epoch_loss / (batch_id+1)\n",
    "    train_losses.append(epoch_loss)\n",
    "    train_accs.append(epoch_train_acc)\n",
    "    epoch_train_acc = train_acc / (batch_id+1)\n",
    "    print(\"epoch {} train acc {}\".format(e+1, epoch_train_acc))\n",
    "    \n",
    "    model.eval()\n",
    "    for batch_id, (token_ids, valid_length, segment_ids, label) in enumerate(tqdm(test_dataloader)):\n",
    "        token_ids = token_ids.long().to(device)\n",
    "        segment_ids = segment_ids.long().to(device)\n",
    "        valid_length= valid_length\n",
    "        label = label.long().to(device)\n",
    "        out = model(token_ids, valid_length, segment_ids)\n",
    "        test_acc += calc_accuracy(out, label)\n",
    "    \n",
    "    # 에폭별 검증 정확도 저장\n",
    "    epoch_val_acc = test_acc / (batch_id+1)\n",
    "    val_accs.append(epoch_val_acc)\n",
    "    print(\"epoch {} validation acc {}\".format(e+1, epoch_val_acc))"
   ]
  },
  {
   "cell_type": "markdown",
   "metadata": {},
   "source": [
    "## 학습 결과 가시화"
   ]
  },
  {
   "cell_type": "code",
   "execution_count": 69,
   "metadata": {},
   "outputs": [
    {
     "data": {
      "image/png": "[encoded data removed]",
      "text/plain": [
       "<Figure size 1000x500 with 1 Axes>"
      ]
     },
     "metadata": {},
     "output_type": "display_data"
    }
   ],
   "source": [
    "plt.figure(figsize=(10, 5))\n",
    "\n",
    "# x축 데이터 생성 (1부터 에폭 수까지의 정수)\n",
    "epochs = range(1, len(train_losses) + 1)\n",
    "\n",
    "# 그래프 그리기\n",
    "plt.plot(epochs, train_losses, 'b-', label='Training Loss')\n",
    "plt.plot(epochs, train_accs, 'r-', label='Training Accuracy')\n",
    "plt.plot(epochs, val_accs,'o-', label='validation Accuracy')\n",
    "\n",
    "# x축 정수만 표시\n",
    "plt.xticks(epochs)\n",
    "\n",
    "# 레이블 및 제목 설정\n",
    "plt.xlabel('Epoch')\n",
    "plt.ylabel('Value')\n",
    "plt.title('Loss and Accuracy')\n",
    "plt.legend()\n",
    "plt.grid(True)\n",
    "plt.show()\n"
   ]
  },
  {
   "cell_type": "markdown",
   "metadata": {},
   "source": [
    "## 모델 저장"
   ]
  },
  {
   "cell_type": "code",
   "execution_count": 70,
   "metadata": {},
   "outputs": [
    {
     "name": "stdout",
     "output_type": "stream",
     "text": [
      "모델이 저장되었습니다.\n"
     ]
    }
   ],
   "source": [
    "import os\n",
    "# 모델 저장하기\n",
    "PATH = './model/'\n",
    "if not os.path.exists(PATH):\n",
    "    os.makedirs(PATH)\n",
    "\n",
    "torch.save({\n",
    "    'epoch': num_epochs,\n",
    "    'model_state_dict': model.state_dict(),\n",
    "    'optimizer_state_dict': optimizer.state_dict(),\n",
    "    'loss': loss_fn,\n",
    "    'train_acc': train_accs,\n",
    "    'val_acc': val_accs\n",
    "}, PATH + 'classfilermodel.pt')\n",
    "\n",
    "print(\"모델이 저장되었습니다.\")\n"
   ]
  },
  {
   "cell_type": "markdown",
   "metadata": {},
   "source": [
    "# 실제 추론에 사용\n",
    "---\n",
    "실제 입력은 계약서 약관 내용이다.\n",
    "\n",
    "먼저 계약서의 내용을 조항별로 나누고 전처리 과정을 거쳐 리스트로 만든다.\n",
    "\n",
    "이후 각 조항을 분류 모델을 통해 위법한지 판단을 내린다."
   ]
  },
  {
   "cell_type": "markdown",
   "metadata": {},
   "source": [
    "## 실제 계약서 예시(유리/불리)"
   ]
  },
  {
   "cell_type": "code",
   "execution_count": 71,
   "metadata": {},
   "outputs": [
    {
     "name": "stdout",
     "output_type": "stream",
     "text": [
      "=== 유리한 약관 내용 ===\n",
      "000\n",
      "\n",
      " \n",
      "결혼정보서비스 표준약관 \n",
      "\n",
      "본 약관은 공정거래위원회 표준약관 제10027호와 동일하게 작성되었습니다 \n",
      "\n",
      " \n",
      "\n",
      "제1조(목적) 이 약관은 결혼정보회사(결혼정보업자, 이하 회사라 함)가 제공하는 결혼관련 정보\n",
      "\n",
      "서비스(이하 서비스라 함)를 이용함에 있어 회사와 회원 사이의 권리․의무 및 책임사항을 규정함\n",
      "\n",
      "을 목적으로 합니다. \n",
      "\n",
      " \n",
      "\n",
      "제2조 (정의) \n",
      "\n",
      "1 회원이라 함은 제3조에서 정한 가입절차에 따라 회사가 그 가입신청을 승낙하고 이 약관에 \n",
      "\n",
      "따라 계약을 체결한 사람을 말합니다. \n",
      "\n",
      "2 소개라 함은 회사가 회원간에 결혼상대방을 구하기 위한 만남을 주선하는 것을 말합니다. \n",
      "\n",
      "3 교제라 함은 회사의 소개로 만난 회원이 2회 이상 계속하여 만나는 것을 말합니다. \n",
      "\n",
      "4 결혼관련 개인정보라 함은 학력, 직업, 병력 등 통상 결혼함에 있어 당사자 사이에 확인할 \n",
      "\n",
      "필요가 있는 것으로 인정되는 개인정보를 말합니다. \n",
      "\n",
      " \n",
      "\n",
      "제3조 (회원가입) \n",
      "\n",
      "1 회원이 되려고 하는 사람은 결혼관련 개인정보를 회사에 제공한 후 회사가 정한 가입절차에 \n",
      "\n",
      "따라 회원가입을 신청합니다. \n",
      "\n",
      "2 회사는 제1항과 같이 회원가입을 신청한 자 중 다음 각 호의 사항에 대한 심사를 실시하여 그 \n",
      "\n",
      "적격여부를 판단합니다. \n",
      "\n",
      "1. 배우자(사실혼관계의 배우자 포함) 있는 자인지 여부의 확인 \n",
      "\n",
      "2. 결혼관련 개인정보의 사실여부의 확인 \n",
      "\n",
      "3 회사는 제2항의 심사결과 적격자로 인정한 신청자에 한하여 회원가입을 승낙하고, 이 약관에 \n",
      "\n",
      "따라 계약을 체결합니다. \n",
      "\n",
      " \n",
      "\n",
      "제4조 (약관의 명시와 개정) \n",
      "\n",
      "\n",
      "\n",
      "1 회사는 계약 체결시 이 약관의 내용을 회원으로 가입하려는 자에게 설명하고, 회원이 요구할 \n",
      "\n",
      "때에는 이 약관을 교부합니다. \n",
      "\n",
      "2 회사는 약관의규제에관한법률, 소비자보호법 등 관련법령을 위배하지 않는 범위에서 이 약관\n",
      "\n",
      "을 개정할 수 있습니다. \n",
      "\n",
      "3 회사가 이 약관을 개정할 경우에는 적용일자 및 개정사유를 명시하여 현행약관과 함께 그 적\n",
      "\n",
      "용일자 15일 이전부터 적용일자 전일까지 제13조의 방법으로 예고합니다. \n",
      "\n",
      "4 회사가 약관을 개정할 경우에는 그 개정약관은 그 적용일자 이후에 체결되는 계약에만 적용되\n",
      "\n",
      "고 그 이전에 이미 체결된 계약에 대해서는 개정전의 약관조항이 그대로 적용됩니다. 다만, 이미 \n",
      "\n",
      "계약을 체결한 회원이 개정약관 조항의 적용을 받기를 원하는 뜻을 제3항에 의한 개정약관의 예\n",
      "\n",
      "고기간 내에 회사에 서면으로 통지하여 회사의 동의를 받은 경우에는 개정약관조항이 적용됩니다. \n",
      "\n",
      " \n",
      "\n",
      "제5조 (서비스의 제공) \n",
      "\n",
      "1 회사는 회원에게 다음과 같은 서비스를 제공합니다. \n",
      "\n",
      "1. 회원에 대한 결혼상담 및 인터넷 등을 통한 결혼관련 정보의 제공 \n",
      "\n",
      "2. 회원의 소개 및 이를 위한 행사 등의 개최 \n",
      "\n",
      "3. 회원에 대한 결혼관련 개인정보의 관리 \n",
      "\n",
      "4. 기타 결혼과 관련된 사항으로서 회사가 정하는 서비스 \n",
      "\n",
      "2 회사는 서비스의 내용과 방법이 변경된 경우에는 회원의 동의가 없는 한 이 약관 변경의 방법\n",
      "\n",
      "에 의해서만 서비스의 내용과 방법을 변경할 수 있습니다. \n",
      "\n",
      " \n",
      "\n",
      "제6조 (회원자격의 보유기간) \n",
      "\n",
      "1 회원이 회사로부터 제5조에서 정한 서비스를 제공받을 수 있는 기간은 계약체결일로부터 1년\n",
      "\n",
      "입니다. 다만, 회사가 제7조 제1항에서 정한 횟수의 소개를 다한 경우에는 그 기간이 종료된 것으\n",
      "\n",
      "로 봅니다. \n",
      "\n",
      "2 회사의 책임있는 사유로 회원에게 서비스를 제공하지 못하고 제1항 본문의 기간이 경과한 경\n",
      "\n",
      "우, 회원은 회사에 대하여 당해 기간만큼 회원자격 보유기간을 연장하여 줄 것과 나머지 횟수의 \n",
      "\n",
      "소개를 이행하여 줄 것을 청구할 수 있습니다. \n",
      "\n",
      " \n",
      "\n",
      "제7조 (회원의 권리) \n",
      "\n",
      "\n",
      "\n",
      "1 회원은 제6조에 정한 기간 동안 ㅇ회의 이성 소개를 받습니다. 회사는 회원에게 이성을 소개\n",
      "\n",
      "하는 경우 만남에 필요한 제반정보를 사전에 제공합니다. \n",
      "\n",
      "2 회원은 회사의 이성 소개에 대하여 2일전까지 만남을 보류할 것을 신청할 수 있습니다. 이때 \n",
      "\n",
      "회원은 이미 다른 회원과 교제 중이거나 본인의 입원, 출장 또는 가족의 사고나 사망 등 상대방\n",
      "\n",
      "과의 만남에 응할 수 없는 불가피한 사정을 소명함으로써 소개횟수의 산입을 면할 수 있습니다. \n",
      "\n",
      "3 회원은 회사로부터 고유번호를 부여받아 회사가 제공하는 인터넷정보서비스를 이용할 수 있습\n",
      "\n",
      "니다. \n",
      "\n",
      "4 회원은 회사가 주최하는 각종 행사에 무료 또는 할인 혜택을 받아 참가할 수 있습니다. \n",
      "\n",
      "5 회원은 회원자격 보유기간 동안 회사가 제공하는 결혼관련 할인서비스를 받을 수 있습니다. \n",
      "\n",
      " \n",
      "\n",
      "제8조 (회원의 의무) \n",
      "\n",
      "1 회원은 회사와 가입계약체결후 회사에 가입비 금ㅇㅇㅇ원을 납부하여야 합니다. \n",
      "\n",
      "2 회원은 회사에 결혼관련 개인정보를 사실대로 제공하여야 합니다. \n",
      "\n",
      "3 회원은 회사에 제공한 결혼관련 개인정보에 변동이 있을 경우 15일 이내에 회사에 이를 통지\n",
      "\n",
      "하여야 합니다. \n",
      "\n",
      "4 회원은 회사와 합의하여 회사가 소개한 상대방과의 만남에 응하여야 합니다. 다만, 제7조 제2\n",
      "\n",
      "항의 경우에는 그러하지 않습니다. \n",
      "\n",
      "5 회원이 회사의 소개로 교제를 시작한 경우에는 그로부터 1월 이내에 회사에 그 사실을 통지하\n",
      "\n",
      "여야 합니다. 결혼하기로 확정한 경우에도 같습니다. \n",
      "\n",
      " \n",
      "\n",
      "제9조 (회원의 인터넷정보서비스 이용시 주의의무) \n",
      "\n",
      "1 회사가 제공하는 인터넷정보서비스 이용시 ID와 비밀번호에 관한 관리책임은 회원에게 있습니\n",
      "\n",
      "다. \n",
      "\n",
      "2 회원은 자신의 ID 및 비밀번호를 제3자에게 이용하게 해서는 안됩니다. \n",
      "\n",
      "3 회원이 자신의 ID 및 비밀번호를 도난당하거나 제3자가 사용하고 있음을 인지한 경우에는 즉\n",
      "\n",
      "시 회사에 통지하고 회사의 안내가 있는 경우에는 그에 따라야 합니다. \n",
      "\n",
      " \n",
      "\n",
      "제10조 (계약의 종료) \n",
      "\n",
      "\n",
      "\n",
      "1 계약의 종료사유는 다음과 같습니다. \n",
      "\n",
      "1. 당사자에 의한 계약의 해지 \n",
      "\n",
      "2. 제6조에서 정한 회원자격 보유기간의 경과 \n",
      "\n",
      "3. 회원간의 결혼 \n",
      "\n",
      "4. 회원의 사망, 회사의 파산 기타 계약의 목적을 달성할 수 없는 경우 \n",
      "\n",
      "2 회사는 다음 각 호의 사유가 확인된 경우 회원에 대하여 최고하지 아니하고 계약을 해지할 수 \n",
      "\n",
      "있습니다. \n",
      "\n",
      "1. 회원이 위조 또는 변조된 서류를 제출한 경우. 다만, 회원의 고의나 중과실이 없는 경우는 제\n",
      "\n",
      "외합니다. \n",
      "\n",
      "2. (2006. 12. 22. 본호 삭제) \n",
      "\n",
      "3. 이성과 동거하고 있는 경우 \n",
      "\n",
      "4. 회원이 제8조 제2항에 위반하여 허위의 정보를 제공한 경우. 단, 다소 과장된 표현 등 경미한 \n",
      "\n",
      "위반이나 사소한 사항을 누락한 경우는 제외합니다. \n",
      "\n",
      "5. 회원이 제8조 제4항에 위반하여 만남보류의 신청없이 무단으로 2회 이상 상대방과의 만남에 \n",
      "\n",
      "응하지 아니하거나, 만남보류를 신청하고 제출하는 제7조 제2항의 소명자료가 허위인 경우 \n",
      "\n",
      "6. 회원이 회사의 소개로 상대방과 만나거나 교제하면서 사회통념상 상대방에게 모욕감이나 심한 \n",
      "\n",
      "불쾌감을 주는 행위를 하여 상대방이 회사에 그에 관하여 2회 이상 항의한 경우 \n",
      "\n",
      "3 회사는 다음 각 호의 사유가 확인된 경우 회원에 대하여 2주간의 최고를 하고 회원이 재발방\n",
      "\n",
      "지를 위한 적절한 조치를 취하지 아니한 때에는 계약을 해지할 수 있습니다. \n",
      "\n",
      "1. 회사의 신용, 명예를 손상시키는 행위를 한 경우 \n",
      "\n",
      "2. 회원이 법령 기타 이 약관에 위반되는 행위를 한 경우 \n",
      "\n",
      "4 회원은 언제든지 최고 없이 계약을 해지할 수 있습니다. \n",
      "\n",
      " \n",
      "\n",
      "제11조 (가입비의 환불) \n",
      "\n",
      "1 회사의 책임있는 사유로 계약이 해지되는 경우에는 회원가입비 전액을 환불합니다. 다만, 회원\n",
      "\n",
      "의 책임이 경합하는 경우에는 그러하지 않습니다. \n",
      "\n",
      "2 회사의 책임없이 계약이 해지되는 경우에는 다음과 같이 회원가입비를 환불합니다. \n",
      "\n",
      "1. 회원가입 계약성립후 회사의 소개 개시전에 해지된 경우 회원가입비의 80퍼센트\n",
      "\n",
      "\n",
      "\n",
      "2. 1회 소개개시후 해지된 경우 \n",
      "\n",
      "3 제6조 제2항에 의하여 회원의 자격기간이 연장되는 경우나 제10조 제1항 제2호, 제3호의 사유\n",
      "\n",
      "로 계약이 종료된 경우에는 가입비를 환불하지 아니합니다. \n",
      "\n",
      "4 위 제1항, 제2항에 불구하고 제10조 제1항 제2호, 제3호 외의 사유로 계약이 종료된 경우 회\n",
      "\n",
      "원은 회사의 동의를 얻어 가입비를 환불받지 아니하고 그에 상응하는 회원자격을 타인으로 하여\n",
      "\n",
      "금 보유하게 할 수 있습니다. 다만, 타인은 제3조 제2항에서 정한 적격자에 해당하여야 합니다. \n",
      "\n",
      " \n",
      "\n",
      "제12조 (개인정보의 보호) \n",
      "\n",
      "1 회사는 회원에 관한 정보수집시 필요한 최소한의 결혼관련 개인정보를 수집합니다. \n",
      "\n",
      "2 회사가 회원의 개인식별이 가능한 개인정보를 수집하는 때에는 반드시 당해 회원 또는 회원가\n",
      "\n",
      "입신청자의 동의를 받습니다. \n",
      "\n",
      "3 제공된 개인정보는 당해 회원의 동의없이 목적 외의 이용이나 제3자에게 제공할 수 없으며, \n",
      "\n",
      "이에 대한 모든 책임은 회사가 집니다. 다만, 다음의 경우에는 예외로 합니다. \n",
      "\n",
      "1. 소개 등 회사업무에 필요한 최소한의 회원의 정보(성명, 주소, 전화번호)를 알려주는 경우 \n",
      "\n",
      "2. 통계작성, 학술연구 또는 시장조사를 위하여 필요한 경우로서 특정 개인을 식별할 수 없는 형\n",
      "\n",
      "태로 제공하는 경우 \n",
      "\n",
      "4 회사가 제2항과 제3항에 의해 회원의 동의를 받아야 하는 경우에는 정보의 수집목적 및 이용\n",
      "\n",
      "목적, 제3자에 대한 정보제공 관련사항(제공받는자, 제공목적 및 제공할 정보의 내용)등을 미리 명\n",
      "\n",
      "시하거나 통지하여야 하며 회원은 언제든지 이 동의를 철회할 수 있습니다. \n",
      "\n",
      "5 회원은 언제든지 회사가 가지고 있는 자신의 개인정보에 대해 열람 및 오류정정을 요구할 수 \n",
      "\n",
      "있으며 회사는 이에 대해 지체없이 필요한 조치를 취할 의무를 집니다. 이용자가 오류의 정정을 \n",
      "\n",
      "요구한 경우에는 회사는 그 오류를 정정할 때까지 당해 개인정보를 이용하지 않습니다. \n",
      "\n",
      "6 회사는 개인정보 보호를 위하여 노력하며 개인정보의 분실, 도난, 유출, 변조 등으로 인한 회\n",
      "\n",
      "원의 손해에 대하여 모든 책임을 집니다. \n",
      "\n",
      "7 회사 또는 그로부터 개인정보를 제공받은 제3자는 계약의 해지 기타 개인정보의 수집목적 또\n",
      "\n",
      "는 제공받은 목적을 달성한 때에는 당해 개인정보를 지체없이 파기합니다. \n",
      "\n",
      " \n",
      "\n",
      "제13조 (회원에 대한 통지) 회원에 대한 통지 및 예고는 서면, 전화, 모사전송 또는 전자우편(e\n",
      "\n",
      "mail)의 방법으로 할 수 있습니다. \n",
      "\n",
      "제14조 (게시물에 대한 책임과 정책)\n",
      "\n",
      "이용자 가 게시판 내에 게시한 게시물의 저작권은 게시자 본인에게 있으며, \n",
      "\n",
      "본 게시판에 올린 정보나 의견은  회사 의 입장과는 무관합니다.\n",
      "\n",
      "게시판에 게시한 게시물로 파생되는 문제에 대해서는 전적으로 해당 게시물을\n",
      "\n",
      "게시한 본인에게 책임이 있습니다. \n",
      "\n",
      " 회사 는  이용자 가 게시판에 게시, 게재하거나 서비스를 통해 전송한 내용물에 대하여 책임이 없으며, \n",
      "\n",
      "삭제 대상이 되는 게시물에 해당하는 경우에는 사전 통지 후 삭제할 수 있습니다. \n",
      "\n",
      "단 게시물이 불법적인 내용이 확실할 경우 통보 없이도 삭제가 가능합니다.\n",
      "\n",
      " 이용자 가 게시한 게시물이 타인의 저작권, 프로그램 저작권 등을 침해하더라도 이에 대한 민,형사상의 \n",
      "\n",
      "책임을 부담하지 않으며, 만일 이를 이유로  회사 가 타인으로부터 손해배상청구 등 이의 제기를 받은 경우 \n",
      "\n",
      "해당  이용자 는 그로 인해 발생한 모든 손해를 부담하여야 합니다. \n",
      "\n",
      "1.  회사 는  이용자 가 게시한 서비스 내의 모든 내용물이 게시판 운영원칙에 위배된다고 판단할 경우 \n",
      "\n",
      "해당 게시자에게 사전 또는 사후 통보 없이 삭제할 수 있으며, 더불어 해당  이용자 에게는 그 경중에\n",
      "\n",
      "따라 합당한 제재를 가할 수 있습니다. \n",
      "\n",
      "2.  회사 는 필요에 의해 제공되는 카테고리 및 게시판의 추가 생성과 삭제를 임의로 할 수 있으며, \n",
      "\n",
      "또한 게시판에 저장된 자료에 대해 게재기간 또는 저장기간을 정할 수 있고, 이를 변경할 수 있습니다. \n",
      "\n",
      "3.  회사 는 필요에 따라  이용자 가 게시한 게시물을 사전 통지 없이 편집, 이동할 수 있으며,  \n",
      "\n",
      "이용자 가 해지하거나 적법한 사유로 해지 된 경우 해당  이용자 가 게시하였던 게시물을 삭제할 수 있습니다. \n",
      "\n",
      "\n",
      "제15조 (약관의 해석) 이 약관에서 정하지 아니한 사항과 이 약관의 해석은 관계법령 및 상관례\n",
      "\n",
      "에 따릅니다. \n",
      "\n",
      " \n",
      "\n",
      "제16조 (분쟁해결) \n",
      "\n",
      "1 회사는 회원으로부터 제출되는 불만사항 및 의견은 우선적으로 그 사항을 처리합니다. 다만, \n",
      "\n",
      "신속한 처리가 곤란한 경우에는 회원에게 그 사유와 처리일정을 즉시 통지해 드립니다. \n",
      "\n",
      "2 이 약관과 관련하여 당사자 사이에 다툼이 있는 경우에는 당사자의 협의로 처리하되 신의성실\n",
      "\n",
      "의 원칙에 따라 원만히 해결합니다. \n",
      "\n",
      " \n",
      "\n",
      "제17조(재판관할 및 준거법) \n",
      "\n",
      "1 이 약관과 관련하여 회사와 회원간에 발생한 분쟁에 관한 소송은 민사소송법상의 관할법원에 \n",
      "\n",
      "제기합니다. \n",
      "\n",
      "2 이 약관과 관련하여 회사와 회원간에 제기된 소송에는 한국법을 적용합니다 \n",
      "\n",
      "제8조 (회원의 의무)\n",
      "\n",
      "③ 회원은 회사에 제공한 결혼관련 개인정보에 변동이 있을 경우 45일 이내에 회사에 이를 통지하여야 합니다.\n",
      "\n",
      "=== 불리한 약관 내용 ===\n",
      "제1조 (목 적)노인성질환 등으로 혼자서 일상생활을 하기 어려운 노인(장기요양급여수급자)에게 시설급여서비스를 제공하여\n",
      "노후의 건강증진 및 생활안정을 도모하고 그 가족의 부담을 덜어줌으로써 삶의 질을 향상시키고자 한다.\n",
      "제 2조(기본원칙)\n",
      " 갑 은  을 이 사업 성공화를 위한 최대한의 지원을 하고, 을 은 동사업이 성공하도록\n",
      "최대한의 노력을 한다.\n",
      "제3조(입소 이용로 납부)① 갑의 입소당월 이용료는 에 납부하기로 한다. 입소 당월 이후 매월 이용료는 매월\n",
      "일 납부하기로 한다.(납부일이 공휴일인 경우 그 익일로 한다.)\n",
      "② 갑 (또는 병)은 본인일부부담금과 비급여항목에 대한 비용을 전액 지불하여야한다.\n",
      "③ 갑의 이용료 납부방법은 로 한다.\n",
      "④ 갑 또는병의 요구에 의한 개별적인 물품․용역의 구입과 개별적인 희망에 의해 외부 서비스 제공자가\n",
      "개인을 대상으로 제공하는 프로그램,서비스에 따른 실비는 갑 또는 병이 별도 부담한다.\n",
      "제4조 ( 계약자 의무 )\n",
      "① 갑의 의무\n",
      "1. 월 이용료 납부\n",
      "2. 시설의 건전한 생활분위기 조성에 협조\n",
      "3. 시설 내에 개인 애완동물 사육금지 등 청결\n",
      "4. 인적사항 변동 시 즉시 통보\n",
      "5. 기타 시설생활 규칙 이행\n",
      "② 을의 의무\n",
      "1. 갑의 건강관리 협조\n",
      "2. 갑의 신변이상을 병에게 즉시 연락\n",
      "3. 식사제공 및 생활상담, 조언 및 생활편익 제공\n",
      "4. 건물 및 부대시설의 청결 및 유지관리\n",
      "5. 기타 갑의 안락한 노후생활에 필요한 협조\n",
      "③ 병의 의무\n",
      "1. 갑에 관한 건강 및 필요한 자료제공\n",
      "2. 갑의 월 이용료 등 입소비용 부담\n",
      "3. 인적 사항 등 변경 시 즉시 통보\n",
      "4. 갑의 의무이행이 어려울시 대리인 선정 및 을에게 통보\n",
      "5. 기타 시설생활 규칙이행\n",
      "제5조(계약해지요건)① 갑의 해지\n",
      "1. 갑과 병은 의사에 따라 자유롭게 퇴소를 결정할 수 있으며, 제2조 제6항에 의거하여 이에 대한 사항을 을에게\n",
      "통지하여야 한다. 다만, 부득이한 경우에는 유선으로 통보할 수 있다.\n",
      "② 을의 해지\n",
      "1. 갑의 건강진단 결과 감염병의 예방 및 관리에 대한 법률 에 따른 감염병 환자로서 감염의 위험성이 있는 경우로\n",
      "판정될 때\n",
      "2. 타 입소자의 안전과 인권에 심대한 위협이 될 때\n",
      "3. 갑이 이용료를 2회 이상 납부하지 않고 연체하였을 때(단, 을은 갑에게 서면으로 이용료 납부를 최고하고\n",
      "갑 또는 병이 최고 통지를 받은 날부터 14일까지 이용료를 납부하지 않는 경우)\n",
      "제6조 ( 퇴소 )\n",
      "① 을은 제5조②항의 규정에 의한 계약해지 요건 시 이에 대한 증빙서류와 함께 계약해지 의사를 갑에게 서면으로\n",
      "통지하여야 한다.\n",
      "② 갑과 병은 제1항의 규정에 의한 통지를 받았을 때에는, 본원 소정의 퇴소신청서를 작성하여 을에게 제출하고 을의\n",
      "보관물품을 인수하여 퇴소하여야 한다. 단, 사유물품을 1년 이내에 인수하지 않을 경우에는 병(또는 갑)에게 통보 후\n",
      "을이 자체적으로 처리할 수 있으며, 이에 대해 갑 또는 병은 이의를 제기 할 수 없다.\n",
      "③ 을은 갑이 퇴소 시 이용료 잔액에 대하여 현금 또는 갑이 지정한(또는 병)계좌로 지체 없이 지급한다.\n",
      "제7조 ( 입소물품 ) 갑은 시설입소 시 개인물품을 을과 협의하여 반입할 수 있다.\n",
      "제8조 ( 면회 및 외출,외박 )\n",
      "① 갑의 면회시간은 매일 09시부터 21시까지로 한다 (단 갑 과 을 또는 병이 동의할 경우 변경 할 수 있다).\n",
      "② 갑은 외출,외박시 사전에 을에게 신청하여야 한다.\n",
      "③ 을이 제공하는 음식물 이외의 음식물을 갑이나 병이 반입하고자 할 때에는 을과 협의 후에 반입하여야 한다.\n",
      "④ 외출,외박 중 갑에게 신체적,정신적 변화 등의 사항이 발생할 경우 갑 또는 병은 을에게 즉시 사실을 알려야 한다.\n",
      "제9조 (시설관리)을은 보건, 위생, 방범, 방화 기타 생활에 필요한 서비스 제공을 위하여 시설 직원이 거실을 출입하거나 필요한 조치를\n",
      "할 수 있다.\n",
      "② 을은 원무 행정상 필요한 경우 입소자의 거실을 재배치 할 수 있다\n",
      "제10조 ( 건강관리 )\n",
      "① 을은 갑의 건강 및 감염병 예방을 위하여 갑과 종사자들에게 연 1회 이상 건강진단을 실시하여야 한다.\n",
      "② 갑이 질병 또는 상해로 인하여 진료가 필요하다고 인정 할 때에는 의사의 진료를 받을 수 있도록 조치하여야 한다.\n",
      "③ 의사의 진료결과 입원이 필요한 질병이나 월 1회 이상 장기간 진료가 요구되는 경우 진료비와 부가서비스\n",
      "경비(교통비, 외부간병인 등)는 갑 또는 병에게 별도 징수한다.\n",
      "④ 을은 입소시 갑의 건강상태 등을 확인하고 기록함은 물론, 갑에 대한 적절한 건강관리를 하여야 하며, 갑의 건강유지,\n",
      "악화방지를 위하여 적절한 조치를 취해야 한다.\n",
      "⑤ 을은 갑의 건강관리를 위하여 활력증상 확인, 투약관리, 욕창관리, 낙상방지 등 건강관리 활동을 하여야 한다.\n",
      "⑥ 을은 갑이 의사로부터 월 2회 이상 건강관리를 받을 수 있도록 조치를 취해야 하며, 이상시 지체 없이 병에게\n",
      "통보한다.\n",
      "⑦ 을은 갑의 건강관리를 위하여 물리치료, 재활치료를 제공해야 한다.\n",
      "제11조 (시설물 배상) ① 갑은 을의 시설물에 대하여 그 본래의 용도로 사용해야 하며, 갑에 의한 시설물의 파손 또는 멸실에 대하여는\n",
      "갑 또는 병이 원상회복 하여야 한다.\n",
      "② 갑 또는 병이 원상회복을 할 수 없을 때에는 을은 시설물의 잔존가치 등을 고려하여 실비로 산출한 비용을 그 내역과\n",
      "함께 문서로 제시하고 갑 또는 병은 이에 대하여 납부하여야 한다.\n",
      "제12조 (위급 시 조치) ① 을은 갑의 생명이 위급한 상태라고 판단된 때에는 협약병원, 갑(또는 병)이 지정한 병원 또는 관련 의료기관으로\n",
      "즉시 후송하고 병에게 즉시 통보하여야 한다.\n",
      "② 병은 제1항의 규정에 의한 통보를 받았을 때에는 신속하게 대처하여야 한다. 다만 대처가 어려울 경우에는 우선 진료를\n",
      "받을 수 있도록 조치하여야 한다.\n",
      "③ 갑이 사망하였을 경우에 을은 즉시 병원으로 후송하고 병에게 즉시 통보하여야 한다. 단 병과 사전에 협약이 있을\n",
      "경우, 을이 장례 절차를 진행할 수 있다.\n",
      "④ 위 제3항의 규정에 의한 통보가 불가능할 때 을은 갑의 입소월액 또는 시설의 운영비로 화장에 의한 장례를 집행하고\n",
      "추후에 병과 정산할 수 있다.\n",
      "제13조 입소자의 임종 및 장례절차는 가족이나 연고자가 있을 경우와 무연고자를 구별하여 정한다.\n",
      "( 임종 및 장례)① 가족이나 연고자가 있을 경우\n",
      "1. 임종이 임박하였을 시 치료 및 입원은 병과 협의하여 결정한다.\n",
      "2. 장례는 병 또는 신원인수인의 정함에 따라 가족이 장례절차의 모든 것을 수행하게 한다.\n",
      "② 무연고자\n",
      "1. 임종이 임박하였을 시 치료 및 입원은 을의 책임 하에 결정한다.\n",
      "2. 장례는 행정기관과 협의하여 행정절차에 의거하여 장례가 수행될 수 있도록 한다.\n",
      "3. 1개월 이내 관할 동(읍, 면)사무소에 사망신고를 한다.\n",
      "제14조 (식사 및 간식)① 을은 1일 3식 및 간식을 갑에게 제공하며, 갑의 상태에 따라 특별식을 제공할 수 있다. 특별식(경관급식비 등)\n",
      "비용이 일반 수급자의 식재료비,간식비를 초과하는 부분은 갑또는 병이 별도 부담한다.\n",
      "② 을은 식단표 및 간식제공계획에 대하여 사전에 갑에게 제공하고 게시하여야 한다\n",
      "제\n",
      "제15조 (요양실의 배정) 갑의 요양실 배정은 입소순서에 따르며, 입소 후 갑의 건강상태, 수발조건, 형평성 등을\n",
      "고려하여 변경할 수 있으며 갑 또는 병의 의견을 반영하여 을이 조정할 수 있다.\n",
      "제16조 (개인정보 보호의무)① 을은 갑의 개인정보를 관계규정에 따라 보호하여야 한다.\n",
      "② 을은 장기요양서비스 제공에 필요한 갑의 개인정보 자료를 수집하고 활용하며 동 자료를 노인장기요양보험 운영주체\n",
      "등에게 관계규정에 따라 제출할 수 있다.\n",
      "③ 갑의 개인정보수집 및 활용에 대한 승낙은 서면(개인정보수집 및 활용 동의서) 으로 한다.\n",
      "④ 갑은 을이 수집,관리하는 본인의 개인정보에 대해 알 권리가 있다.\n",
      "⑤ 을은 갑의 사생활을 존중하고, 업무상 알게 된 개인정보는 철저히 비밀을 보장한다.\n",
      "제\n",
      "제17조 (기록 및 공개)수급자의 생활과 장기요양서비스에 관한 모든 내용을 상세히 관찰하여 정확히 기록하고, 수급자나\n",
      "가족이 요구할 경우 표준양식에 의거한 기록을 공개하여야 한다.\n",
      "제18조 (배상책임)\n",
      "① 요양센터는 서비스 제공에 있어 요양원의 귀책사유로 인하여 입소자의 생명, 신체,\n",
      "재산에 손해를 끼쳤을 경우 배상하여야 한다. 다만, 천재지변, 제3자의 귀책사유 및 요\n",
      "양원의 고의, 과실에 의한 손해가 아니면 배상책임을 지지 아니 한다.\n",
      "② 입소자의 귀책사유로 요양센터와 타이용자에게 손해를 끼친 경우 배상해야 한다.\n",
      "③ 요양센터는 성실하게 입소자를 보호하며 민,형사상의 책임을 요구할 수 없다.\n",
      "1. 입소자가 시설에서 일상적인 생활 중 자연사 하였을 경우\n",
      "2. 입소자가 임의로 외출,외박하여 상해를 당했거나 사망하였을 경우\n",
      "3. 입소자가 천재지변으로 인하여 상해를 당했거나 사망하였을 경우\n",
      "4. 입소자가 본인의 고의 또는 과실로 인하여 상해를 당했거나 사망하였을 경우\n",
      "5. 기타 요양센터 직원이 업무수행 도중 고의성이 없고, 인력으로 예방할 수 없는 경우\n",
      "④ 요양기간 중 불의의 사건, 사고(부상, 사망)의 발생시 갑에 대하여 어떤 책임(민, 형사상 책임 포함)도 묻지 않으며, \n",
      "이에 대한 이의도 절대 제기하지 않을 것을 첨부된 각서로 제출해야 한다\n",
      "제19조 (특별한 보호 및 신체구속금지)\n",
      "① 요양센터는 서비스를 제공함에 있어 신체구속이나 입소자의 행동을 제한하는 행위\n",
      "는 하지 않는다. 단, 입소자 및 타 입소자의 생명, 신체보호를 위해 불가피한 경우\n",
      "에는 그러하지 아니하다.\n",
      "② 신체를 제한할 경우에는 심신의 상황, 신체제한을 가한 시간, 신체적 제한 사유에\n",
      "대하여 자세히 기록하고 입소자 및 보호자 등 대리인에게 그이유를 설명하고 동의\n",
      "를 구한다.\n",
      "③ 신체적 제한에 포함되는 내용은 격리보호, 낙상예방을 위한 침상보호대(억제대)\n",
      "사용 및 휠체어의 안전벨트 사용, 경관튜브 제거위험 방지를 위한 신체일부의 구\n",
      "속등 직접적인 보호와 관련된 서비스 내용이다.\n",
      "제20조 (고충대응) ① 이용자는 제공된 서비스에 대해 불만이 있을 경우 즉시 요양센\n",
      "터에 고충처리를 요구할 수 있다.\n",
      "② 요양센터는 고충대응 책임자, 연락처 등을 확실히 하여 성실하게 대처하여야 한다.\n",
      "③ 요양센터는 이용자가 고충에 대해 신청했을 때 이를 이유로 이용자에 대해 불이\n",
      "익을 주어서는 안된다.\n",
      "제21조 (분쟁해결방법) 본 서비스 이용계약과 관련하여 발생한 분쟁에 대하여 요양센\n",
      "터와 이용자가 합의에 따라 원만히 처리하며, 만약 당사자 간 합의에 도달하지 못한\n",
      "경우에는 관련법규나 요양센터 제규정 및 관례에 따른다.\n",
      "제22조 (이용계약서의 해석) 본 계약서에 명시되지 않은 사항은 요양센터 관련법규 및 내\n",
      "부지침, 고시에 따르며, 관련 법규가 없을 경우에는 관련법 취지를 존중하여 이용자와 요\n",
      "양센터가 협의하여 정한다.\n",
      "이용자,제공자 및 보호자(대리인)는 장기요양급여 중 시설급여 이용에 대하여 상기와\n",
      "같은 조건으로 계약을 체결한다.\n"
     ]
    }
   ],
   "source": [
    "import os\n",
    "import xml.etree.ElementTree as ET\n",
    "\n",
    "# 경로 설정\n",
    "유리_경로 = './019.법률,_규정_(판결서,_약관_등)_텍스트_분석_데이터/01.데이터/2.Validation/원천데이터_230510_add/VS_2.약관/2.Validation/원천데이터/VS_2.약관/01.유리'\n",
    "불리_경로 = './019.법률,_규정_(판결서,_약관_등)_텍스트_분석_데이터/01.데이터/2.Validation/원천데이터_230510_add/VS_2.약관/2.Validation/원천데이터/VS_2.약관/02.불리'\n",
    "\n",
    "# XML 파일에서 약관 내용 추출하는 함수\n",
    "def extract_content(xml_file):\n",
    "    tree = ET.parse(xml_file)\n",
    "    root = tree.getroot()\n",
    "    # CDATA 섹션 내의 텍스트 추출 \n",
    "    content = root.find('.//cn').text.strip()\n",
    "    return content\n",
    "\n",
    "# 각 경로에서 첫 번째 XML 파일 찾기\n",
    "유리_파일 = glob.glob(os.path.join(유리_경로, '*.xml'))[0]\n",
    "불리_파일 = glob.glob(os.path.join(불리_경로, '*.xml'))[0]\n",
    "\n",
    "# 약관 내용 추출 및 출력\n",
    "print(\"=== 유리한 약관 내용 ===\")\n",
    "유리_내용 = extract_content(유리_파일)\n",
    "print(유리_내용)\n",
    "\n",
    "print(\"\\n=== 불리한 약관 내용 ===\") \n",
    "불리_내용 = extract_content(불리_파일)\n",
    "print(불리_내용)"
   ]
  },
  {
   "cell_type": "markdown",
   "metadata": {},
   "source": [
    "### 1. 조항별로 분리한다."
   ]
  },
  {
   "cell_type": "code",
   "execution_count": 72,
   "metadata": {},
   "outputs": [
    {
     "name": "stdout",
     "output_type": "stream",
     "text": [
      "=== 유리한 약관 조항별 분리 ===\n",
      "['제1조(목적) 이 약관은 결혼정보회사(결혼정보업자, 이하 회사라 함)가 제공하는 결혼관련 정보\\n\\n서비스(이하 서비스라 함)를 이용함에 있어 회사와 회원 사이의 권리․의무 및 책임사항을 규정함\\n\\n을 목적으로 합니다.', '제2조 (정의) \\n\\n1 회원이라 함은', '제3조에서 정한 가입절차에 따라 회사가 그 가입신청을 승낙하고 이 약관에 \\n\\n따라 계약을 체결한 사람을 말합니다. \\n\\n2 소개라 함은 회사가 회원간에 결혼상대방을 구하기 위한 만남을 주선하는 것을 말합니다. \\n\\n3 교제라 함은 회사의 소개로 만난 회원이 2회 이상 계속하여 만나는 것을 말합니다. \\n\\n4 결혼관련 개인정보라 함은 학력, 직업, 병력 등 통상 결혼함에 있어 당사자 사이에 확인할 \\n\\n필요가 있는 것으로 인정되는 개인정보를 말합니다.', '제3조 (회원가입) \\n\\n1 회원이 되려고 하는 사람은 결혼관련 개인정보를 회사에 제공한 후 회사가 정한 가입절차에 \\n\\n따라 회원가입을 신청합니다. \\n\\n2 회사는 제1항과 같이 회원가입을 신청한 자 중 다음 각 호의 사항에 대한 심사를 실시하여 그 \\n\\n적격여부를 판단합니다. \\n\\n1. 배우자(사실혼관계의 배우자 포함) 있는 자인지 여부의 확인 \\n\\n2. 결혼관련 개인정보의 사실여부의 확인 \\n\\n3 회사는 제2항의 심사결과 적격자로 인정한 신청자에 한하여 회원가입을 승낙하고, 이 약관에 \\n\\n따라 계약을 체결합니다.', '제4조 (약관의 명시와 개정) \\n\\n\\n\\n1 회사는 계약 체결시 이 약관의 내용을 회원으로 가입하려는 자에게 설명하고, 회원이 요구할 \\n\\n때에는 이 약관을 교부합니다. \\n\\n2 회사는 약관의규제에관한법률, 소비자보호법 등 관련법령을 위배하지 않는 범위에서 이 약관\\n\\n을 개정할 수 있습니다. \\n\\n3 회사가 이 약관을 개정할 경우에는 적용일자 및 개정사유를 명시하여 현행약관과 함께 그 적\\n\\n용일자 15일 이전부터 적용일자 전일까지', '제13조의 방법으로 예고합니다. \\n\\n4 회사가 약관을 개정할 경우에는 그 개정약관은 그 적용일자 이후에 체결되는 계약에만 적용되\\n\\n고 그 이전에 이미 체결된 계약에 대해서는 개정전의 약관조항이 그대로 적용됩니다. 다만, 이미 \\n\\n계약을 체결한 회원이 개정약관 조항의 적용을 받기를 원하는 뜻을 제3항에 의한 개정약관의 예\\n\\n고기간 내에 회사에 서면으로 통지하여 회사의 동의를 받은 경우에는 개정약관조항이 적용됩니다.', '제5조 (서비스의 제공) \\n\\n1 회사는 회원에게 다음과 같은 서비스를 제공합니다. \\n\\n1. 회원에 대한 결혼상담 및 인터넷 등을 통한 결혼관련 정보의 제공 \\n\\n2. 회원의 소개 및 이를 위한 행사 등의 개최 \\n\\n3. 회원에 대한 결혼관련 개인정보의 관리 \\n\\n4. 기타 결혼과 관련된 사항으로서 회사가 정하는 서비스 \\n\\n2 회사는 서비스의 내용과 방법이 변경된 경우에는 회원의 동의가 없는 한 이 약관 변경의 방법\\n\\n에 의해서만 서비스의 내용과 방법을 변경할 수 있습니다.', '제6조 (회원자격의 보유기간) \\n\\n1 회원이 회사로부터', '제5조에서 정한 서비스를 제공받을 수 있는 기간은 계약체결일로부터 1년\\n\\n입니다. 다만, 회사가', '제7조 제1항에서 정한 횟수의 소개를 다한 경우에는 그 기간이 종료된 것으\\n\\n로 봅니다. \\n\\n2 회사의 책임있는 사유로 회원에게 서비스를 제공하지 못하고 제1항 본문의 기간이 경과한 경\\n\\n우, 회원은 회사에 대하여 당해 기간만큼 회원자격 보유기간을 연장하여 줄 것과 나머지 횟수의 \\n\\n소개를 이행하여 줄 것을 청구할 수 있습니다.', '제7조 (회원의 권리) \\n\\n\\n\\n1 회원은', '제6조에 정한 기간 동안 ㅇ회의 이성 소개를 받습니다. 회사는 회원에게 이성을 소개\\n\\n하는 경우 만남에 필요한 제반정보를 사전에 제공합니다. \\n\\n2 회원은 회사의 이성 소개에 대하여 2일전까지 만남을 보류할 것을 신청할 수 있습니다. 이때 \\n\\n회원은 이미 다른 회원과 교제 중이거나 본인의 입원, 출장 또는 가족의 사고나 사망 등 상대방\\n\\n과의 만남에 응할 수 없는 불가피한 사정을 소명함으로써 소개횟수의 산입을 면할 수 있습니다. \\n\\n3 회원은 회사로부터 고유번호를 부여받아 회사가 제공하는 인터넷정보서비스를 이용할 수 있습\\n\\n니다. \\n\\n4 회원은 회사가 주최하는 각종 행사에 무료 또는 할인 혜택을 받아 참가할 수 있습니다. \\n\\n5 회원은 회원자격 보유기간 동안 회사가 제공하는 결혼관련 할인서비스를 받을 수 있습니다.', '제8조 (회원의 의무) \\n\\n1 회원은 회사와 가입계약체결후 회사에 가입비 금ㅇㅇㅇ원을 납부하여야 합니다. \\n\\n2 회원은 회사에 결혼관련 개인정보를 사실대로 제공하여야 합니다. \\n\\n3 회원은 회사에 제공한 결혼관련 개인정보에 변동이 있을 경우 15일 이내에 회사에 이를 통지\\n\\n하여야 합니다. \\n\\n4 회원은 회사와 합의하여 회사가 소개한 상대방과의 만남에 응하여야 합니다. 다만,', '제7조 제2\\n\\n항의 경우에는 그러하지 않습니다. \\n\\n5 회원이 회사의 소개로 교제를 시작한 경우에는 그로부터 1월 이내에 회사에 그 사실을 통지하\\n\\n여야 합니다. 결혼하기로 확정한 경우에도 같습니다.', '제9조 (회원의 인터넷정보서비스 이용시 주의의무) \\n\\n1 회사가 제공하는 인터넷정보서비스 이용시 ID와 비밀번호에 관한 관리책임은 회원에게 있습니\\n\\n다. \\n\\n2 회원은 자신의 ID 및 비밀번호를 제3자에게 이용하게 해서는 안됩니다. \\n\\n3 회원이 자신의 ID 및 비밀번호를 도난당하거나 제3자가 사용하고 있음을 인지한 경우에는 즉\\n\\n시 회사에 통지하고 회사의 안내가 있는 경우에는 그에 따라야 합니다.', '제10조 (계약의 종료) \\n\\n\\n\\n1 계약의 종료사유는 다음과 같습니다. \\n\\n1. 당사자에 의한 계약의 해지 \\n\\n2.', '제6조에서 정한 회원자격 보유기간의 경과 \\n\\n3. 회원간의 결혼 \\n\\n4. 회원의 사망, 회사의 파산 기타 계약의 목적을 달성할 수 없는 경우 \\n\\n2 회사는 다음 각 호의 사유가 확인된 경우 회원에 대하여 최고하지 아니하고 계약을 해지할 수 \\n\\n있습니다. \\n\\n1. 회원이 위조 또는 변조된 서류를 제출한 경우. 다만, 회원의 고의나 중과실이 없는 경우는 제\\n\\n외합니다. \\n\\n2. (2006. 12. 22. 본호 삭제) \\n\\n3. 이성과 동거하고 있는 경우 \\n\\n4. 회원이', '제8조 제2항에 위반하여 허위의 정보를 제공한 경우. 단, 다소 과장된 표현 등 경미한 \\n\\n위반이나 사소한 사항을 누락한 경우는 제외합니다. \\n\\n5. 회원이', '제8조 제4항에 위반하여 만남보류의 신청없이 무단으로 2회 이상 상대방과의 만남에 \\n\\n응하지 아니하거나, 만남보류를 신청하고 제출하는', '제7조 제2항의 소명자료가 허위인 경우 \\n\\n6. 회원이 회사의 소개로 상대방과 만나거나 교제하면서 사회통념상 상대방에게 모욕감이나 심한 \\n\\n불쾌감을 주는 행위를 하여 상대방이 회사에 그에 관하여 2회 이상 항의한 경우 \\n\\n3 회사는 다음 각 호의 사유가 확인된 경우 회원에 대하여 2주간의 최고를 하고 회원이 재발방\\n\\n지를 위한 적절한 조치를 취하지 아니한 때에는 계약을 해지할 수 있습니다. \\n\\n1. 회사의 신용, 명예를 손상시키는 행위를 한 경우 \\n\\n2. 회원이 법령 기타 이 약관에 위반되는 행위를 한 경우 \\n\\n4 회원은 언제든지 최고 없이 계약을 해지할 수 있습니다.', '제11조 (가입비의 환불) \\n\\n1 회사의 책임있는 사유로 계약이 해지되는 경우에는 회원가입비 전액을 환불합니다. 다만, 회원\\n\\n의 책임이 경합하는 경우에는 그러하지 않습니다. \\n\\n2 회사의 책임없이 계약이 해지되는 경우에는 다음과 같이 회원가입비를 환불합니다. \\n\\n1. 회원가입 계약성립후 회사의 소개 개시전에 해지된 경우 회원가입비의 80퍼센트\\n\\n\\n\\n2. 1회 소개개시후 해지된 경우 \\n\\n3', '제6조 제2항에 의하여 회원의 자격기간이 연장되는 경우나', '제10조 제1항 제2호, 제3호의 사유\\n\\n로 계약이 종료된 경우에는 가입비를 환불하지 아니합니다. \\n\\n4 위 제1항, 제2항에 불구하고', '제10조 제1항 제2호, 제3호 외의 사유로 계약이 종료된 경우 회\\n\\n원은 회사의 동의를 얻어 가입비를 환불받지 아니하고 그에 상응하는 회원자격을 타인으로 하여\\n\\n금 보유하게 할 수 있습니다. 다만, 타인은', '제3조 제2항에서 정한 적격자에 해당하여야 합니다.', '제12조 (개인정보의 보호) \\n\\n1 회사는 회원에 관한 정보수집시 필요한 최소한의 결혼관련 개인정보를 수집합니다. \\n\\n2 회사가 회원의 개인식별이 가능한 개인정보를 수집하는 때에는 반드시 당해 회원 또는 회원가\\n\\n입신청자의 동의를 받습니다. \\n\\n3 제공된 개인정보는 당해 회원의 동의없이 목적 외의 이용이나 제3자에게 제공할 수 없으며, \\n\\n이에 대한 모든 책임은 회사가 집니다. 다만, 다음의 경우에는 예외로 합니다. \\n\\n1. 소개 등 회사업무에 필요한 최소한의 회원의 정보(성명, 주소, 전화번호)를 알려주는 경우 \\n\\n2. 통계작성, 학술연구 또는 시장조사를 위하여 필요한 경우로서 특정 개인을 식별할 수 없는 형\\n\\n태로 제공하는 경우 \\n\\n4 회사가 제2항과 제3항에 의해 회원의 동의를 받아야 하는 경우에는 정보의 수집목적 및 이용\\n\\n목적, 제3자에 대한 정보제공 관련사항(제공받는자, 제공목적 및 제공할 정보의 내용)등을 미리 명\\n\\n시하거나 통지하여야 하며 회원은 언제든지 이 동의를 철회할 수 있습니다. \\n\\n5 회원은 언제든지 회사가 가지고 있는 자신의 개인정보에 대해 열람 및 오류정정을 요구할 수 \\n\\n있으며 회사는 이에 대해 지체없이 필요한 조치를 취할 의무를 집니다. 이용자가 오류의 정정을 \\n\\n요구한 경우에는 회사는 그 오류를 정정할 때까지 당해 개인정보를 이용하지 않습니다. \\n\\n6 회사는 개인정보 보호를 위하여 노력하며 개인정보의 분실, 도난, 유출, 변조 등으로 인한 회\\n\\n원의 손해에 대하여 모든 책임을 집니다. \\n\\n7 회사 또는 그로부터 개인정보를 제공받은 제3자는 계약의 해지 기타 개인정보의 수집목적 또\\n\\n는 제공받은 목적을 달성한 때에는 당해 개인정보를 지체없이 파기합니다.', '제13조 (회원에 대한 통지) 회원에 대한 통지 및 예고는 서면, 전화, 모사전송 또는 전자우편(e\\n\\nmail)의 방법으로 할 수 있습니다.', '제14조 (게시물에 대한 책임과 정책)\\n\\n이용자 가 게시판 내에 게시한 게시물의 저작권은 게시자 본인에게 있으며, \\n\\n본 게시판에 올린 정보나 의견은  회사 의 입장과는 무관합니다.\\n\\n게시판에 게시한 게시물로 파생되는 문제에 대해서는 전적으로 해당 게시물을\\n\\n게시한 본인에게 책임이 있습니다. \\n\\n 회사 는  이용자 가 게시판에 게시, 게재하거나 서비스를 통해 전송한 내용물에 대하여 책임이 없으며, \\n\\n삭제 대상이 되는 게시물에 해당하는 경우에는 사전 통지 후 삭제할 수 있습니다. \\n\\n단 게시물이 불법적인 내용이 확실할 경우 통보 없이도 삭제가 가능합니다.\\n\\n 이용자 가 게시한 게시물이 타인의 저작권, 프로그램 저작권 등을 침해하더라도 이에 대한 민,형사상의 \\n\\n책임을 부담하지 않으며, 만일 이를 이유로  회사 가 타인으로부터 손해배상청구 등 이의 제기를 받은 경우 \\n\\n해당  이용자 는 그로 인해 발생한 모든 손해를 부담하여야 합니다. \\n\\n1.  회사 는  이용자 가 게시한 서비스 내의 모든 내용물이 게시판 운영원칙에 위배된다고 판단할 경우 \\n\\n해당 게시자에게 사전 또는 사후 통보 없이 삭제할 수 있으며, 더불어 해당  이용자 에게는 그 경중에\\n\\n따라 합당한 제재를 가할 수 있습니다. \\n\\n2.  회사 는 필요에 의해 제공되는 카테고리 및 게시판의 추가 생성과 삭제를 임의로 할 수 있으며, \\n\\n또한 게시판에 저장된 자료에 대해 게재기간 또는 저장기간을 정할 수 있고, 이를 변경할 수 있습니다. \\n\\n3.  회사 는 필요에 따라  이용자 가 게시한 게시물을 사전 통지 없이 편집, 이동할 수 있으며,  \\n\\n이용자 가 해지하거나 적법한 사유로 해지 된 경우 해당  이용자 가 게시하였던 게시물을 삭제할 수 있습니다.', '제15조 (약관의 해석) 이 약관에서 정하지 아니한 사항과 이 약관의 해석은 관계법령 및 상관례\\n\\n에 따릅니다.', '제16조 (분쟁해결) \\n\\n1 회사는 회원으로부터 제출되는 불만사항 및 의견은 우선적으로 그 사항을 처리합니다. 다만, \\n\\n신속한 처리가 곤란한 경우에는 회원에게 그 사유와 처리일정을 즉시 통지해 드립니다. \\n\\n2 이 약관과 관련하여 당사자 사이에 다툼이 있는 경우에는 당사자의 협의로 처리하되 신의성실\\n\\n의 원칙에 따라 원만히 해결합니다.', '제17조(재판관할 및 준거법) \\n\\n1 이 약관과 관련하여 회사와 회원간에 발생한 분쟁에 관한 소송은 민사소송법상의 관할법원에 \\n\\n제기합니다. \\n\\n2 이 약관과 관련하여 회사와 회원간에 제기된 소송에는 한국법을 적용합니다', '제8조 (회원의 의무)\\n\\n③ 회원은 회사에 제공한 결혼관련 개인정보에 변동이 있을 경우 45일 이내에 회사에 이를 통지하여야 합니다.']\n",
      "\n",
      "=== 불리한 약관 조항별 분리 ===\n",
      "['제1조 (목 적)노인성질환 등으로 혼자서 일상생활을 하기 어려운 노인(장기요양급여수급자)에게 시설급여서비스를 제공하여\\n노후의 건강증진 및 생활안정을 도모하고 그 가족의 부담을 덜어줌으로써 삶의 질을 향상시키고자 한다.', '제 2조(기본원칙)\\n 갑 은  을 이 사업 성공화를 위한 최대한의 지원을 하고, 을 은 동사업이 성공하도록\\n최대한의 노력을 한다.', '제3조(입소 이용로 납부)① 갑의 입소당월 이용료는 에 납부하기로 한다. 입소 당월 이후 매월 이용료는 매월\\n일 납부하기로 한다.(납부일이 공휴일인 경우 그 익일로 한다.)\\n② 갑 (또는 병)은 본인일부부담금과 비급여항목에 대한 비용을 전액 지불하여야한다.\\n③ 갑의 이용료 납부방법은 로 한다.\\n④ 갑 또는병의 요구에 의한 개별적인 물품․용역의 구입과 개별적인 희망에 의해 외부 서비스 제공자가\\n개인을 대상으로 제공하는 프로그램,서비스에 따른 실비는 갑 또는 병이 별도 부담한다.', '제4조 ( 계약자 의무 )\\n① 갑의 의무\\n1. 월 이용료 납부\\n2. 시설의 건전한 생활분위기 조성에 협조\\n3. 시설 내에 개인 애완동물 사육금지 등 청결\\n4. 인적사항 변동 시 즉시 통보\\n5. 기타 시설생활 규칙 이행\\n② 을의 의무\\n1. 갑의 건강관리 협조\\n2. 갑의 신변이상을 병에게 즉시 연락\\n3. 식사제공 및 생활상담, 조언 및 생활편익 제공\\n4. 건물 및 부대시설의 청결 및 유지관리\\n5. 기타 갑의 안락한 노후생활에 필요한 협조\\n③ 병의 의무\\n1. 갑에 관한 건강 및 필요한 자료제공\\n2. 갑의 월 이용료 등 입소비용 부담\\n3. 인적 사항 등 변경 시 즉시 통보\\n4. 갑의 의무이행이 어려울시 대리인 선정 및 을에게 통보\\n5. 기타 시설생활 규칙이행', '제5조(계약해지요건)① 갑의 해지\\n1. 갑과 병은 의사에 따라 자유롭게 퇴소를 결정할 수 있으며,', '제2조 제6항에 의거하여 이에 대한 사항을 을에게\\n통지하여야 한다. 다만, 부득이한 경우에는 유선으로 통보할 수 있다.\\n② 을의 해지\\n1. 갑의 건강진단 결과 감염병의 예방 및 관리에 대한 법률 에 따른 감염병 환자로서 감염의 위험성이 있는 경우로\\n판정될 때\\n2. 타 입소자의 안전과 인권에 심대한 위협이 될 때\\n3. 갑이 이용료를 2회 이상 납부하지 않고 연체하였을 때(단, 을은 갑에게 서면으로 이용료 납부를 최고하고\\n갑 또는 병이 최고 통지를 받은 날부터 14일까지 이용료를 납부하지 않는 경우)', '제6조 ( 퇴소 )\\n① 을은', '제5조②항의 규정에 의한 계약해지 요건 시 이에 대한 증빙서류와 함께 계약해지 의사를 갑에게 서면으로\\n통지하여야 한다.\\n② 갑과 병은 제1항의 규정에 의한 통지를 받았을 때에는, 본원 소정의 퇴소신청서를 작성하여 을에게 제출하고 을의\\n보관물품을 인수하여 퇴소하여야 한다. 단, 사유물품을 1년 이내에 인수하지 않을 경우에는 병(또는 갑)에게 통보 후\\n을이 자체적으로 처리할 수 있으며, 이에 대해 갑 또는 병은 이의를 제기 할 수 없다.\\n③ 을은 갑이 퇴소 시 이용료 잔액에 대하여 현금 또는 갑이 지정한(또는 병)계좌로 지체 없이 지급한다.', '제7조 ( 입소물품 ) 갑은 시설입소 시 개인물품을 을과 협의하여 반입할 수 있다.', '제8조 ( 면회 및 외출,외박 )\\n① 갑의 면회시간은 매일 09시부터 21시까지로 한다 (단 갑 과 을 또는 병이 동의할 경우 변경 할 수 있다).\\n② 갑은 외출,외박시 사전에 을에게 신청하여야 한다.\\n③ 을이 제공하는 음식물 이외의 음식물을 갑이나 병이 반입하고자 할 때에는 을과 협의 후에 반입하여야 한다.\\n④ 외출,외박 중 갑에게 신체적,정신적 변화 등의 사항이 발생할 경우 갑 또는 병은 을에게 즉시 사실을 알려야 한다.', '제9조 (시설관리)을은 보건, 위생, 방범, 방화 기타 생활에 필요한 서비스 제공을 위하여 시설 직원이 거실을 출입하거나 필요한 조치를\\n할 수 있다.\\n② 을은 원무 행정상 필요한 경우 입소자의 거실을 재배치 할 수 있다', '제10조 ( 건강관리 )\\n① 을은 갑의 건강 및 감염병 예방을 위하여 갑과 종사자들에게 연 1회 이상 건강진단을 실시하여야 한다.\\n② 갑이 질병 또는 상해로 인하여 진료가 필요하다고 인정 할 때에는 의사의 진료를 받을 수 있도록 조치하여야 한다.\\n③ 의사의 진료결과 입원이 필요한 질병이나 월 1회 이상 장기간 진료가 요구되는 경우 진료비와 부가서비스\\n경비(교통비, 외부간병인 등)는 갑 또는 병에게 별도 징수한다.\\n④ 을은 입소시 갑의 건강상태 등을 확인하고 기록함은 물론, 갑에 대한 적절한 건강관리를 하여야 하며, 갑의 건강유지,\\n악화방지를 위하여 적절한 조치를 취해야 한다.\\n⑤ 을은 갑의 건강관리를 위하여 활력증상 확인, 투약관리, 욕창관리, 낙상방지 등 건강관리 활동을 하여야 한다.\\n⑥ 을은 갑이 의사로부터 월 2회 이상 건강관리를 받을 수 있도록 조치를 취해야 하며, 이상시 지체 없이 병에게\\n통보한다.\\n⑦ 을은 갑의 건강관리를 위하여 물리치료, 재활치료를 제공해야 한다.', '제11조 (시설물 배상) ① 갑은 을의 시설물에 대하여 그 본래의 용도로 사용해야 하며, 갑에 의한 시설물의 파손 또는 멸실에 대하여는\\n갑 또는 병이 원상회복 하여야 한다.\\n② 갑 또는 병이 원상회복을 할 수 없을 때에는 을은 시설물의 잔존가치 등을 고려하여 실비로 산출한 비용을 그 내역과\\n함께 문서로 제시하고 갑 또는 병은 이에 대하여 납부하여야 한다.', '제12조 (위급 시 조치) ① 을은 갑의 생명이 위급한 상태라고 판단된 때에는 협약병원, 갑(또는 병)이 지정한 병원 또는 관련 의료기관으로\\n즉시 후송하고 병에게 즉시 통보하여야 한다.\\n② 병은 제1항의 규정에 의한 통보를 받았을 때에는 신속하게 대처하여야 한다. 다만 대처가 어려울 경우에는 우선 진료를\\n받을 수 있도록 조치하여야 한다.\\n③ 갑이 사망하였을 경우에 을은 즉시 병원으로 후송하고 병에게 즉시 통보하여야 한다. 단 병과 사전에 협약이 있을\\n경우, 을이 장례 절차를 진행할 수 있다.\\n④ 위 제3항의 규정에 의한 통보가 불가능할 때 을은 갑의 입소월액 또는 시설의 운영비로 화장에 의한 장례를 집행하고\\n추후에 병과 정산할 수 있다.', '제13조 입소자의 임종 및 장례절차는 가족이나 연고자가 있을 경우와 무연고자를 구별하여 정한다.\\n( 임종 및 장례)① 가족이나 연고자가 있을 경우\\n1. 임종이 임박하였을 시 치료 및 입원은 병과 협의하여 결정한다.\\n2. 장례는 병 또는 신원인수인의 정함에 따라 가족이 장례절차의 모든 것을 수행하게 한다.\\n② 무연고자\\n1. 임종이 임박하였을 시 치료 및 입원은 을의 책임 하에 결정한다.\\n2. 장례는 행정기관과 협의하여 행정절차에 의거하여 장례가 수행될 수 있도록 한다.\\n3. 1개월 이내 관할 동(읍, 면)사무소에 사망신고를 한다.', '제14조 (식사 및 간식)① 을은 1일 3식 및 간식을 갑에게 제공하며, 갑의 상태에 따라 특별식을 제공할 수 있다. 특별식(경관급식비 등)\\n비용이 일반 수급자의 식재료비,간식비를 초과하는 부분은 갑또는 병이 별도 부담한다.\\n② 을은 식단표 및 간식제공계획에 대하여 사전에 갑에게 제공하고 게시하여야 한다\\n제', '제15조 (요양실의 배정) 갑의 요양실 배정은 입소순서에 따르며, 입소 후 갑의 건강상태, 수발조건, 형평성 등을\\n고려하여 변경할 수 있으며 갑 또는 병의 의견을 반영하여 을이 조정할 수 있다.', '제16조 (개인정보 보호의무)① 을은 갑의 개인정보를 관계규정에 따라 보호하여야 한다.\\n② 을은 장기요양서비스 제공에 필요한 갑의 개인정보 자료를 수집하고 활용하며 동 자료를 노인장기요양보험 운영주체\\n등에게 관계규정에 따라 제출할 수 있다.\\n③ 갑의 개인정보수집 및 활용에 대한 승낙은 서면(개인정보수집 및 활용 동의서) 으로 한다.\\n④ 갑은 을이 수집,관리하는 본인의 개인정보에 대해 알 권리가 있다.\\n⑤ 을은 갑의 사생활을 존중하고, 업무상 알게 된 개인정보는 철저히 비밀을 보장한다.\\n제', '제17조 (기록 및 공개)수급자의 생활과 장기요양서비스에 관한 모든 내용을 상세히 관찰하여 정확히 기록하고, 수급자나\\n가족이 요구할 경우 표준양식에 의거한 기록을 공개하여야 한다.', '제18조 (배상책임)\\n① 요양센터는 서비스 제공에 있어 요양원의 귀책사유로 인하여 입소자의 생명, 신체,\\n재산에 손해를 끼쳤을 경우 배상하여야 한다. 다만, 천재지변, 제3자의 귀책사유 및 요\\n양원의 고의, 과실에 의한 손해가 아니면 배상책임을 지지 아니 한다.\\n② 입소자의 귀책사유로 요양센터와 타이용자에게 손해를 끼친 경우 배상해야 한다.\\n③ 요양센터는 성실하게 입소자를 보호하며 민,형사상의 책임을 요구할 수 없다.\\n1. 입소자가 시설에서 일상적인 생활 중 자연사 하였을 경우\\n2. 입소자가 임의로 외출,외박하여 상해를 당했거나 사망하였을 경우\\n3. 입소자가 천재지변으로 인하여 상해를 당했거나 사망하였을 경우\\n4. 입소자가 본인의 고의 또는 과실로 인하여 상해를 당했거나 사망하였을 경우\\n5. 기타 요양센터 직원이 업무수행 도중 고의성이 없고, 인력으로 예방할 수 없는 경우\\n④ 요양기간 중 불의의 사건, 사고(부상, 사망)의 발생시 갑에 대하여 어떤 책임(민, 형사상 책임 포함)도 묻지 않으며, \\n이에 대한 이의도 절대 제기하지 않을 것을 첨부된 각서로 제출해야 한다', '제19조 (특별한 보호 및 신체구속금지)\\n① 요양센터는 서비스를 제공함에 있어 신체구속이나 입소자의 행동을 제한하는 행위\\n는 하지 않는다. 단, 입소자 및 타 입소자의 생명, 신체보호를 위해 불가피한 경우\\n에는 그러하지 아니하다.\\n② 신체를 제한할 경우에는 심신의 상황, 신체제한을 가한 시간, 신체적 제한 사유에\\n대하여 자세히 기록하고 입소자 및 보호자 등 대리인에게 그이유를 설명하고 동의\\n를 구한다.\\n③ 신체적 제한에 포함되는 내용은 격리보호, 낙상예방을 위한 침상보호대(억제대)\\n사용 및 휠체어의 안전벨트 사용, 경관튜브 제거위험 방지를 위한 신체일부의 구\\n속등 직접적인 보호와 관련된 서비스 내용이다.', '제20조 (고충대응) ① 이용자는 제공된 서비스에 대해 불만이 있을 경우 즉시 요양센\\n터에 고충처리를 요구할 수 있다.\\n② 요양센터는 고충대응 책임자, 연락처 등을 확실히 하여 성실하게 대처하여야 한다.\\n③ 요양센터는 이용자가 고충에 대해 신청했을 때 이를 이유로 이용자에 대해 불이\\n익을 주어서는 안된다.', '제21조 (분쟁해결방법) 본 서비스 이용계약과 관련하여 발생한 분쟁에 대하여 요양센\\n터와 이용자가 합의에 따라 원만히 처리하며, 만약 당사자 간 합의에 도달하지 못한\\n경우에는 관련법규나 요양센터 제규정 및 관례에 따른다.', '제22조 (이용계약서의 해석) 본 계약서에 명시되지 않은 사항은 요양센터 관련법규 및 내\\n부지침, 고시에 따르며, 관련 법규가 없을 경우에는 관련법 취지를 존중하여 이용자와 요\\n양센터가 협의하여 정한다.\\n이용자,제공자 및 보호자(대리인)는 장기요양급여 중 시설급여 이용에 대하여 상기와\\n같은 조건으로 계약을 체결한다.']\n"
     ]
    }
   ],
   "source": [
    "# 조항별로 분리하는 함수 정의\n",
    "def split_by_article(text):\n",
    "    # '제 숫자 조' 패턴으로 분리\n",
    "    \n",
    "    # 조항 분리를 위한 정규식 패턴\n",
    "    pattern = r'제\\s*\\d+\\s*조'\n",
    "    \n",
    "    # 조항 시작 위치 찾기\n",
    "    matches = list(re.finditer(pattern, text))\n",
    "    \n",
    "    articles = []\n",
    "    \n",
    "    # 각 조항별로 분리\n",
    "    for i in range(len(matches)):\n",
    "        start = matches[i].start()\n",
    "        # 마지막 조항이면 문서 끝까지, 아니면 다음 조항 시작 전까지\n",
    "        end = matches[i+1].start() if i < len(matches)-1 else len(text)\n",
    "        article = text[start:end].strip()\n",
    "        articles.append(article)\n",
    "        \n",
    "    return articles\n",
    "\n",
    "# 유리/불리 약관 각각 조항별로 분리\n",
    "유리_조항들 = split_by_article(유리_내용)\n",
    "불리_조항들 = split_by_article(불리_내용)\n",
    "\n",
    "print(\"=== 유리한 약관 조항별 분리 ===\")\n",
    "print(유리_조항들)\n",
    "    \n",
    "print(\"\\n=== 불리한 약관 조항별 분리 ===\")  \n",
    "print(불리_조항들)"
   ]
  },
  {
   "cell_type": "markdown",
   "metadata": {},
   "source": [
    "### 2. 각 조항마다 기본적인 전처리를 한다"
   ]
  },
  {
   "cell_type": "code",
   "execution_count": 73,
   "metadata": {},
   "outputs": [
    {
     "name": "stdout",
     "output_type": "stream",
     "text": [
      "=== 유리한 약관 조항 전처리 결과 ===\n",
      "(목적) 이 약관은 결혼정보회사(결혼정보업자, 이하 회사라 함)가 제공하는 결혼관련 정보 서비스(이하 서비스라 함)를 이용함에 있어 회사와 회원 사이의 권리․의무 및 책임사항을 규정함 을 목적으로 합니다.\n",
      "(정의) 1 회원이라 함은\n",
      "에서 정한 가입절차에 따라 회사가 그 가입신청을 승낙하고 이 약관에 따라 계약을 체결한 사람을 말합니다. 2 소개라 함은 회사가 회원간에 결혼상대방을 구하기 위한 만남을 주선하는 것을 말합니다. 3 교제라 함은 회사의 소개로 만난 회원이 2회 이상 계속하여 만나는 것을 말합니다. 4 결혼관련 개인정보라 함은 학력, 직업, 병력 등 통상 결혼함에 있어 당사자 사이에 확인할 필요가 있는 것으로 인정되는 개인정보를 말합니다.\n",
      "(회원가입) 1 회원이 되려고 하는 사람은 결혼관련 개인정보를 회사에 제공한 후 회사가 정한 가입절차에 따라 회원가입을 신청합니다. 2 회사는 제1항과 같이 회원가입을 신청한 자 중 다음 각 호의 사항에 대한 심사를 실시하여 그 적격여부를 판단합니다. 배우자(사실혼관계의 배우자 포함) 있는 자인지 여부의 확인 결혼관련 개인정보의 사실여부의 확인 3 회사는 제2항의 심사결과 적격자로 인정한 신청자에 한하여 회원가입을 승낙하고, 이 약관에 따라 계약을 체결합니다.\n",
      "(약관의 명시와 개정) 1 회사는 계약 체결시 이 약관의 내용을 회원으로 가입하려는 자에게 설명하고, 회원이 요구할 때에는 이 약관을 교부합니다. 2 회사는 약관의규제에관한법률, 소비자보호법 등 관련법령을 위배하지 않는 범위에서 이 약관 을 개정할 수 있습니다. 3 회사가 이 약관을 개정할 경우에는 적용일자 및 개정사유를 명시하여 현행약관과 함께 그 적 용일자 15일 이전부터 적용일자 전일까지\n",
      "의 방법으로 예고합니다. 4 회사가 약관을 개정할 경우에는 그 개정약관은 그 적용일자 이후에 체결되는 계약에만 적용되 고 그 이전에 이미 체결된 계약에 대해서는 개정전의 약관조항이 그대로 적용됩니다. 다만, 이미 계약을 체결한 회원이 개정약관 조항의 적용을 받기를 원하는 뜻을 제3항에 의한 개정약관의 예 고기간 내에 회사에 서면으로 통지하여 회사의 동의를 받은 경우에는 개정약관조항이 적용됩니다.\n",
      "(서비스의 제공) 1 회사는 회원에게 다음과 같은 서비스를 제공합니다. 회원에 대한 결혼상담 및 인터넷 등을 통한 결혼관련 정보의 제공 회원의 소개 및 이를 위한 행사 등의 개최 회원에 대한 결혼관련 개인정보의 관리 기타 결혼과 관련된 사항으로서 회사가 정하는 서비스 2 회사는 서비스의 내용과 방법이 변경된 경우에는 회원의 동의가 없는 한 이 약관 변경의 방법 에 의해서만 서비스의 내용과 방법을 변경할 수 있습니다.\n",
      "(회원자격의 보유기간) 1 회원이 회사로부터\n",
      "에서 정한 서비스를 제공받을 수 있는 기간은 계약체결일로부터 1년 입니다. 다만, 회사가\n",
      "제1항에서 정한 횟수의 소개를 다한 경우에는 그 기간이 종료된 것으 로 봅니다. 2 회사의 책임있는 사유로 회원에게 서비스를 제공하지 못하고 제1항 본문의 기간이 경과한 경 우, 회원은 회사에 대하여 당해 기간만큼 회원자격 보유기간을 연장하여 줄 것과 나머지 횟수의 소개를 이행하여 줄 것을 청구할 수 있습니다.\n",
      "(회원의 권리) 1 회원은\n",
      "에 정한 기간 동안 ㅇ회의 이성 소개를 받습니다. 회사는 회원에게 이성을 소개 하는 경우 만남에 필요한 제반정보를 사전에 제공합니다. 2 회원은 회사의 이성 소개에 대하여 2일전까지 만남을 보류할 것을 신청할 수 있습니다. 이때 회원은 이미 다른 회원과 교제 중이거나 본인의 입원, 출장 또는 가족의 사고나 사망 등 상대방 과의 만남에 응할 수 없는 불가피한 사정을 소명함으로써 소개횟수의 산입을 면할 수 있습니다. 3 회원은 회사로부터 고유번호를 부여받아 회사가 제공하는 인터넷정보서비스를 이용할 수 있습 니다. 4 회원은 회사가 주최하는 각종 행사에 무료 또는 할인 혜택을 받아 참가할 수 있습니다. 5 회원은 회원자격 보유기간 동안 회사가 제공하는 결혼관련 할인서비스를 받을 수 있습니다.\n",
      "(회원의 의무) 1 회원은 회사와 가입계약체결후 회사에 가입비 금ㅇㅇㅇ원을 납부하여야 합니다. 2 회원은 회사에 결혼관련 개인정보를 사실대로 제공하여야 합니다. 3 회원은 회사에 제공한 결혼관련 개인정보에 변동이 있을 경우 15일 이내에 회사에 이를 통지 하여야 합니다. 4 회원은 회사와 합의하여 회사가 소개한 상대방과의 만남에 응하여야 합니다. 다만,\n",
      "제2 항의 경우에는 그러하지 않습니다. 5 회원이 회사의 소개로 교제를 시작한 경우에는 그로부터 1월 이내에 회사에 그 사실을 통지하 여야 합니다. 결혼하기로 확정한 경우에도 같습니다.\n",
      "(회원의 인터넷정보서비스 이용시 주의의무) 1 회사가 제공하는 인터넷정보서비스 이용시 ID와 비밀번호에 관한 관리책임은 회원에게 있습니 다. 2 회원은 자신의 ID 및 비밀번호를 제3자에게 이용하게 해서는 안됩니다. 3 회원이 자신의 ID 및 비밀번호를 도난당하거나 제3자가 사용하고 있음을 인지한 경우에는 즉 시 회사에 통지하고 회사의 안내가 있는 경우에는 그에 따라야 합니다.\n",
      "(계약의 종료) 1 계약의 종료사유는 다음과 같습니다. 당사자에 의한 계약의 해지\n",
      "에서 정한 회원자격 보유기간의 경과 회원간의 결혼 회원의 사망, 회사의 파산 기타 계약의 목적을 달성할 수 없는 경우 2 회사는 다음 각 호의 사유가 확인된 경우 회원에 대하여 최고하지 아니하고 계약을 해지할 수 있습니다. 회원이 위조 또는 변조된 서류를 제출한 경우. 다만, 회원의 고의나 중과실이 없는 경우는 제 외합니다. (본호 삭제) 이성과 동거하고 있는 경우 회원이\n",
      "제2항에 위반하여 허위의 정보를 제공한 경우. 단, 다소 과장된 표현 등 경미한 위반이나 사소한 사항을 누락한 경우는 제외합니다. 회원이\n",
      "제4항에 위반하여 만남보류의 신청없이 무단으로 2회 이상 상대방과의 만남에 응하지 아니하거나, 만남보류를 신청하고 제출하는\n",
      "제2항의 소명자료가 허위인 경우 회원이 회사의 소개로 상대방과 만나거나 교제하면서 사회통념상 상대방에게 모욕감이나 심한 불쾌감을 주는 행위를 하여 상대방이 회사에 그에 관하여 2회 이상 항의한 경우 3 회사는 다음 각 호의 사유가 확인된 경우 회원에 대하여 2주간의 최고를 하고 회원이 재발방 지를 위한 적절한 조치를 취하지 아니한 때에는 계약을 해지할 수 있습니다. 회사의 신용, 명예를 손상시키는 행위를 한 경우 회원이 법령 기타 이 약관에 위반되는 행위를 한 경우 4 회원은 언제든지 최고 없이 계약을 해지할 수 있습니다.\n",
      "(가입비의 환불) 1 회사의 책임있는 사유로 계약이 해지되는 경우에는 회원가입비 전액을 환불합니다. 다만, 회원 의 책임이 경합하는 경우에는 그러하지 않습니다. 2 회사의 책임없이 계약이 해지되는 경우에는 다음과 같이 회원가입비를 환불합니다. 회원가입 계약성립후 회사의 소개 개시전에 해지된 경우 회원가입비의 80퍼센트 1회 소개개시후 해지된 경우 3\n",
      "제2항에 의하여 회원의 자격기간이 연장되는 경우나\n",
      "제1항 제2호, 제3호의 사유 로 계약이 종료된 경우에는 가입비를 환불하지 아니합니다. 4 위 제1항, 제2항에 불구하고\n",
      "제1항 제2호, 제3호 외의 사유로 계약이 종료된 경우 회 원은 회사의 동의를 얻어 가입비를 환불받지 아니하고 그에 상응하는 회원자격을 타인으로 하여 금 보유하게 할 수 있습니다. 다만, 타인은\n",
      "제2항에서 정한 적격자에 해당하여야 합니다.\n",
      "(개인정보의 보호) 1 회사는 회원에 관한 정보수집시 필요한 최소한의 결혼관련 개인정보를 수집합니다. 2 회사가 회원의 개인식별이 가능한 개인정보를 수집하는 때에는 반드시 당해 회원 또는 회원가 입신청자의 동의를 받습니다. 3 제공된 개인정보는 당해 회원의 동의없이 목적 외의 이용이나 제3자에게 제공할 수 없으며, 이에 대한 모든 책임은 회사가 집니다. 다만, 다음의 경우에는 예외로 합니다. 소개 등 회사업무에 필요한 최소한의 회원의 정보(성명, 주소, 전화번호)를 알려주는 경우 통계작성, 학술연구 또는 시장조사를 위하여 필요한 경우로서 특정 개인을 식별할 수 없는 형 태로 제공하는 경우 4 회사가 제2항과 제3항에 의해 회원의 동의를 받아야 하는 경우에는 정보의 수집목적 및 이용 목적, 제3자에 대한 정보제공 관련사항(제공받는자, 제공목적 및 제공할 정보의 내용)등을 미리 명 시하거나 통지하여야 하며 회원은 언제든지 이 동의를 철회할 수 있습니다. 5 회원은 언제든지 회사가 가지고 있는 자신의 개인정보에 대해 열람 및 오류정정을 요구할 수 있으며 회사는 이에 대해 지체없이 필요한 조치를 취할 의무를 집니다. 이용자가 오류의 정정을 요구한 경우에는 회사는 그 오류를 정정할 때까지 당해 개인정보를 이용하지 않습니다. 6 회사는 개인정보 보호를 위하여 노력하며 개인정보의 분실, 도난, 유출, 변조 등으로 인한 회 원의 손해에 대하여 모든 책임을 집니다. 7 회사 또는 그로부터 개인정보를 제공받은 제3자는 계약의 해지 기타 개인정보의 수집목적 또 는 제공받은 목적을 달성한 때에는 당해 개인정보를 지체없이 파기합니다.\n",
      "(회원에 대한 통지) 회원에 대한 통지 및 예고는 서면, 전화, 모사전송 또는 전자우편(e mail)의 방법으로 할 수 있습니다.\n",
      "(게시물에 대한 책임과 정책) 이용자 가 게시판 내에 게시한 게시물의 저작권은 게시자 본인에게 있으며, 본 게시판에 올린 정보나 의견은 회사 의 입장과는 무관합니다. 게시판에 게시한 게시물로 파생되는 문제에 대해서는 전적으로 해당 게시물을 게시한 본인에게 책임이 있습니다. 회사 는 이용자 가 게시판에 게시, 게재하거나 서비스를 통해 전송한 내용물에 대하여 책임이 없으며, 삭제 대상이 되는 게시물에 해당하는 경우에는 사전 통지 후 삭제할 수 있습니다. 단 게시물이 불법적인 내용이 확실할 경우 통보 없이도 삭제가 가능합니다. 이용자 가 게시한 게시물이 타인의 저작권, 프로그램 저작권 등을 침해하더라도 이에 대한 민,형사상의 책임을 부담하지 않으며, 만일 이를 이유로 회사 가 타인으로부터 손해배상청구 등 이의 제기를 받은 경우 해당 이용자 는 그로 인해 발생한 모든 손해를 부담하여야 합니다. 회사 는 이용자 가 게시한 서비스 내의 모든 내용물이 게시판 운영원칙에 위배된다고 판단할 경우 해당 게시자에게 사전 또는 사후 통보 없이 삭제할 수 있으며, 더불어 해당 이용자 에게는 그 경중에 따라 합당한 제재를 가할 수 있습니다. 회사 는 필요에 의해 제공되는 카테고리 및 게시판의 추가 생성과 삭제를 임의로 할 수 있으며, 또한 게시판에 저장된 자료에 대해 게재기간 또는 저장기간을 정할 수 있고, 이를 변경할 수 있습니다. 회사 는 필요에 따라 이용자 가 게시한 게시물을 사전 통지 없이 편집, 이동할 수 있으며, 이용자 가 해지하거나 적법한 사유로 해지 된 경우 해당 이용자 가 게시하였던 게시물을 삭제할 수 있습니다.\n",
      "(약관의 해석) 이 약관에서 정하지 아니한 사항과 이 약관의 해석은 관계법령 및 상관례 에 따릅니다.\n",
      "(분쟁해결) 1 회사는 회원으로부터 제출되는 불만사항 및 의견은 우선적으로 그 사항을 처리합니다. 다만, 신속한 처리가 곤란한 경우에는 회원에게 그 사유와 처리일정을 즉시 통지해 드립니다. 2 이 약관과 관련하여 당사자 사이에 다툼이 있는 경우에는 당사자의 협의로 처리하되 신의성실 의 원칙에 따라 원만히 해결합니다.\n",
      "(재판관할 및 준거법) 1 이 약관과 관련하여 회사와 회원간에 발생한 분쟁에 관한 소송은 민사소송법상의 관할법원에 제기합니다. 2 이 약관과 관련하여 회사와 회원간에 제기된 소송에는 한국법을 적용합니다\n",
      "(회원의 의무) 회원은 회사에 제공한 결혼관련 개인정보에 변동이 있을 경우 45일 이내에 회사에 이를 통지하여야 합니다.\n",
      "\n",
      "=== 불리한 약관 조항 전처리 결과 ===\n",
      "(목 적)노인성질환 등으로 혼자서 일상생활을 하기 어려운 노인(장기요양급여수급자)에게 시설급여서비스를 제공하여 노후의 건강증진 및 생활안정을 도모하고 그 가족의 부담을 덜어줌으로써 삶의 질을 향상시키고자 한다.\n",
      "(기본원칙) 갑 은 을 이 사업 성공화를 위한 최대한의 지원을 하고, 을 은 동사업이 성공하도록 최대한의 노력을 한다.\n",
      "(입소 이용로 납부) 갑의 입소당월 이용료는 에 납부하기로 한다. 입소 당월 이후 매월 이용료는 매월 일 납부하기로 한다.(납부일이 공휴일인 경우 그 익일로 한다.) 갑 (또는 병)은 본인일부부담금과 비급여항목에 대한 비용을 전액 지불하여야한다. 갑의 이용료 납부방법은 로 한다. 갑 또는병의 요구에 의한 개별적인 물품․용역의 구입과 개별적인 희망에 의해 외부 서비스 제공자가 개인을 대상으로 제공하는 프로그램,서비스에 따른 실비는 갑 또는 병이 별도 부담한다.\n",
      "( 계약자 의무 ) 갑의 의무 월 이용료 납부 시설의 건전한 생활분위기 조성에 협조 시설 내에 개인 애완동물 사육금지 등 청결 인적사항 변동 시 즉시 통보 기타 시설생활 규칙 이행 을의 의무 갑의 건강관리 협조 갑의 신변이상을 병에게 즉시 연락 식사제공 및 생활상담, 조언 및 생활편익 제공 건물 및 부대시설의 청결 및 유지관리 기타 갑의 안락한 노후생활에 필요한 협조 병의 의무 갑에 관한 건강 및 필요한 자료제공 갑의 월 이용료 등 입소비용 부담 인적 사항 등 변경 시 즉시 통보 갑의 의무이행이 어려울시 대리인 선정 및 을에게 통보 기타 시설생활 규칙이행\n",
      "(계약해지요건) 갑의 해지 갑과 병은 의사에 따라 자유롭게 퇴소를 결정할 수 있으며,\n",
      "제6항에 의거하여 이에 대한 사항을 을에게 통지하여야 한다. 다만, 부득이한 경우에는 유선으로 통보할 수 있다. 을의 해지 갑의 건강진단 결과 감염병의 예방 및 관리에 대한 법률 에 따른 감염병 환자로서 감염의 위험성이 있는 경우로 판정될 때 타 입소자의 안전과 인권에 심대한 위협이 될 때 갑이 이용료를 2회 이상 납부하지 않고 연체하였을 때(단, 을은 갑에게 서면으로 이용료 납부를 최고하고 갑 또는 병이 최고 통지를 받은 날부터 14일까지 이용료를 납부하지 않는 경우)\n",
      "( 퇴소 ) 을은\n",
      "항의 규정에 의한 계약해지 요건 시 이에 대한 증빙서류와 함께 계약해지 의사를 갑에게 서면으로 통지하여야 한다. 갑과 병은 제1항의 규정에 의한 통지를 받았을 때에는, 본원 소정의 퇴소신청서를 작성하여 을에게 제출하고 을의 보관물품을 인수하여 퇴소하여야 한다. 단, 사유물품을 1년 이내에 인수하지 않을 경우에는 병(또는 갑)에게 통보 후 을이 자체적으로 처리할 수 있으며, 이에 대해 갑 또는 병은 이의를 제기 할 수 없다. 을은 갑이 퇴소 시 이용료 잔액에 대하여 현금 또는 갑이 지정한(또는 병)계좌로 지체 없이 지급한다.\n",
      "( 입소물품 ) 갑은 시설입소 시 개인물품을 을과 협의하여 반입할 수 있다.\n",
      "( 면회 및 외출,외박 ) 갑의 면회시간은 매일 09시부터 21시까지로 한다 (단 갑 과 을 또는 병이 동의할 경우 변경 할 수 있다). 갑은 외출,외박시 사전에 을에게 신청하여야 한다. 을이 제공하는 음식물 이외의 음식물을 갑이나 병이 반입하고자 할 때에는 을과 협의 후에 반입하여야 한다. 외출,외박 중 갑에게 신체적,정신적 변화 등의 사항이 발생할 경우 갑 또는 병은 을에게 즉시 사실을 알려야 한다.\n",
      "(시설관리)을은 보건, 위생, 방범, 방화 기타 생활에 필요한 서비스 제공을 위하여 시설 직원이 거실을 출입하거나 필요한 조치를 할 수 있다. 을은 원무 행정상 필요한 경우 입소자의 거실을 재배치 할 수 있다\n",
      "( 건강관리 ) 을은 갑의 건강 및 감염병 예방을 위하여 갑과 종사자들에게 연 1회 이상 건강진단을 실시하여야 한다. 갑이 질병 또는 상해로 인하여 진료가 필요하다고 인정 할 때에는 의사의 진료를 받을 수 있도록 조치하여야 한다. 의사의 진료결과 입원이 필요한 질병이나 월 1회 이상 장기간 진료가 요구되는 경우 진료비와 부가서비스 경비(교통비, 외부간병인 등)는 갑 또는 병에게 별도 징수한다. 을은 입소시 갑의 건강상태 등을 확인하고 기록함은 물론, 갑에 대한 적절한 건강관리를 하여야 하며, 갑의 건강유지, 악화방지를 위하여 적절한 조치를 취해야 한다. 을은 갑의 건강관리를 위하여 활력증상 확인, 투약관리, 욕창관리, 낙상방지 등 건강관리 활동을 하여야 한다. 을은 갑이 의사로부터 월 2회 이상 건강관리를 받을 수 있도록 조치를 취해야 하며, 이상시 지체 없이 병에게 통보한다. 을은 갑의 건강관리를 위하여 물리치료, 재활치료를 제공해야 한다.\n",
      "(시설물 배상) 갑은 을의 시설물에 대하여 그 본래의 용도로 사용해야 하며, 갑에 의한 시설물의 파손 또는 멸실에 대하여는 갑 또는 병이 원상회복 하여야 한다. 갑 또는 병이 원상회복을 할 수 없을 때에는 을은 시설물의 잔존가치 등을 고려하여 실비로 산출한 비용을 그 내역과 함께 문서로 제시하고 갑 또는 병은 이에 대하여 납부하여야 한다.\n",
      "(위급 시 조치) 을은 갑의 생명이 위급한 상태라고 판단된 때에는 협약병원, 갑(또는 병)이 지정한 병원 또는 관련 의료기관으로 즉시 후송하고 병에게 즉시 통보하여야 한다. 병은 제1항의 규정에 의한 통보를 받았을 때에는 신속하게 대처하여야 한다. 다만 대처가 어려울 경우에는 우선 진료를 받을 수 있도록 조치하여야 한다. 갑이 사망하였을 경우에 을은 즉시 병원으로 후송하고 병에게 즉시 통보하여야 한다. 단 병과 사전에 협약이 있을 경우, 을이 장례 절차를 진행할 수 있다. 위 제3항의 규정에 의한 통보가 불가능할 때 을은 갑의 입소월액 또는 시설의 운영비로 화장에 의한 장례를 집행하고 추후에 병과 정산할 수 있다.\n",
      "입소자의 임종 및 장례절차는 가족이나 연고자가 있을 경우와 무연고자를 구별하여 정한다. ( 임종 및 장례) 가족이나 연고자가 있을 경우 임종이 임박하였을 시 치료 및 입원은 병과 협의하여 결정한다. 장례는 병 또는 신원인수인의 정함에 따라 가족이 장례절차의 모든 것을 수행하게 한다. 무연고자 임종이 임박하였을 시 치료 및 입원은 을의 책임 하에 결정한다. 장례는 행정기관과 협의하여 행정절차에 의거하여 장례가 수행될 수 있도록 한다. 1개월 이내 관할 동(읍, 면)사무소에 사망신고를 한다.\n",
      "(식사 및 간식) 을은 1일 3식 및 간식을 갑에게 제공하며, 갑의 상태에 따라 특별식을 제공할 수 있다. 특별식(경관급식비 등) 비용이 일반 수급자의 식재료비,간식비를 초과하는 부분은 갑또는 병이 별도 부담한다. 을은 식단표 및 간식제공계획에 대하여 사전에 갑에게 제공하고 게시하여야 한다 제\n",
      "(요양실의 배정) 갑의 요양실 배정은 입소순서에 따르며, 입소 후 갑의 건강상태, 수발조건, 형평성 등을 고려하여 변경할 수 있으며 갑 또는 병의 의견을 반영하여 을이 조정할 수 있다.\n",
      "(개인정보 보호의무) 을은 갑의 개인정보를 관계규정에 따라 보호하여야 한다. 을은 장기요양서비스 제공에 필요한 갑의 개인정보 자료를 수집하고 활용하며 동 자료를 노인장기요양보험 운영주체 등에게 관계규정에 따라 제출할 수 있다. 갑의 개인정보수집 및 활용에 대한 승낙은 서면(개인정보수집 및 활용 동의서) 으로 한다. 갑은 을이 수집,관리하는 본인의 개인정보에 대해 알 권리가 있다. 을은 갑의 사생활을 존중하고, 업무상 알게 된 개인정보는 철저히 비밀을 보장한다. 제\n",
      "(기록 및 공개)수급자의 생활과 장기요양서비스에 관한 모든 내용을 상세히 관찰하여 정확히 기록하고, 수급자나 가족이 요구할 경우 표준양식에 의거한 기록을 공개하여야 한다.\n",
      "(배상책임) 요양센터는 서비스 제공에 있어 요양원의 귀책사유로 인하여 입소자의 생명, 신체, 재산에 손해를 끼쳤을 경우 배상하여야 한다. 다만, 천재지변, 제3자의 귀책사유 및 요 양원의 고의, 과실에 의한 손해가 아니면 배상책임을 지지 아니 한다. 입소자의 귀책사유로 요양센터와 타이용자에게 손해를 끼친 경우 배상해야 한다. 요양센터는 성실하게 입소자를 보호하며 민,형사상의 책임을 요구할 수 없다. 입소자가 시설에서 일상적인 생활 중 자연사 하였을 경우 입소자가 임의로 외출,외박하여 상해를 당했거나 사망하였을 경우 입소자가 천재지변으로 인하여 상해를 당했거나 사망하였을 경우 입소자가 본인의 고의 또는 과실로 인하여 상해를 당했거나 사망하였을 경우 기타 요양센터 직원이 업무수행 도중 고의성이 없고, 인력으로 예방할 수 없는 경우 요양기간 중 불의의 사건, 사고(부상, 사망)의 발생시 갑에 대하여 어떤 책임(민, 형사상 책임 포함)도 묻지 않으며, 이에 대한 이의도 절대 제기하지 않을 것을 첨부된 각서로 제출해야 한다\n",
      "(특별한 보호 및 신체구속금지) 요양센터는 서비스를 제공함에 있어 신체구속이나 입소자의 행동을 제한하는 행위 는 하지 않는다. 단, 입소자 및 타 입소자의 생명, 신체보호를 위해 불가피한 경우 에는 그러하지 아니하다. 신체를 제한할 경우에는 심신의 상황, 신체제한을 가한 시간, 신체적 제한 사유에 대하여 자세히 기록하고 입소자 및 보호자 등 대리인에게 그이유를 설명하고 동의 를 구한다. 신체적 제한에 포함되는 내용은 격리보호, 낙상예방을 위한 침상보호대(억제대) 사용 및 휠체어의 안전벨트 사용, 경관튜브 제거위험 방지를 위한 신체일부의 구 속등 직접적인 보호와 관련된 서비스 내용이다.\n",
      "(고충대응) 이용자는 제공된 서비스에 대해 불만이 있을 경우 즉시 요양센 터에 고충처리를 요구할 수 있다. 요양센터는 고충대응 책임자, 연락처 등을 확실히 하여 성실하게 대처하여야 한다. 요양센터는 이용자가 고충에 대해 신청했을 때 이를 이유로 이용자에 대해 불이 익을 주어서는 안된다.\n",
      "(분쟁해결방법) 본 서비스 이용계약과 관련하여 발생한 분쟁에 대하여 요양센 터와 이용자가 합의에 따라 원만히 처리하며, 만약 당사자 간 합의에 도달하지 못한 경우에는 관련법규나 요양센터 제규정 및 관례에 따른다.\n",
      "(이용계약서의 해석) 본 계약서에 명시되지 않은 사항은 요양센터 관련법규 및 내 부지침, 고시에 따르며, 관련 법규가 없을 경우에는 관련법 취지를 존중하여 이용자와 요 양센터가 협의하여 정한다. 이용자,제공자 및 보호자(대리인)는 장기요양급여 중 시설급여 이용에 대하여 상기와 같은 조건으로 계약을 체결한다.\n"
     ]
    }
   ],
   "source": [
    "# 조항 내용 전처리 함수 적용\n",
    "# 유리한 약관 조항들 전처리\n",
    "print(\"=== 유리한 약관 조항 전처리 결과 ===\")\n",
    "유리_조항들_정제 = [clean_clause(article) for article in 유리_조항들]\n",
    "for i, article in enumerate(유리_조항들_정제):\n",
    "    print(article)\n",
    "\n",
    "# 불리한 약관 조항들 전처리  \n",
    "print(\"\\n=== 불리한 약관 조항 전처리 결과 ===\")\n",
    "불리_조항들_정제 = [clean_clause(article) for article in 불리_조항들]\n",
    "for i, article in enumerate(불리_조항들_정제):\n",
    "    print(article)"
   ]
  },
  {
   "cell_type": "markdown",
   "metadata": {},
   "source": [
    "### 3.tsv 형태로 변환 후 토큰화"
   ]
  },
  {
   "cell_type": "code",
   "execution_count": 74,
   "metadata": {},
   "outputs": [],
   "source": [
    "# TSV 형식으로 변환 (레이블은 임시로 0으로 설정)\n",
    "test_data0 = [[clause, \"0\"] for clause in 유리_조항들_정제]\n",
    "test_data1 = [[clause, \"0\"] for clause in 불리_조항들_정제]"
   ]
  },
  {
   "cell_type": "code",
   "execution_count": 75,
   "metadata": {},
   "outputs": [],
   "source": [
    "# BERTDataset 클래스를 이용하여 토큰화 후 텐서 데이터로 변환\n",
    "test_tensor0 = BERTDataset(test_data0, 0, 1, tok, max_len, True, False)\n",
    "test_tensor1 = BERTDataset(test_data1, 0, 1, tok, max_len, True, False)\n",
    "#DataLoader 생성\n",
    "test0_loader = torch.utils.data.DataLoader(test_tensor0, batch_size=batch_size, num_workers=4)\n",
    "test1_loader = torch.utils.data.DataLoader(test_tensor1, batch_size=batch_size, num_workers=4)"
   ]
  },
  {
   "cell_type": "markdown",
   "metadata": {},
   "source": [
    "### 4. 테스트 루프 정의 및 실행"
   ]
  },
  {
   "cell_type": "code",
   "execution_count": 76,
   "metadata": {},
   "outputs": [],
   "source": [
    "def predict(model, device, test_loader):\n",
    "    model.eval()  # 평가 모드로 설정\n",
    "    predictions = []\n",
    "    \n",
    "    with torch.no_grad():  # 그래디언트 계산 비활성화\n",
    "        for batch_id, (token_ids, valid_length, segment_ids, label) in enumerate(test_loader):\n",
    "            token_ids = token_ids.long().to(device)\n",
    "            segment_ids = segment_ids.long().to(device)\n",
    "            valid_length = valid_length\n",
    "            \n",
    "            # 모델 예측\n",
    "            out = model(token_ids, valid_length, segment_ids)\n",
    "            \n",
    "            # 예측값을 확률로 변환\n",
    "            prob = F.softmax(out, dim=1)\n",
    "            \n",
    "            # 예측 결과 저장 (CPU로 변환하여 numpy 배열로)\n",
    "            predictions.extend(prob.cpu().numpy())\n",
    "    \n",
    "    return np.array(predictions)"
   ]
  },
  {
   "cell_type": "code",
   "execution_count": 83,
   "metadata": {},
   "outputs": [
    {
     "data": {
      "text/html": [
       "<div>\n",
       "<style scoped>\n",
       "    .dataframe tbody tr th:only-of-type {\n",
       "        vertical-align: middle;\n",
       "    }\n",
       "\n",
       "    .dataframe tbody tr th {\n",
       "        vertical-align: top;\n",
       "    }\n",
       "\n",
       "    .dataframe thead th {\n",
       "        text-align: right;\n",
       "    }\n",
       "</style>\n",
       "<table border=\"1\" class=\"dataframe\">\n",
       "  <thead>\n",
       "    <tr style=\"text-align: right;\">\n",
       "      <th></th>\n",
       "      <th>조항번호</th>\n",
       "      <th>조항내용</th>\n",
       "      <th>예측결과</th>\n",
       "      <th>신뢰도</th>\n",
       "    </tr>\n",
       "  </thead>\n",
       "  <tbody>\n",
       "    <tr>\n",
       "      <th>0</th>\n",
       "      <td>1</td>\n",
       "      <td>(목적) 이 약관은 결혼정보회사(결혼정보업자, 이하 회사라 함)가 제공하는 결혼관련...</td>\n",
       "      <td>불리한 조항</td>\n",
       "      <td>62.41%</td>\n",
       "    </tr>\n",
       "    <tr>\n",
       "      <th>1</th>\n",
       "      <td>2</td>\n",
       "      <td>(정의) 1 회원이라 함은...</td>\n",
       "      <td>유리한 조항</td>\n",
       "      <td>69.37%</td>\n",
       "    </tr>\n",
       "    <tr>\n",
       "      <th>2</th>\n",
       "      <td>3</td>\n",
       "      <td>에서 정한 가입절차에 따라 회사가 그 가입신청을 승낙하고 이 약관에 따라 계약을 체...</td>\n",
       "      <td>불리한 조항</td>\n",
       "      <td>64.61%</td>\n",
       "    </tr>\n",
       "    <tr>\n",
       "      <th>3</th>\n",
       "      <td>4</td>\n",
       "      <td>(회원가입) 1 회원이 되려고 하는 사람은 결혼관련 개인정보를 회사에 제공한 후 회...</td>\n",
       "      <td>유리한 조항</td>\n",
       "      <td>51.78%</td>\n",
       "    </tr>\n",
       "    <tr>\n",
       "      <th>4</th>\n",
       "      <td>5</td>\n",
       "      <td>(약관의 명시와 개정) 1 회사는 계약 체결시 이 약관의 내용을 회원으로 가입하려는...</td>\n",
       "      <td>불리한 조항</td>\n",
       "      <td>69.30%</td>\n",
       "    </tr>\n",
       "    <tr>\n",
       "      <th>5</th>\n",
       "      <td>6</td>\n",
       "      <td>의 방법으로 예고합니다. 4 회사가 약관을 개정할 경우에는 그 개정약관은 그 적용일...</td>\n",
       "      <td>불리한 조항</td>\n",
       "      <td>68.18%</td>\n",
       "    </tr>\n",
       "    <tr>\n",
       "      <th>6</th>\n",
       "      <td>7</td>\n",
       "      <td>(서비스의 제공) 1 회사는 회원에게 다음과 같은 서비스를 제공합니다. 회원에 대한...</td>\n",
       "      <td>불리한 조항</td>\n",
       "      <td>69.17%</td>\n",
       "    </tr>\n",
       "    <tr>\n",
       "      <th>7</th>\n",
       "      <td>8</td>\n",
       "      <td>(회원자격의 보유기간) 1 회원이 회사로부터...</td>\n",
       "      <td>유리한 조항</td>\n",
       "      <td>70.95%</td>\n",
       "    </tr>\n",
       "    <tr>\n",
       "      <th>8</th>\n",
       "      <td>9</td>\n",
       "      <td>에서 정한 서비스를 제공받을 수 있는 기간은 계약체결일로부터 1년 입니다. 다만, ...</td>\n",
       "      <td>불리한 조항</td>\n",
       "      <td>61.25%</td>\n",
       "    </tr>\n",
       "    <tr>\n",
       "      <th>9</th>\n",
       "      <td>10</td>\n",
       "      <td>제1항에서 정한 횟수의 소개를 다한 경우에는 그 기간이 종료된 것으 로 봅니다. 2...</td>\n",
       "      <td>불리한 조항</td>\n",
       "      <td>59.52%</td>\n",
       "    </tr>\n",
       "    <tr>\n",
       "      <th>10</th>\n",
       "      <td>11</td>\n",
       "      <td>(회원의 권리) 1 회원은...</td>\n",
       "      <td>유리한 조항</td>\n",
       "      <td>68.28%</td>\n",
       "    </tr>\n",
       "    <tr>\n",
       "      <th>11</th>\n",
       "      <td>12</td>\n",
       "      <td>에 정한 기간 동안 ㅇ회의 이성 소개를 받습니다. 회사는 회원에게 이성을 소개 하는...</td>\n",
       "      <td>불리한 조항</td>\n",
       "      <td>68.03%</td>\n",
       "    </tr>\n",
       "    <tr>\n",
       "      <th>12</th>\n",
       "      <td>13</td>\n",
       "      <td>(회원의 의무) 1 회원은 회사와 가입계약체결후 회사에 가입비 금ㅇㅇㅇ원을 납부하여...</td>\n",
       "      <td>불리한 조항</td>\n",
       "      <td>67.44%</td>\n",
       "    </tr>\n",
       "    <tr>\n",
       "      <th>13</th>\n",
       "      <td>14</td>\n",
       "      <td>제2 항의 경우에는 그러하지 않습니다. 5 회원이 회사의 소개로 교제를 시작한 경우...</td>\n",
       "      <td>유리한 조항</td>\n",
       "      <td>72.34%</td>\n",
       "    </tr>\n",
       "    <tr>\n",
       "      <th>14</th>\n",
       "      <td>15</td>\n",
       "      <td>(회원의 인터넷정보서비스 이용시 주의의무) 1 회사가 제공하는 인터넷정보서비스 이용...</td>\n",
       "      <td>불리한 조항</td>\n",
       "      <td>68.86%</td>\n",
       "    </tr>\n",
       "    <tr>\n",
       "      <th>15</th>\n",
       "      <td>16</td>\n",
       "      <td>(계약의 종료) 1 계약의 종료사유는 다음과 같습니다. 당사자에 의한 계약의 해지...</td>\n",
       "      <td>불리한 조항</td>\n",
       "      <td>54.78%</td>\n",
       "    </tr>\n",
       "    <tr>\n",
       "      <th>16</th>\n",
       "      <td>17</td>\n",
       "      <td>에서 정한 회원자격 보유기간의 경과 회원간의 결혼 회원의 사망, 회사의 파산 기타 ...</td>\n",
       "      <td>유리한 조항</td>\n",
       "      <td>50.43%</td>\n",
       "    </tr>\n",
       "    <tr>\n",
       "      <th>17</th>\n",
       "      <td>18</td>\n",
       "      <td>제2항에 위반하여 허위의 정보를 제공한 경우. 단, 다소 과장된 표현 등 경미한 위...</td>\n",
       "      <td>유리한 조항</td>\n",
       "      <td>56.97%</td>\n",
       "    </tr>\n",
       "    <tr>\n",
       "      <th>18</th>\n",
       "      <td>19</td>\n",
       "      <td>제4항에 위반하여 만남보류의 신청없이 무단으로 2회 이상 상대방과의 만남에 응하지 ...</td>\n",
       "      <td>불리한 조항</td>\n",
       "      <td>62.90%</td>\n",
       "    </tr>\n",
       "    <tr>\n",
       "      <th>19</th>\n",
       "      <td>20</td>\n",
       "      <td>제2항의 소명자료가 허위인 경우 회원이 회사의 소개로 상대방과 만나거나 교제하면서 ...</td>\n",
       "      <td>유리한 조항</td>\n",
       "      <td>67.90%</td>\n",
       "    </tr>\n",
       "    <tr>\n",
       "      <th>20</th>\n",
       "      <td>21</td>\n",
       "      <td>(가입비의 환불) 1 회사의 책임있는 사유로 계약이 해지되는 경우에는 회원가입비 전...</td>\n",
       "      <td>불리한 조항</td>\n",
       "      <td>65.77%</td>\n",
       "    </tr>\n",
       "    <tr>\n",
       "      <th>21</th>\n",
       "      <td>22</td>\n",
       "      <td>제2항에 의하여 회원의 자격기간이 연장되는 경우나...</td>\n",
       "      <td>불리한 조항</td>\n",
       "      <td>54.28%</td>\n",
       "    </tr>\n",
       "    <tr>\n",
       "      <th>22</th>\n",
       "      <td>23</td>\n",
       "      <td>제1항 제2호, 제3호의 사유 로 계약이 종료된 경우에는 가입비를 환불하지 아니합니...</td>\n",
       "      <td>유리한 조항</td>\n",
       "      <td>72.49%</td>\n",
       "    </tr>\n",
       "    <tr>\n",
       "      <th>23</th>\n",
       "      <td>24</td>\n",
       "      <td>제1항 제2호, 제3호 외의 사유로 계약이 종료된 경우 회 원은 회사의 동의를 얻어...</td>\n",
       "      <td>유리한 조항</td>\n",
       "      <td>58.64%</td>\n",
       "    </tr>\n",
       "    <tr>\n",
       "      <th>24</th>\n",
       "      <td>25</td>\n",
       "      <td>제2항에서 정한 적격자에 해당하여야 합니다....</td>\n",
       "      <td>유리한 조항</td>\n",
       "      <td>54.86%</td>\n",
       "    </tr>\n",
       "    <tr>\n",
       "      <th>25</th>\n",
       "      <td>26</td>\n",
       "      <td>(개인정보의 보호) 1 회사는 회원에 관한 정보수집시 필요한 최소한의 결혼관련 개인...</td>\n",
       "      <td>불리한 조항</td>\n",
       "      <td>68.47%</td>\n",
       "    </tr>\n",
       "    <tr>\n",
       "      <th>26</th>\n",
       "      <td>27</td>\n",
       "      <td>(회원에 대한 통지) 회원에 대한 통지 및 예고는 서면, 전화, 모사전송 또는 전자...</td>\n",
       "      <td>불리한 조항</td>\n",
       "      <td>68.02%</td>\n",
       "    </tr>\n",
       "    <tr>\n",
       "      <th>27</th>\n",
       "      <td>28</td>\n",
       "      <td>(게시물에 대한 책임과 정책) 이용자 가 게시판 내에 게시한 게시물의 저작권은 게시...</td>\n",
       "      <td>불리한 조항</td>\n",
       "      <td>68.90%</td>\n",
       "    </tr>\n",
       "    <tr>\n",
       "      <th>28</th>\n",
       "      <td>29</td>\n",
       "      <td>(약관의 해석) 이 약관에서 정하지 아니한 사항과 이 약관의 해석은 관계법령 및 상...</td>\n",
       "      <td>불리한 조항</td>\n",
       "      <td>67.86%</td>\n",
       "    </tr>\n",
       "    <tr>\n",
       "      <th>29</th>\n",
       "      <td>30</td>\n",
       "      <td>(분쟁해결) 1 회사는 회원으로부터 제출되는 불만사항 및 의견은 우선적으로 그 사항...</td>\n",
       "      <td>불리한 조항</td>\n",
       "      <td>69.16%</td>\n",
       "    </tr>\n",
       "    <tr>\n",
       "      <th>30</th>\n",
       "      <td>31</td>\n",
       "      <td>(재판관할 및 준거법) 1 이 약관과 관련하여 회사와 회원간에 발생한 분쟁에 관한 ...</td>\n",
       "      <td>불리한 조항</td>\n",
       "      <td>64.42%</td>\n",
       "    </tr>\n",
       "    <tr>\n",
       "      <th>31</th>\n",
       "      <td>32</td>\n",
       "      <td>(회원의 의무) 회원은 회사에 제공한 결혼관련 개인정보에 변동이 있을 경우 45일 ...</td>\n",
       "      <td>불리한 조항</td>\n",
       "      <td>68.75%</td>\n",
       "    </tr>\n",
       "  </tbody>\n",
       "</table>\n",
       "</div>"
      ],
      "text/plain": [
       "    조항번호                                               조항내용    예측결과     신뢰도\n",
       "0      1  (목적) 이 약관은 결혼정보회사(결혼정보업자, 이하 회사라 함)가 제공하는 결혼관련...  불리한 조항  62.41%\n",
       "1      2                                  (정의) 1 회원이라 함은...  유리한 조항  69.37%\n",
       "2      3  에서 정한 가입절차에 따라 회사가 그 가입신청을 승낙하고 이 약관에 따라 계약을 체...  불리한 조항  64.61%\n",
       "3      4  (회원가입) 1 회원이 되려고 하는 사람은 결혼관련 개인정보를 회사에 제공한 후 회...  유리한 조항  51.78%\n",
       "4      5  (약관의 명시와 개정) 1 회사는 계약 체결시 이 약관의 내용을 회원으로 가입하려는...  불리한 조항  69.30%\n",
       "5      6  의 방법으로 예고합니다. 4 회사가 약관을 개정할 경우에는 그 개정약관은 그 적용일...  불리한 조항  68.18%\n",
       "6      7  (서비스의 제공) 1 회사는 회원에게 다음과 같은 서비스를 제공합니다. 회원에 대한...  불리한 조항  69.17%\n",
       "7      8                        (회원자격의 보유기간) 1 회원이 회사로부터...  유리한 조항  70.95%\n",
       "8      9  에서 정한 서비스를 제공받을 수 있는 기간은 계약체결일로부터 1년 입니다. 다만, ...  불리한 조항  61.25%\n",
       "9     10  제1항에서 정한 횟수의 소개를 다한 경우에는 그 기간이 종료된 것으 로 봅니다. 2...  불리한 조항  59.52%\n",
       "10    11                                  (회원의 권리) 1 회원은...  유리한 조항  68.28%\n",
       "11    12  에 정한 기간 동안 ㅇ회의 이성 소개를 받습니다. 회사는 회원에게 이성을 소개 하는...  불리한 조항  68.03%\n",
       "12    13  (회원의 의무) 1 회원은 회사와 가입계약체결후 회사에 가입비 금ㅇㅇㅇ원을 납부하여...  불리한 조항  67.44%\n",
       "13    14  제2 항의 경우에는 그러하지 않습니다. 5 회원이 회사의 소개로 교제를 시작한 경우...  유리한 조항  72.34%\n",
       "14    15  (회원의 인터넷정보서비스 이용시 주의의무) 1 회사가 제공하는 인터넷정보서비스 이용...  불리한 조항  68.86%\n",
       "15    16   (계약의 종료) 1 계약의 종료사유는 다음과 같습니다. 당사자에 의한 계약의 해지...  불리한 조항  54.78%\n",
       "16    17  에서 정한 회원자격 보유기간의 경과 회원간의 결혼 회원의 사망, 회사의 파산 기타 ...  유리한 조항  50.43%\n",
       "17    18  제2항에 위반하여 허위의 정보를 제공한 경우. 단, 다소 과장된 표현 등 경미한 위...  유리한 조항  56.97%\n",
       "18    19  제4항에 위반하여 만남보류의 신청없이 무단으로 2회 이상 상대방과의 만남에 응하지 ...  불리한 조항  62.90%\n",
       "19    20  제2항의 소명자료가 허위인 경우 회원이 회사의 소개로 상대방과 만나거나 교제하면서 ...  유리한 조항  67.90%\n",
       "20    21  (가입비의 환불) 1 회사의 책임있는 사유로 계약이 해지되는 경우에는 회원가입비 전...  불리한 조항  65.77%\n",
       "21    22                     제2항에 의하여 회원의 자격기간이 연장되는 경우나...  불리한 조항  54.28%\n",
       "22    23  제1항 제2호, 제3호의 사유 로 계약이 종료된 경우에는 가입비를 환불하지 아니합니...  유리한 조항  72.49%\n",
       "23    24  제1항 제2호, 제3호 외의 사유로 계약이 종료된 경우 회 원은 회사의 동의를 얻어...  유리한 조항  58.64%\n",
       "24    25                        제2항에서 정한 적격자에 해당하여야 합니다....  유리한 조항  54.86%\n",
       "25    26  (개인정보의 보호) 1 회사는 회원에 관한 정보수집시 필요한 최소한의 결혼관련 개인...  불리한 조항  68.47%\n",
       "26    27  (회원에 대한 통지) 회원에 대한 통지 및 예고는 서면, 전화, 모사전송 또는 전자...  불리한 조항  68.02%\n",
       "27    28  (게시물에 대한 책임과 정책) 이용자 가 게시판 내에 게시한 게시물의 저작권은 게시...  불리한 조항  68.90%\n",
       "28    29  (약관의 해석) 이 약관에서 정하지 아니한 사항과 이 약관의 해석은 관계법령 및 상...  불리한 조항  67.86%\n",
       "29    30  (분쟁해결) 1 회사는 회원으로부터 제출되는 불만사항 및 의견은 우선적으로 그 사항...  불리한 조항  69.16%\n",
       "30    31  (재판관할 및 준거법) 1 이 약관과 관련하여 회사와 회원간에 발생한 분쟁에 관한 ...  불리한 조항  64.42%\n",
       "31    32  (회원의 의무) 회원은 회사에 제공한 결혼관련 개인정보에 변동이 있을 경우 45일 ...  불리한 조항  68.75%"
      ]
     },
     "execution_count": 83,
     "metadata": {},
     "output_type": "execute_result"
    }
   ],
   "source": [
    "# 예측 실행(유리한 계약)\n",
    "predictions = predict(model, device, test0_loader)\n",
    "\n",
    "# 결과 정리\n",
    "results = []\n",
    "for i, (clause, pred) in enumerate(zip(유리_조항들_정제, predictions)):\n",
    "    pred_label = \"유리한 조항\" if pred[1] > 0.5 else \"불리한 조항\"\n",
    "    confidence = max(pred[0], pred[1])\n",
    "    \n",
    "    results.append({\n",
    "        \"조항번호\": i+1,\n",
    "        \"조항내용\": clause[:50] + \"...\",  # 앞부분 50자만 표시\n",
    "        \"예측결과\": pred_label,\n",
    "        \"신뢰도\": f\"{confidence:.2%}\"\n",
    "    })\n",
    "\n",
    "# 결과를 데이터프레임으로 변환하여 출력\n",
    "result_df = pd.DataFrame(results)\n",
    "result_df"
   ]
  },
  {
   "cell_type": "code",
   "execution_count": 80,
   "metadata": {},
   "outputs": [
    {
     "data": {
      "text/html": [
       "<div>\n",
       "<style scoped>\n",
       "    .dataframe tbody tr th:only-of-type {\n",
       "        vertical-align: middle;\n",
       "    }\n",
       "\n",
       "    .dataframe tbody tr th {\n",
       "        vertical-align: top;\n",
       "    }\n",
       "\n",
       "    .dataframe thead th {\n",
       "        text-align: right;\n",
       "    }\n",
       "</style>\n",
       "<table border=\"1\" class=\"dataframe\">\n",
       "  <thead>\n",
       "    <tr style=\"text-align: right;\">\n",
       "      <th></th>\n",
       "      <th>조항번호</th>\n",
       "      <th>조항내용</th>\n",
       "      <th>예측결과</th>\n",
       "      <th>신뢰도</th>\n",
       "    </tr>\n",
       "  </thead>\n",
       "  <tbody>\n",
       "    <tr>\n",
       "      <th>0</th>\n",
       "      <td>1</td>\n",
       "      <td>(목 적)노인성질환 등으로 혼자서 일상생활을 하기 어려운 노인(장기요양급여수급자)에...</td>\n",
       "      <td>불리한 조항</td>\n",
       "      <td>56.15%</td>\n",
       "    </tr>\n",
       "    <tr>\n",
       "      <th>1</th>\n",
       "      <td>2</td>\n",
       "      <td>(기본원칙) 갑 은 을 이 사업 성공화를 위한 최대한의 지원을 하고, 을 은 동사업...</td>\n",
       "      <td>유리한 조항</td>\n",
       "      <td>72.66%</td>\n",
       "    </tr>\n",
       "    <tr>\n",
       "      <th>2</th>\n",
       "      <td>3</td>\n",
       "      <td>(입소 이용로 납부) 갑의 입소당월 이용료는 에 납부하기로 한다. 입소 당월 이후 ...</td>\n",
       "      <td>유리한 조항</td>\n",
       "      <td>73.10%</td>\n",
       "    </tr>\n",
       "    <tr>\n",
       "      <th>3</th>\n",
       "      <td>4</td>\n",
       "      <td>( 계약자 의무 ) 갑의 의무 월 이용료 납부 시설의 건전한 생활분위기 조성에 협조...</td>\n",
       "      <td>유리한 조항</td>\n",
       "      <td>68.73%</td>\n",
       "    </tr>\n",
       "    <tr>\n",
       "      <th>4</th>\n",
       "      <td>5</td>\n",
       "      <td>(계약해지요건) 갑의 해지 갑과 병은 의사에 따라 자유롭게 퇴소를 결정할 수 있으며...</td>\n",
       "      <td>유리한 조항</td>\n",
       "      <td>72.54%</td>\n",
       "    </tr>\n",
       "    <tr>\n",
       "      <th>5</th>\n",
       "      <td>6</td>\n",
       "      <td>제6항에 의거하여 이에 대한 사항을 을에게 통지하여야 한다. 다만, 부득이한 경우에...</td>\n",
       "      <td>유리한 조항</td>\n",
       "      <td>70.44%</td>\n",
       "    </tr>\n",
       "    <tr>\n",
       "      <th>6</th>\n",
       "      <td>7</td>\n",
       "      <td>( 퇴소 ) 을은...</td>\n",
       "      <td>유리한 조항</td>\n",
       "      <td>67.98%</td>\n",
       "    </tr>\n",
       "    <tr>\n",
       "      <th>7</th>\n",
       "      <td>8</td>\n",
       "      <td>항의 규정에 의한 계약해지 요건 시 이에 대한 증빙서류와 함께 계약해지 의사를 갑에...</td>\n",
       "      <td>유리한 조항</td>\n",
       "      <td>73.18%</td>\n",
       "    </tr>\n",
       "    <tr>\n",
       "      <th>8</th>\n",
       "      <td>9</td>\n",
       "      <td>( 입소물품 ) 갑은 시설입소 시 개인물품을 을과 협의하여 반입할 수 있다....</td>\n",
       "      <td>유리한 조항</td>\n",
       "      <td>70.13%</td>\n",
       "    </tr>\n",
       "    <tr>\n",
       "      <th>9</th>\n",
       "      <td>10</td>\n",
       "      <td>( 면회 및 외출,외박 ) 갑의 면회시간은 매일 09시부터 21시까지로 한다 (단 ...</td>\n",
       "      <td>불리한 조항</td>\n",
       "      <td>51.55%</td>\n",
       "    </tr>\n",
       "    <tr>\n",
       "      <th>10</th>\n",
       "      <td>11</td>\n",
       "      <td>(시설관리)을은 보건, 위생, 방범, 방화 기타 생활에 필요한 서비스 제공을 위하여...</td>\n",
       "      <td>유리한 조항</td>\n",
       "      <td>71.97%</td>\n",
       "    </tr>\n",
       "    <tr>\n",
       "      <th>11</th>\n",
       "      <td>12</td>\n",
       "      <td>( 건강관리 ) 을은 갑의 건강 및 감염병 예방을 위하여 갑과 종사자들에게 연 1회...</td>\n",
       "      <td>불리한 조항</td>\n",
       "      <td>52.89%</td>\n",
       "    </tr>\n",
       "    <tr>\n",
       "      <th>12</th>\n",
       "      <td>13</td>\n",
       "      <td>(시설물 배상) 갑은 을의 시설물에 대하여 그 본래의 용도로 사용해야 하며, 갑에 ...</td>\n",
       "      <td>불리한 조항</td>\n",
       "      <td>59.77%</td>\n",
       "    </tr>\n",
       "    <tr>\n",
       "      <th>13</th>\n",
       "      <td>14</td>\n",
       "      <td>(위급 시 조치) 을은 갑의 생명이 위급한 상태라고 판단된 때에는 협약병원, 갑(또...</td>\n",
       "      <td>불리한 조항</td>\n",
       "      <td>50.96%</td>\n",
       "    </tr>\n",
       "    <tr>\n",
       "      <th>14</th>\n",
       "      <td>15</td>\n",
       "      <td>입소자의 임종 및 장례절차는 가족이나 연고자가 있을 경우와 무연고자를 구별하여 정한...</td>\n",
       "      <td>불리한 조항</td>\n",
       "      <td>57.93%</td>\n",
       "    </tr>\n",
       "    <tr>\n",
       "      <th>15</th>\n",
       "      <td>16</td>\n",
       "      <td>(식사 및 간식) 을은 1일 3식 및 간식을 갑에게 제공하며, 갑의 상태에 따라 특...</td>\n",
       "      <td>유리한 조항</td>\n",
       "      <td>58.96%</td>\n",
       "    </tr>\n",
       "    <tr>\n",
       "      <th>16</th>\n",
       "      <td>17</td>\n",
       "      <td>(요양실의 배정) 갑의 요양실 배정은 입소순서에 따르며, 입소 후 갑의 건강상태, ...</td>\n",
       "      <td>유리한 조항</td>\n",
       "      <td>64.85%</td>\n",
       "    </tr>\n",
       "    <tr>\n",
       "      <th>17</th>\n",
       "      <td>18</td>\n",
       "      <td>(개인정보 보호의무) 을은 갑의 개인정보를 관계규정에 따라 보호하여야 한다. 을은 ...</td>\n",
       "      <td>불리한 조항</td>\n",
       "      <td>63.67%</td>\n",
       "    </tr>\n",
       "    <tr>\n",
       "      <th>18</th>\n",
       "      <td>19</td>\n",
       "      <td>(기록 및 공개)수급자의 생활과 장기요양서비스에 관한 모든 내용을 상세히 관찰하여 ...</td>\n",
       "      <td>불리한 조항</td>\n",
       "      <td>66.85%</td>\n",
       "    </tr>\n",
       "    <tr>\n",
       "      <th>19</th>\n",
       "      <td>20</td>\n",
       "      <td>(배상책임) 요양센터는 서비스 제공에 있어 요양원의 귀책사유로 인하여 입소자의 생명...</td>\n",
       "      <td>불리한 조항</td>\n",
       "      <td>63.99%</td>\n",
       "    </tr>\n",
       "    <tr>\n",
       "      <th>20</th>\n",
       "      <td>21</td>\n",
       "      <td>(특별한 보호 및 신체구속금지) 요양센터는 서비스를 제공함에 있어 신체구속이나 입소...</td>\n",
       "      <td>불리한 조항</td>\n",
       "      <td>62.16%</td>\n",
       "    </tr>\n",
       "    <tr>\n",
       "      <th>21</th>\n",
       "      <td>22</td>\n",
       "      <td>(고충대응) 이용자는 제공된 서비스에 대해 불만이 있을 경우 즉시 요양센 터에 고충...</td>\n",
       "      <td>불리한 조항</td>\n",
       "      <td>68.21%</td>\n",
       "    </tr>\n",
       "    <tr>\n",
       "      <th>22</th>\n",
       "      <td>23</td>\n",
       "      <td>(분쟁해결방법) 본 서비스 이용계약과 관련하여 발생한 분쟁에 대하여 요양센 터와 이...</td>\n",
       "      <td>불리한 조항</td>\n",
       "      <td>62.06%</td>\n",
       "    </tr>\n",
       "    <tr>\n",
       "      <th>23</th>\n",
       "      <td>24</td>\n",
       "      <td>(이용계약서의 해석) 본 계약서에 명시되지 않은 사항은 요양센터 관련법규 및 내 부...</td>\n",
       "      <td>불리한 조항</td>\n",
       "      <td>67.73%</td>\n",
       "    </tr>\n",
       "  </tbody>\n",
       "</table>\n",
       "</div>"
      ],
      "text/plain": [
       "    조항번호                                               조항내용    예측결과     신뢰도\n",
       "0      1  (목 적)노인성질환 등으로 혼자서 일상생활을 하기 어려운 노인(장기요양급여수급자)에...  불리한 조항  56.15%\n",
       "1      2  (기본원칙) 갑 은 을 이 사업 성공화를 위한 최대한의 지원을 하고, 을 은 동사업...  유리한 조항  72.66%\n",
       "2      3  (입소 이용로 납부) 갑의 입소당월 이용료는 에 납부하기로 한다. 입소 당월 이후 ...  유리한 조항  73.10%\n",
       "3      4  ( 계약자 의무 ) 갑의 의무 월 이용료 납부 시설의 건전한 생활분위기 조성에 협조...  유리한 조항  68.73%\n",
       "4      5  (계약해지요건) 갑의 해지 갑과 병은 의사에 따라 자유롭게 퇴소를 결정할 수 있으며...  유리한 조항  72.54%\n",
       "5      6  제6항에 의거하여 이에 대한 사항을 을에게 통지하여야 한다. 다만, 부득이한 경우에...  유리한 조항  70.44%\n",
       "6      7                                       ( 퇴소 ) 을은...  유리한 조항  67.98%\n",
       "7      8  항의 규정에 의한 계약해지 요건 시 이에 대한 증빙서류와 함께 계약해지 의사를 갑에...  유리한 조항  73.18%\n",
       "8      9      ( 입소물품 ) 갑은 시설입소 시 개인물품을 을과 협의하여 반입할 수 있다....  유리한 조항  70.13%\n",
       "9     10  ( 면회 및 외출,외박 ) 갑의 면회시간은 매일 09시부터 21시까지로 한다 (단 ...  불리한 조항  51.55%\n",
       "10    11  (시설관리)을은 보건, 위생, 방범, 방화 기타 생활에 필요한 서비스 제공을 위하여...  유리한 조항  71.97%\n",
       "11    12  ( 건강관리 ) 을은 갑의 건강 및 감염병 예방을 위하여 갑과 종사자들에게 연 1회...  불리한 조항  52.89%\n",
       "12    13  (시설물 배상) 갑은 을의 시설물에 대하여 그 본래의 용도로 사용해야 하며, 갑에 ...  불리한 조항  59.77%\n",
       "13    14  (위급 시 조치) 을은 갑의 생명이 위급한 상태라고 판단된 때에는 협약병원, 갑(또...  불리한 조항  50.96%\n",
       "14    15  입소자의 임종 및 장례절차는 가족이나 연고자가 있을 경우와 무연고자를 구별하여 정한...  불리한 조항  57.93%\n",
       "15    16  (식사 및 간식) 을은 1일 3식 및 간식을 갑에게 제공하며, 갑의 상태에 따라 특...  유리한 조항  58.96%\n",
       "16    17  (요양실의 배정) 갑의 요양실 배정은 입소순서에 따르며, 입소 후 갑의 건강상태, ...  유리한 조항  64.85%\n",
       "17    18  (개인정보 보호의무) 을은 갑의 개인정보를 관계규정에 따라 보호하여야 한다. 을은 ...  불리한 조항  63.67%\n",
       "18    19  (기록 및 공개)수급자의 생활과 장기요양서비스에 관한 모든 내용을 상세히 관찰하여 ...  불리한 조항  66.85%\n",
       "19    20  (배상책임) 요양센터는 서비스 제공에 있어 요양원의 귀책사유로 인하여 입소자의 생명...  불리한 조항  63.99%\n",
       "20    21  (특별한 보호 및 신체구속금지) 요양센터는 서비스를 제공함에 있어 신체구속이나 입소...  불리한 조항  62.16%\n",
       "21    22  (고충대응) 이용자는 제공된 서비스에 대해 불만이 있을 경우 즉시 요양센 터에 고충...  불리한 조항  68.21%\n",
       "22    23  (분쟁해결방법) 본 서비스 이용계약과 관련하여 발생한 분쟁에 대하여 요양센 터와 이...  불리한 조항  62.06%\n",
       "23    24  (이용계약서의 해석) 본 계약서에 명시되지 않은 사항은 요양센터 관련법규 및 내 부...  불리한 조항  67.73%"
      ]
     },
     "execution_count": 80,
     "metadata": {},
     "output_type": "execute_result"
    }
   ],
   "source": [
    "# 예측 실행(불리한 계약)\n",
    "predictions = predict(model, device, test1_loader)\n",
    "\n",
    "# 결과 정리\n",
    "results = []\n",
    "for i, (clause, pred) in enumerate(zip(불리_조항들_정제, predictions)):\n",
    "    pred_label = \"유리한 조항\" if pred[1] > 0.5 else \"불리한 조항\"\n",
    "    confidence = max(pred[0], pred[1])\n",
    "    \n",
    "    results.append({\n",
    "        \"조항번호\": i+1,\n",
    "        \"조항내용\": clause[:50] + \"...\",  # 앞부분 50자만 표시\n",
    "        \"예측결과\": pred_label,\n",
    "        \"신뢰도\": f\"{confidence:.2%}\"\n",
    "    })\n",
    "\n",
    "# 결과를 데이터프레임으로 변환하여 출력\n",
    "result_df = pd.DataFrame(results)\n",
    "result_df"
   ]
  },
  {
   "cell_type": "markdown",
   "metadata": {},
   "source": [
    "# 느낀점 및 부족한 점\n",
    "실제의 계약서의 약관으로 내가 만든 분류기를 돌려보니 훈련시 나왔던 성능과 비슷한 결과가 나오지는 않았다. \n",
    "학습에 들어간 데이터는 유리란 조항과 불리한 조항으로만 구성되어있지만, 사실 현실 세계에는 유/불리를 명확히 나눌 수 없는 조항들이 더 많기 때문 이라고 생각한다.\n",
    "또한 법률적 이해관계가 단순히 단어만 가지고 판단하가엔 더 복잡다는 것을 느꼈다. 처음에 구상은 를 판례 데이터를 학습해 판결을 예상하는 모델을 구상하다 이원분류가 더 쉬울 것 같다 생각하여 이 주제 선택하였는데, 생각보다 단순하지 않아 어려울이 있었다.\n",
    "\n",
    "특히 기존BERT모델이 많이 응용되는 분야인 감정 분석의 경우 모델이 분류하기 전 사람이 판단하였을 때 명백히 구분이 되지만 이번 법률적 내용의 경우 사람이 읽어도 유불리에 대해 명확히 구분하기 어려워 한계가 있다고 느꼈다. \n",
    "\n",
    "만약  pu자원과 시간이 더많다면 다른 구조의 여러 모델과 방식으로 여러번 더 시도를 해보고싶다.\n",
    "\n",
    "단순히 자연어 처리 기술이 아닌 COT와 같은 프롬프트 엔지니어링 기법을 이용해 수많은 법률 내용을 학습시킨다면 더 좋은 성느을 낼 수 있을거라는 생각이 든다.   "
   ]
  },
  {
   "cell_type": "markdown",
   "metadata": {},
   "source": []
  }
 ],
 "metadata": {
  "kernelspec": {
   "display_name": "nlp",
   "language": "python",
   "name": "python3"
  },
  "language_info": {
   "codemirror_mode": {
    "name": "ipython",
    "version": 3
   },
   "file_extension": ".py",
   "mimetype": "text/x-python",
   "name": "python",
   "nbconvert_exporter": "python",
   "pygments_lexer": "ipython3",
   "version": "3.7.12"
  }
 },
 "nbformat": 4,
 "nbformat_minor": 2
}
